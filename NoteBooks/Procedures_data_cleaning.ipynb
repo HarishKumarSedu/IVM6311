{
 "cells": [
  {
   "cell_type": "code",
   "execution_count": 13,
   "metadata": {},
   "outputs": [],
   "source": [
    "import os \n",
    "from pathlib import Path\n",
    "abspath = Path('C:\\\\Users\\\\harkum\\\\Documents\\\\6311\\\\Software')\n",
    "os.chdir(abspath)"
   ]
  },
  {
   "cell_type": "code",
   "execution_count": 14,
   "metadata": {},
   "outputs": [
    {
     "data": {
      "text/html": [
       "<div>\n",
       "<style scoped>\n",
       "    .dataframe tbody tr th:only-of-type {\n",
       "        vertical-align: middle;\n",
       "    }\n",
       "\n",
       "    .dataframe tbody tr th {\n",
       "        vertical-align: top;\n",
       "    }\n",
       "\n",
       "    .dataframe thead th {\n",
       "        text-align: right;\n",
       "    }\n",
       "</style>\n",
       "<table border=\"1\" class=\"dataframe\">\n",
       "  <thead>\n",
       "    <tr style=\"text-align: right;\">\n",
       "      <th></th>\n",
       "      <th>Run_startup</th>\n",
       "      <th>Enable_Ana_Testpoint</th>\n",
       "      <th>DACPA_tourn_on_wo_calibration</th>\n",
       "      <th>Procedura_Maurizio</th>\n",
       "      <th>Boost_Test_Default</th>\n",
       "      <th>DAC-PA TDM_768_IN</th>\n",
       "      <th>DAC-PA TDM_768_IN_and_Path_generator</th>\n",
       "      <th>DAC-PA PDM_3MHz_IN</th>\n",
       "      <th>DAC-PA PDM_6MHz_IN</th>\n",
       "      <th>DAC-PA PDM_12MHz_IN</th>\n",
       "      <th>DAC-PA ANALOG_IN_DC_COUPLED</th>\n",
       "      <th>DAC-PA ANALOG_IN_AC_COUPLED</th>\n",
       "      <th>BOOST_FORCE_VBSO19V</th>\n",
       "    </tr>\n",
       "  </thead>\n",
       "  <tbody>\n",
       "    <tr>\n",
       "      <th>0</th>\n",
       "      <td>Force__VBAT__3.6V\\nForce__VDDIO__1.8V\\nForce__...</td>\n",
       "      <td>0x19_0x00 \"Enable reference analog test\"\\nForc...</td>\n",
       "      <td>0x13[4]_1b1 \"Disable authomatic calibration at...</td>\n",
       "      <td>Procedura per consentire la misura dell'offset...</td>\n",
       "      <td>Force__VBIAS__5V\\nForce__VBSO__3.6V\\nForce__SW...</td>\n",
       "      <td>Run_Startup\\n0xFE_0x00 \"in base page\"\\n0x13[4]...</td>\n",
       "      <td>Run_Startup\\n0xFE_0x00 \"in base page\"\\n0x13[4]...</td>\n",
       "      <td>Run_Startup\\n0xFE_0x00 \"in base page\"\\n0x13[4]...</td>\n",
       "      <td>Run_Startup\\n0xFE_0x00 \"in base page\"\\n0x13[4]...</td>\n",
       "      <td>Run_Startup\\n0xFE_0x00 \"in base page\"\\n0x13[4]...</td>\n",
       "      <td>Run_Startup\\n0xFE_0x00 \"in base page\"\\n0x13[4]...</td>\n",
       "      <td>Run_Startup\\n0xFE_0x00 \"in base page\"\\n0x13[4]...</td>\n",
       "      <td>Force__VBIAS__19V\\nForce__VBSO__19V\\n\\n0xFE_0x...</td>\n",
       "    </tr>\n",
       "  </tbody>\n",
       "</table>\n",
       "</div>"
      ],
      "text/plain": [
       "                                         Run_startup  \\\n",
       "0  Force__VBAT__3.6V\\nForce__VDDIO__1.8V\\nForce__...   \n",
       "\n",
       "                                Enable_Ana_Testpoint  \\\n",
       "0  0x19_0x00 \"Enable reference analog test\"\\nForc...   \n",
       "\n",
       "                       DACPA_tourn_on_wo_calibration  \\\n",
       "0  0x13[4]_1b1 \"Disable authomatic calibration at...   \n",
       "\n",
       "                                  Procedura_Maurizio  \\\n",
       "0  Procedura per consentire la misura dell'offset...   \n",
       "\n",
       "                                  Boost_Test_Default  \\\n",
       "0  Force__VBIAS__5V\\nForce__VBSO__3.6V\\nForce__SW...   \n",
       "\n",
       "                                   DAC-PA TDM_768_IN  \\\n",
       "0  Run_Startup\\n0xFE_0x00 \"in base page\"\\n0x13[4]...   \n",
       "\n",
       "                DAC-PA TDM_768_IN_and_Path_generator  \\\n",
       "0  Run_Startup\\n0xFE_0x00 \"in base page\"\\n0x13[4]...   \n",
       "\n",
       "                                  DAC-PA PDM_3MHz_IN  \\\n",
       "0  Run_Startup\\n0xFE_0x00 \"in base page\"\\n0x13[4]...   \n",
       "\n",
       "                                  DAC-PA PDM_6MHz_IN  \\\n",
       "0  Run_Startup\\n0xFE_0x00 \"in base page\"\\n0x13[4]...   \n",
       "\n",
       "                                 DAC-PA PDM_12MHz_IN  \\\n",
       "0  Run_Startup\\n0xFE_0x00 \"in base page\"\\n0x13[4]...   \n",
       "\n",
       "                         DAC-PA ANALOG_IN_DC_COUPLED  \\\n",
       "0  Run_Startup\\n0xFE_0x00 \"in base page\"\\n0x13[4]...   \n",
       "\n",
       "                         DAC-PA ANALOG_IN_AC_COUPLED  \\\n",
       "0  Run_Startup\\n0xFE_0x00 \"in base page\"\\n0x13[4]...   \n",
       "\n",
       "                                 BOOST_FORCE_VBSO19V  \n",
       "0  Force__VBIAS__19V\\nForce__VBSO__19V\\n\\n0xFE_0x...  "
      ]
     },
     "execution_count": 14,
     "metadata": {},
     "output_type": "execute_result"
    }
   ],
   "source": [
    "import pandas as pd \n",
    "import neattext as nt \n",
    "data = pd.read_excel('raw_data/IVM6311_Testing_scripts.xlsx',sheet_name='Procedure')\n",
    "# data.head()\n",
    "# for col in data.columns:\n",
    "#     data[col][0] = data[col][0].split('\\n')\n",
    "data.to_csv('raw_data/Procedure_data.csv')\n",
    "data"
   ]
  },
  {
   "cell_type": "markdown",
   "metadata": {},
   "source": [
    "### 1. List the procedure names \n",
    "<p style = ' color: red' > ! Do not ever change the name of the procedures </p>"
   ]
  },
  {
   "cell_type": "code",
   "execution_count": 15,
   "metadata": {},
   "outputs": [
    {
     "name": "stdout",
     "output_type": "stream",
     "text": [
      "['Run_startup', 'Enable_Ana_Testpoint', 'DACPA_tourn_on_wo_calibration', 'Procedura_Maurizio', 'Boost_Test_Default', 'DAC-PA TDM_768_IN', 'DAC-PA TDM_768_IN_and_Path_generator', 'DAC-PA PDM_3MHz_IN', 'DAC-PA PDM_6MHz_IN', 'DAC-PA PDM_12MHz_IN', 'DAC-PA ANALOG_IN_DC_COUPLED', 'DAC-PA ANALOG_IN_AC_COUPLED', 'BOOST_FORCE_VBSO19V']\n"
     ]
    }
   ],
   "source": [
    "procuedure_names = data.columns.to_list()\n",
    "print(procuedure_names)"
   ]
  },
  {
   "cell_type": "code",
   "execution_count": 16,
   "metadata": {},
   "outputs": [
    {
     "name": "stdout",
     "output_type": "stream",
     "text": [
      "Force__VBIAS__5V\n",
      "Force__VBSO__3.6V\n",
      "Force__SW__3.6V\n",
      "\n",
      "0xFE_0x00 \"Select page 0\"\n",
      "0xB0_0x00 \"en 1 bst low\"\n",
      "0xB1_0x00 \"en 2 bst low\"\n",
      "0xB3[4:3]_0x00 \"en 3 bst low\"\n",
      "0x18[6]_0x01 \"Enable Mirr\"\n",
      "0xB1[6]_0x01 \"Bootstrap en\"\n",
      "0xB2[1]_0x00 \"ls_sel off\"\n",
      "0xB4[2:0]_0x00 \"hsa_hsb_byp off\"\n",
      "0xFE_0x01 \"Select page 1\"\n",
      "0x17[6]_0x01 \"Force Mirr\"\n",
      "0x16[6]_0x01 \"Force Bootstrap\"\n"
     ]
    },
    {
     "data": {
      "text/plain": [
       "0    None\n",
       "Name: Boost_Test_Default, dtype: object"
      ]
     },
     "execution_count": 16,
     "metadata": {},
     "output_type": "execute_result"
    }
   ],
   "source": [
    "# sample of the procedure \n",
    "data['Boost_Test_Default'].apply(print)"
   ]
  },
  {
   "cell_type": "code",
   "execution_count": 17,
   "metadata": {},
   "outputs": [
    {
     "data": {
      "text/plain": [
       "-400.0"
      ]
     },
     "execution_count": 17,
     "metadata": {},
     "output_type": "execute_result"
    }
   ],
   "source": [
    "import re \n",
    "float(*re.findall('[0-9\\.\\-]+', 'Force_Current__VBSO__-400mA'))"
   ]
  },
  {
   "cell_type": "markdown",
   "metadata": {},
   "source": [
    "<h3 style='color: #40E0D0'> Extract the Force signal</p>"
   ]
  },
  {
   "cell_type": "markdown",
   "metadata": {},
   "source": [
    "<p style='color:red'> check all type of force signals </p>"
   ]
  },
  {
   "cell_type": "code",
   "execution_count": 18,
   "metadata": {},
   "outputs": [
    {
     "name": "stdout",
     "output_type": "stream",
     "text": [
      "Force__VBAT__3.6V\n",
      "Force__SDWN__1.8V\n",
      "Force__VBIAS__5V\n",
      "Force__VBSO__3.6V\n",
      "Force__SW__3.6V\n",
      "Force__VBIAS__5V\n",
      "Force__VBSO__3.6V\n",
      "Force_Current__SW__400mA \"chiedere comando corrente\"\n",
      "Force__VBAT__5V\n",
      "Force__VDDIO__1.8V\n",
      "Force__VDD__1.8V\n",
      "Force__VBIAS__5V\n",
      "Force__VBSO__5V\n",
      "Force__SDWN__1.8V\n",
      "Force_Current__SW__-400mA \"sink current -400mA\"\n",
      "Force__VBIAS__5V\n",
      "Force__SW__3.6V\n",
      "Force_Current__VBSO__-400mA \"sink\"\n",
      "Force__VBIAS__12V\n",
      "Force__VBSO__11V\n",
      "Force__extsignal \"with a voltage lower than vbat (also 0 should be fine) so that the boost remains in bypass\"\n",
      "Force__VBIAS__5V\n",
      "Force__VBSO__3.6V\n",
      "Force_Current__SW__-100mA \"sink\"\n",
      "Force_Current__SW__100mA \"inject\"\n",
      "Force__VBIAS__5V\n",
      "Force__extsignal \"with a voltage lower than vbat (also 0 should be fine) so that the boost remains in bypass\"\n",
      "Force__VBAT__5V\n",
      "Force__VDDIO__1.8V\n",
      "Force__VDD__1.8V\n",
      "Force__VBIAS__5V\n",
      "Force__VBSO__5V\n",
      "Force__SW__5V\n",
      "Force__Ramp \"da 4.5V con step di 50mV in discesa finchè non commuta 3-4 volte per capire la threshold\"\n",
      "Force__VPAP_OUT__ 0V \"PA positive output\"\n",
      "Force__VPAN_OUT__0V \"PA negative output\"\n",
      "Force__VPAP_OUT__3.6V \"PA positive output\"\n",
      "Force__VBIAS__5V\n",
      "Force__VBSO__3.6V\n",
      "Force__Current__SW__300mA \"inject\"\n",
      "Force__VBAT__3.6V\n",
      "Force__VDDIO__1.8V\n",
      "Force__VDD__1.8V\n",
      "Force__SDWN__1.8V\n",
      "Force__SDWN__OPEN\n",
      "Force__VBIAS__5V\n",
      "Force__VBSO__3.6V\n",
      "Force__SW__3.6V\n",
      "Force__VBIAS__19V\n",
      "Force__VBSO__19V\n"
     ]
    }
   ],
   "source": [
    "from typing import List\n",
    "import json\n",
    "import random\n",
    "import re \n",
    "force_instructions = {}\n",
    "for sheet in ['reference','Boost', 'Digital']:\n",
    "    sheet = 'raw_data/'+sheet+'_data.csv'\n",
    "    data = pd.read_csv(sheet)\n",
    "    for col in data.columns.to_list()[1:]:\n",
    "        instructions = data[col][1].split('\\n')\n",
    "        for i,instruction in enumerate(instructions):\n",
    "            if re.match('force',instruction.lower()) and '0x' not in instruction.lower():\n",
    "                force_instructions.update({random.randint(0,1000) : instruction})\n",
    "\n",
    "data = pd.read_csv('raw_data/Procedure_data.csv')\n",
    "for col in data.columns.to_list()[1:]:\n",
    "    for procedure in data[col]:\n",
    "        for instruction in procedure.split('\\n'):\n",
    "            \n",
    "            if 'Force' in instruction and '0x' not in instruction:\n",
    "                force_instructions.update({random.randint(1000,2000) : instruction})\n",
    "                \n",
    "for i in force_instructions.values():          \n",
    "    print(i)\n",
    "    \n",
    "with open('raw_data/force_instruction_types.json', 'w') as file:\n",
    "    json.dump({\"\":force_instructions}, file)\n",
    "    "
   ]
  },
  {
   "cell_type": "code",
   "execution_count": 19,
   "metadata": {},
   "outputs": [
    {
     "data": {
      "text/plain": [
       "{'Signal': 'SDWN', 'Value': 'OPEN', 'Unit': None}"
      ]
     },
     "execution_count": 19,
     "metadata": {},
     "output_type": "execute_result"
    }
   ],
   "source": [
    "import re \n",
    "from typing import List\n",
    "def extract_Force__Instruction(Instruction: str):\n",
    "    force_signal = {}\n",
    "    def delist(x:List):\n",
    "        if isinstance(x,List) and len(x) != 0 :\n",
    "            x=x[-1]\n",
    "        elif len(x) == 0:\n",
    "            x = 0\n",
    "        else:\n",
    "            x = x\n",
    "        return x \n",
    "    \n",
    "    def value_unit(value, unit):\n",
    "        if 'm' in unit:\n",
    "            value = value*10**-3\n",
    "            unit = unit.strip('m').capitalize()\n",
    "            \n",
    "        elif 'u' in unit:\n",
    "            value = value*10**-6\n",
    "            unit = unit.strip('u').capitalize()\n",
    "            \n",
    "        elif 'n' in unit:\n",
    "            value = value*10**-9\n",
    "            unit = unit.strip('n').capitalize()\n",
    "            \n",
    "        elif 'k' in unit:\n",
    "            value = value*10**3\n",
    "            unit = unit.strip('k').capitalize()\n",
    "            \n",
    "        else :\n",
    "            value = value\n",
    "            unit = unit.capitalize()\n",
    "\n",
    "        return value, unit\n",
    "    \n",
    "    # match the small or capital letter force key word\n",
    "    if re.match('[Force]|[force]', Instruction) and re.search('__', Instruction) :\n",
    "        signal = Instruction\n",
    "        # signal = re.findall(re.compile('([A-Za-z0-9\\.\\-]+)'), Instruction)[1:] # find the force signal and with the value \n",
    "        #remove the comments if there are any comments \n",
    "        if re.search(r\"\\\"(.*?)\\\"\",signal):\n",
    "            signal = re.sub(r\"\\\"(.*?)\\\"\",'',signal)\n",
    "\n",
    "        signal = signal.split('__')[1:] # find the force signal and with the value \n",
    "        #check the signal and value, array length \n",
    "        # if the instruction has signal and the value array length must the 2 \n",
    "        signal_length = len(signal)\n",
    "        if signal_length == 2:\n",
    "            ########################\n",
    "            # for force instruction length 2 \n",
    "            # @pattren 'Force_Current__SW__400mA'\n",
    "            ########################\n",
    "\n",
    "            signal_name = signal[0]\n",
    "                #check the signal unit and extract the number \n",
    "            unit = delist(re.findall('[A-Za-z]+', signal[1].lower()))\n",
    "            if  value := float(delist(re.findall('[0-9\\.\\-]+', signal[1]))) :\n",
    "                # check the volatage or current \n",
    "                value, unit = value_unit(value,unit)\n",
    "            # else check for the open or close \n",
    "                \n",
    "            elif value := delist(re.findall('OPEN', signal[1])):\n",
    "                unit = None \n",
    "            elif value := delist(re.findall('CLOSE', signal[1])):\n",
    "                    unit = None\n",
    "                    \n",
    "            force_signal = {\n",
    "            'Signal' : signal_name,\n",
    "            'Value'  : value ,\n",
    "            'Unit'   : unit\n",
    "            }\n",
    "        \n",
    "        elif signal_length == 3:\n",
    "            ########################\n",
    "            # for force instruction length 2 \n",
    "            # @pattren 'Force_Current__SW__400mA'\n",
    "            ########################\n",
    "            signal_name = signal[1]\n",
    "            #check the signal unit and extract the number \n",
    "            unit = delist(re.findall('[A-Za-z]+', signal[2].lower()))\n",
    "            if  value := float(delist(re.findall('[0-9\\.\\-]+', signal[2]))) :\n",
    "                # check the volatage or current \n",
    "                value, unit = value_unit(value,unit)\n",
    "\n",
    "            # else check for the open or close \n",
    "            elif value := delist(re.findall('OPEN', signal[1])):\n",
    "                unit = None \n",
    "            elif value := delist(re.findall('CLOSE', signal[1])):\n",
    "                unit = None \n",
    "\n",
    "            force_signal = {\n",
    "                'Signal' : signal_name,\n",
    "                'Value'  : value ,\n",
    "                'Unit'   : unit\n",
    "            }\n",
    "        \n",
    "        \n",
    "    return force_signal    \n",
    "# extract_Force__Instruction(Instruction = 'Force_Current__SW__400mA')\n",
    "# extract_Force__Instruction(Instruction = 'Force_Current__VBSO__-400mA')\n",
    "# extract_Force__Instruction(Instruction = 'Force_Current__SW__400mA \"chiedere comando corrente\"')\n",
    "extract_Force__Instruction(Instruction = 'Force__SDWN__OPEN')\n",
    "# extract_Force__Instruction(Instruction = 'Force__SDWN__1.8V')"
   ]
  },
  {
   "cell_type": "markdown",
   "metadata": {},
   "source": [
    "<h5 style=\"color : #ffbd33\" > Test all types of Force signal in the document </h5>"
   ]
  },
  {
   "cell_type": "code",
   "execution_count": 20,
   "metadata": {},
   "outputs": [
    {
     "name": "stdout",
     "output_type": "stream",
     "text": [
      "Force__extsignal \"with a voltage lower than vbat (also 0 should be fine) so that the boost remains in bypass\"\n",
      "Force__extsignal \"with a voltage lower than vbat (also 0 should be fine) so that the boost remains in bypass\"\n",
      "Force__Ramp \"da 4.5V con step di 50mV in discesa finchè non commuta 3-4 volte per capire la threshold\"\n"
     ]
    }
   ],
   "source": [
    "# for instruction in force_instructions.values():\n",
    "#     print(instruction)\n",
    "#     if force_instruction_parse := extract_Force__Instruction(instruction):\n",
    "#         print(force_instruction_parse)\n",
    "#     else:\n",
    "#         print('.........', instruction)\n",
    "        \n",
    "clean_force_instructions = {}\n",
    "Signals = []\n",
    "for i,instruction in enumerate(force_instructions.values()):\n",
    "    # print(instruction_set)\n",
    "    if register_instruction_parse := extract_Force__Instruction(instruction):\n",
    "        # print(register_instruction_parse)\n",
    "        clean_force_instructions.update({\n",
    "            i:{\n",
    "                'set':instruction,\n",
    "                'clean':register_instruction_parse\n",
    "            }\n",
    "        })\n",
    "        signal = register_instruction_parse.get('Signal')\n",
    "        if   signal not in Signals:\n",
    "            Signals.append(signal)\n",
    "    else:\n",
    "        print(instruction)\n",
    "        clean_force_instructions.update({\n",
    "            i:None\n",
    "        })\n",
    "with open('raw_data/json/clean_force_instructions.json', 'w') as file:\n",
    "    json.dump(clean_force_instructions, file)"
   ]
  },
  {
   "cell_type": "markdown",
   "metadata": {},
   "source": [
    "<h3 style='color: #2ecc71' > Extract Measure signal </h3>"
   ]
  },
  {
   "cell_type": "markdown",
   "metadata": {},
   "source": [
    "<h5 style='color: #ff5733'> Extract all the  measure signal pattrens</h5>"
   ]
  },
  {
   "cell_type": "code",
   "execution_count": 21,
   "metadata": {},
   "outputs": [
    {
     "name": "stdout",
     "output_type": "stream",
     "text": [
      "{808: 'Measure__Voltage__SDWN', 659: 'Measure__Voltage__SDWN', 628: 'Measure__Voltage__SDWN', 674: 'Measure__Voltage__SDWN', 334: 'Measure__Frequency__FSYN', 986: 'Measure__current__VDD', 487: 'Measure__EXT_ZERO_OFFSET__diff__OUTP__OUTM', 230: 'Measure__Voltage__SDWN', 392: 'Measure__Voltage__SDWN', 300: 'Measure__Voltage__VBSO', 636: 'Measure__Voltage__FSYN \"it should be 0\"', 723: 'Measure__Voltage__FSYN \"it should be 1\"', 216: 'Measure__Voltage__FSYN', 409: 'Measure__Voltage__SDI \"FSYN should be 0 and SDI 1\"', 205: 'Measure__Voltage__FSYN', 714: 'Measure__Voltage__SDI \"FSYN should be 1 and SDI 0\"', 86: 'Measure__Voltage__FSYN', 455: 'Measure__Voltage_SDI \"da and a, FSYN should be 0 and SDI 0\"', 954: 'Measure__Voltage__FSYN \"out_comp, it should be 0\"', 833: 'Measure__Voltage__FSYN \"out_comp, it should be 1\"', 982: 'Measure__THD__AP', 755: 'Measure__Voltage__SDI \"FSYN should remain 0 since vbias is not enabled and SDI 1\"', 838: 'Measure__Voltage__FSYN', 82: 'Measure__Voltage_SDI \"db and b, FSYN should be 0 and SDI 0\"', 173: 'Measure__Voltage__FSYN \"out_comp, it should be 0\"', 942: 'Measure__Voltage__FSYN \"out_comp, it should be 1\"', 356: 'Measure__Voltage__SDWN \"should be clamped high (3V)\"', 373: 'Measure__Voltage__SDI \"FSYN should be 0 and SDI 1\"', 697: 'Measure__Voltage__FSYN \"as soon as trigger, need command\"', 190: 'Measure__Voltage__SDWN \"should be clamped high (3V)\"', 643: 'Measure__Voltage__SDWN \"should be clamped low (1.5V)\"', 981: 'Measure__Voltage__SDWN \"should be clamped low (1,5V)\"', 172: 'Measure__Voltage__SDWN \"should be 3V\"', 618: 'Measure__Voltage__SDWN \"should be 1,5V\"', 293: 'Measure__Voltage__SDWN \"should be 0,26V\"', 518: 'Measure__Voltage__SDWN \"Misura VBSO PAR, should be 0,263V more or less\" ', 989: 'Measure__Voltage__SDWN \"Misura VBIAS PAR, should be 0,18V more or less\"', 378: 'Measure__Voltage__FSYN \"it should be 1\"', 793: 'Measure__Voltage__FSYN \"as soon as trigger, need command\"', 302: 'Measure__Voltage__FSYN \"as soon as trigger, need command\"', 869: 'Measure__Voltage__SDWN \"it should be corresponding to the 9.9V threshold approximately (0.72V)\"', 506: 'Measure__Voltage__SDWN \"it should be corresponding to the 22.55V threshold approximately (1.64V)\"', 839: 'Measure__Voltage__SDWN \"should be 0V\"', 66: 'Measure__Voltage__SDWN \"should be 0.22V\"', 814: 'Measure__Voltage__SDWN \"should be 0.44V\"', 884: 'Measure__THD__AP', 303: 'Measure__Voltage__SDWN \"should be 1.38V\"', 360: 'Measure__Voltage__SDWN \"it should be 0.24V, which is the +1 threshold of VREF_BIAS\"', 329: 'Measure__Voltage__SDWN \"should be 0.22V\"', 364: 'Measure__Voltage__SDWN \"should be 0.54V\"', 584: 'Measure__Voltage__SDWN \"should be 0.56V,which is the +1 threshold\"', 895: 'Measure__Voltage__SDWN \"should be 0.9V, which is the +1 threshold\"', 624: 'Measure__Voltage__SDWN \"should be 0.88V\"', 336: 'Measure__Voltage__SDWN', 775: 'Measure__Voltage__SDWN \"threshold measure vref_ovp, it should be corresponding to the 9V threshold\"', 915: 'Measure__Voltage__FSYN \"OVP_BSO output, it should be 0 since BSO 3.6V<9V\"', 81: 'Measure__Voltage__FSYN \"OVP_BSO output, it should be 1, since we force the VBSO the discharge should be on but never dischargin VBSO\"', 612: 'Measure__Voltage__SDWN \"threshold measure vref_bias, it should be corresponding to the 9,36V\"', 135: 'Measure__Voltage__FSYN \"OVP_BIAS output, it should be 0 since Bias 6V<9V\"', 418: 'Measure__Voltage__FSYN \"OVP_BIAS output, it should be 1, since we force the VBIAS the discharge should be on but never dischargin VBIAS\"', 87: 'Measure__Voltage__FSYN \"it should be 0 since the ref is higher than the VBSOPAR so the system is not in tracking\"', 283: 'Measure__Voltage__FSYN \"now it should be 1 since the VBSO Partition is higher than the ref, so the system results in tracking\"', 765: 'Measure__Voltage__FSYN \"it should be 0\"', 613: 'Measure__Voltage__VBSO \"should be 9,075V\"', 90: 'Measure__Voltage__VBSO \"should be 14,025V\"', 798: 'Measure__Voltage__VBSO \"should be 20,075V\"', 552: 'Measure__current__VBAT', 821: 'Measure__Voltage__BIAS \"should be 15,4V\"', 746: 'Measure__Voltage__BIAS \"should be 24,2V\"', 995: 'Measure__Voltage__SDWN \"should be 1V more or less\"', 804: 'Measure__Voltage__FSYN \"should be 0\"', 646: 'Measure__Voltage__SDI \"should be 0\"', 902: 'Measure__Voltage__SDWN \"should be 0\"', 496: 'Measure__Voltage__FSYN \"should be 1\"', 445: 'Measure__Voltage__SDI \"should be 1\"', 463: 'Measure__Voltage__FSYN \"it should be 0 since the ref is higher than the PA OUTPUT\"', 434: 'Measure__Voltage__FSYN \"now it should be 1 since the PA output should be higher than the ref\"', 425: 'Measure__current__VDDIO', 824: 'Measure__Voltage__FSYN \"it should be 1 since the current flowing is higher than the selected threshold (200mA)\"', 446: 'Measure__flatness__AP', 553: 'Measure__EXT_IDLE_OFFSET__diff__OUTP__OUTM', 363: 'Measure__THD__AP', 102: 'Measure__flatness__AP', 266: 'Measure__PSRR__AP', 37: 'Measure__current__VDDIO', 151: 'Measure__current__VDD', 27: 'Measure__current__VBAT', 791: 'Measure__noise__AP', 688: 'Measure__current__VDDIO', 820: 'Measure__current__VDD', 291: 'Measure__flatness__AP', 223: 'Measure__PSRR__AP', 930: 'Measure__noise__AP', 779: 'Measure__current__VDD', 156: 'Measure__Current__SDWN', 0: 'Measure__Current__SDWN                                                                                                                                                          ', 326: 'Measure__current__VDDIO', 693: 'Measure__current__VDD', 888: 'Measure__current__VBAT', 615: 'Measure__THD__AP', 720: 'Measure__flatness__AP', 524: 'Measure__PSRR__AP', 840: 'Measure__current__VDD', 750: 'Measure__current__VBAT', 171: 'Measure__noise__AP', 810: 'Measure__current__VDDIO', 563: 'Measure__current__VDD', 774: 'Measure__current__VBAT', 369: 'Measure__current__VDD', 119: 'Measure__current__VBAT', 514: 'Measure__noise__AP', 220: 'Measure__current__VDDIO', 122: 'Measure__current__VDD', 231: 'Measure__current__VBAT', 390: 'Measure__THD__AP', 315: 'Measure__flatness__AP', 950: 'Measure__PSRR__AP', 724: 'Measure__current__VDDIO', 238: 'Measure__current__VDD', 175: 'Measure__current__VBAT', 525: 'Measure__noise__AP', 384: 'Measure__current__VDDIO', 472: 'Measure__current__VDD', 802: 'Measure__current__VBAT', 11: 'Measure__THD__AP', 68: 'Measure__flatness__AP', 664: 'Measure__PSRR__AP', 192: 'Measure__current__VDDIO', 262: 'Measure__current__VDD', 822: 'Measure__current__VBAT', 64: 'Measure__noise__AP', 450: 'Measure__current__VDDIO', 444: 'Measure__current__VDD', 867: 'Measure__current__VBAT', 648: 'Measure__THD__AP', 507: 'Measure__PSRR__AP', 6: 'Measure__current__VDDIO', 448: 'Measure__current__VDDIO', 286: 'Measure__current__VBAT', 897: 'Measure__Current__SDWN', 528: 'Measure__Current__SDWN', 623: 'Measure__Voltage__SDWN', 788: 'Measure__Voltage__SDWN', 403: 'Measure__Voltage__SDWN'}\n"
     ]
    }
   ],
   "source": [
    "from typing import List\n",
    "import json\n",
    "import random\n",
    "import re \n",
    "import pandas as pd \n",
    "measure_instructions = {}\n",
    "for sheet in ['Digital','Reference','Boost','DAC+PA','AZ_COMP']:\n",
    "    sheet = 'raw_data/'+sheet+'_data.csv'\n",
    "    data = pd.read_csv(sheet)\n",
    "    for col in data.columns.to_list()[1:]:\n",
    "        instructions = data[col][1].split('\\n')\n",
    "        for i,instruction in enumerate(instructions):\n",
    "            if re.match('meas',instruction.lower()) and '0x' not in instruction.lower():\n",
    "                measure_instructions.update({random.randint(0,1000) : instruction})\n",
    "print(measure_instructions)"
   ]
  },
  {
   "cell_type": "markdown",
   "metadata": {},
   "source": [
    "<h5 style=\"color : #ffbd33\" > Parse Measure signal </h5>"
   ]
  },
  {
   "cell_type": "code",
   "execution_count": 22,
   "metadata": {},
   "outputs": [
    {
     "data": {
      "text/plain": [
       "{'Signal': 'SDWN', 'Unit': 'Current'}"
      ]
     },
     "execution_count": 22,
     "metadata": {},
     "output_type": "execute_result"
    }
   ],
   "source": [
    "\n",
    "import re \n",
    "from typing import List\n",
    "def extract_Measure__Instruction(Instruction: str):\n",
    "    measure_signal = {}\n",
    "    signal = Instruction\n",
    "\n",
    "    if re.search(r\"\\\"(.*?)\\\"\",signal):\n",
    "        signal = re.sub(r\"\\\"(.*?)\\\"\",'',signal)\n",
    "        \n",
    "    if re.match('meas', signal.lower()):\n",
    "        signal = re.findall('[A-Za-z0-9\\.]+', signal)[1:] # find the measure signal and with the value \n",
    "        #check the signal and value, array length \n",
    "        # if the instruction has signal and the value array length must the 2 \n",
    "        if len(signal) >= 2:\n",
    "            signal_name = signal[1]\n",
    "            unit = signal[0]\n",
    "\n",
    "            measure_signal = {\n",
    "                'Signal' : signal_name,\n",
    "                'Unit'   : unit\n",
    "            }\n",
    "\n",
    "    return measure_signal    \n",
    "extract_Measure__Instruction(Instruction = 'Measure__Current__SDWN')"
   ]
  },
  {
   "cell_type": "markdown",
   "metadata": {},
   "source": [
    "<h5 style=\"color :#33c5ff\" > Testing the Measure signal </h5>"
   ]
  },
  {
   "cell_type": "code",
   "execution_count": 23,
   "metadata": {},
   "outputs": [],
   "source": [
    "\n",
    "# for instruction in measure_instructions.values():\n",
    "#     print(instruction)\n",
    "#     if measure_instruction_parse := extract_Measure__Instruction(instruction):\n",
    "#         print(measure_instruction_parse)\n",
    "#     else:\n",
    "#         print('.........', instruction)\n",
    "        \n",
    "\n",
    "clean_measure_instructions = {}\n",
    "for i,instruction in measure_instructions.items():\n",
    "    # print(instruction_set)\n",
    "    if register_instruction_parse := extract_Measure__Instruction(instruction):\n",
    "        # print(register_instruction_parse)\n",
    "        clean_measure_instructions.update({\n",
    "            i:{\n",
    "                'set':instruction,\n",
    "                'clean':register_instruction_parse\n",
    "            }\n",
    "        })\n",
    "        signal = register_instruction_parse.get('Signal')\n",
    "        if   signal not in Signals:\n",
    "            Signals.append(signal)\n",
    "    else:\n",
    "        print(instruction)\n",
    "        clean_measure_instructions.update({\n",
    "            i:None\n",
    "        })\n",
    "with open('raw_data/json/clean_measure_instructions.json', 'w') as file:\n",
    "    json.dump(clean_measure_instructions, file)\n",
    "with open('raw_data/json/signals.json', 'w') as file:\n",
    "    json.dump({\"\":Signals}, file)"
   ]
  },
  {
   "cell_type": "code",
   "execution_count": 24,
   "metadata": {},
   "outputs": [
    {
     "name": "stdout",
     "output_type": "stream",
     "text": [
      "\n"
     ]
    },
    {
     "data": {
      "text/plain": [
       "0.0001"
      ]
     },
     "execution_count": 24,
     "metadata": {},
     "output_type": "execute_result"
    }
   ],
   "source": [
    "import re \n",
    "from typing import List\n",
    "def extract_Delay__Instruction(Instruction: str):\n",
    "    delay = 0\n",
    "    # meath the measure signal\n",
    "    Instruction = Instruction.lower()\n",
    "    if re.match('wait', Instruction):\n",
    "        signal = re.findall('[A-Za-z0-9\\.]+', Instruction)[1:] # find the measure signal and with the value \n",
    "        #check the signal and value, array length \n",
    "        # if the instruction has signal and the value array length must the 2 \n",
    "        if len(signal) >= 2:\n",
    "            print()\n",
    "            delay = float( (lambda x :  float(*x) if isinstance(x,List) else float(*x))(re.findall('[0-9\\.]+', signal[1])))\n",
    "            # check for the milli seconds \n",
    "            if 'ms' in signal[1]:\n",
    "                delay  = delay* 10**-3\n",
    "            # check for the micro seconds \n",
    "            elif 'us' in signal[1]:\n",
    "                delay  = delay* 10**-6\n",
    "    return delay    \n",
    "extract_Delay__Instruction(Instruction = 'Wait__delay__0.1ms')"
   ]
  }
 ],
 "metadata": {
  "kernelspec": {
   "display_name": "env",
   "language": "python",
   "name": "python3"
  },
  "language_info": {
   "codemirror_mode": {
    "name": "ipython",
    "version": 3
   },
   "file_extension": ".py",
   "mimetype": "text/x-python",
   "name": "python",
   "nbconvert_exporter": "python",
   "pygments_lexer": "ipython3",
   "version": "3.11.5"
  }
 },
 "nbformat": 4,
 "nbformat_minor": 2
}
