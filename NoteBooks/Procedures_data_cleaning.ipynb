{
 "cells": [
  {
   "cell_type": "code",
   "execution_count": 36,
   "metadata": {},
   "outputs": [],
   "source": [
    "import os \n",
    "from pathlib import Path\n",
    "abspath = Path('C:\\\\Users\\\\harkum\\\\Documents\\\\6311\\\\Software')\n",
    "os.chdir(abspath)"
   ]
  },
  {
   "cell_type": "code",
   "execution_count": 37,
   "metadata": {},
   "outputs": [
    {
     "data": {
      "text/html": [
       "<div>\n",
       "<style scoped>\n",
       "    .dataframe tbody tr th:only-of-type {\n",
       "        vertical-align: middle;\n",
       "    }\n",
       "\n",
       "    .dataframe tbody tr th {\n",
       "        vertical-align: top;\n",
       "    }\n",
       "\n",
       "    .dataframe thead th {\n",
       "        text-align: right;\n",
       "    }\n",
       "</style>\n",
       "<table border=\"1\" class=\"dataframe\">\n",
       "  <thead>\n",
       "    <tr style=\"text-align: right;\">\n",
       "      <th></th>\n",
       "      <th>Run_startup</th>\n",
       "      <th>Enable_Ana_Testpoint</th>\n",
       "      <th>DACPA_tourn_on_wo_calibration</th>\n",
       "      <th>Procedura_Maurizio</th>\n",
       "      <th>Boost_Test_Default</th>\n",
       "      <th>DAC-PA TDM_768_IN</th>\n",
       "      <th>DAC-PA TDM_768_IN_and_Path_generator</th>\n",
       "      <th>DAC-PA PDM_3MHz_IN</th>\n",
       "      <th>DAC-PA PDM_6MHz_IN</th>\n",
       "      <th>DAC-PA PDM_12MHz_IN</th>\n",
       "      <th>DAC-PA ANALOG_IN_DC_COUPLED</th>\n",
       "      <th>DAC-PA ANALOG_IN_AC_COUPLED</th>\n",
       "      <th>BOOST_FORCE_VBSO19V</th>\n",
       "    </tr>\n",
       "  </thead>\n",
       "  <tbody>\n",
       "    <tr>\n",
       "      <th>0</th>\n",
       "      <td>Force__VBAT__3.6V\\nForce__VDDIO__1.8V\\nForce__...</td>\n",
       "      <td>0x19_0x00 \"Enable reference analog test\"\\nForc...</td>\n",
       "      <td>0x13[4]_1b1 \"Disable authomatic calibration at...</td>\n",
       "      <td>Procedura per consentire la misura dell'offset...</td>\n",
       "      <td>Force__VBIAS__5V\\nForce__VBSO__3.6V\\nForce__SW...</td>\n",
       "      <td>Run_Startup\\n0xFE_0x00 \"in base page\"\\n0x13[4]...</td>\n",
       "      <td>Run_Startup\\n0xFE_0x00 \"in base page\"\\n0x13[4]...</td>\n",
       "      <td>Run_Startup\\n0xFE_0x00 \"in base page\"\\n0x13[4]...</td>\n",
       "      <td>Run_Startup\\n0xFE_0x00 \"in base page\"\\n0x13[4]...</td>\n",
       "      <td>Run_Startup\\n0xFE_0x00 \"in base page\"\\n0x13[4]...</td>\n",
       "      <td>Run_Startup\\n0xFE_0x00 \"in base page\"\\n0x13[4]...</td>\n",
       "      <td>Run_Startup\\n0xFE_0x00 \"in base page\"\\n0x13[4]...</td>\n",
       "      <td>Force__VBIAS__19V\\nForce__VBSO__19V\\n\\n0xFE_0x...</td>\n",
       "    </tr>\n",
       "  </tbody>\n",
       "</table>\n",
       "</div>"
      ],
      "text/plain": [
       "                                         Run_startup  \\\n",
       "0  Force__VBAT__3.6V\\nForce__VDDIO__1.8V\\nForce__...   \n",
       "\n",
       "                                Enable_Ana_Testpoint  \\\n",
       "0  0x19_0x00 \"Enable reference analog test\"\\nForc...   \n",
       "\n",
       "                       DACPA_tourn_on_wo_calibration  \\\n",
       "0  0x13[4]_1b1 \"Disable authomatic calibration at...   \n",
       "\n",
       "                                  Procedura_Maurizio  \\\n",
       "0  Procedura per consentire la misura dell'offset...   \n",
       "\n",
       "                                  Boost_Test_Default  \\\n",
       "0  Force__VBIAS__5V\\nForce__VBSO__3.6V\\nForce__SW...   \n",
       "\n",
       "                                   DAC-PA TDM_768_IN  \\\n",
       "0  Run_Startup\\n0xFE_0x00 \"in base page\"\\n0x13[4]...   \n",
       "\n",
       "                DAC-PA TDM_768_IN_and_Path_generator  \\\n",
       "0  Run_Startup\\n0xFE_0x00 \"in base page\"\\n0x13[4]...   \n",
       "\n",
       "                                  DAC-PA PDM_3MHz_IN  \\\n",
       "0  Run_Startup\\n0xFE_0x00 \"in base page\"\\n0x13[4]...   \n",
       "\n",
       "                                  DAC-PA PDM_6MHz_IN  \\\n",
       "0  Run_Startup\\n0xFE_0x00 \"in base page\"\\n0x13[4]...   \n",
       "\n",
       "                                 DAC-PA PDM_12MHz_IN  \\\n",
       "0  Run_Startup\\n0xFE_0x00 \"in base page\"\\n0x13[4]...   \n",
       "\n",
       "                         DAC-PA ANALOG_IN_DC_COUPLED  \\\n",
       "0  Run_Startup\\n0xFE_0x00 \"in base page\"\\n0x13[4]...   \n",
       "\n",
       "                         DAC-PA ANALOG_IN_AC_COUPLED  \\\n",
       "0  Run_Startup\\n0xFE_0x00 \"in base page\"\\n0x13[4]...   \n",
       "\n",
       "                                 BOOST_FORCE_VBSO19V  \n",
       "0  Force__VBIAS__19V\\nForce__VBSO__19V\\n\\n0xFE_0x...  "
      ]
     },
     "execution_count": 37,
     "metadata": {},
     "output_type": "execute_result"
    }
   ],
   "source": [
    "import pandas as pd \n",
    "import neattext as nt \n",
    "data = pd.read_excel('raw_data/IVM6311_Testing_scripts.xlsx',sheet_name='Procedure')\n",
    "# data.head()\n",
    "# for col in data.columns:\n",
    "#     data[col][0] = data[col][0].split('\\n')\n",
    "data.to_csv('raw_data/Procedure_data.csv')\n",
    "data"
   ]
  },
  {
   "cell_type": "markdown",
   "metadata": {},
   "source": [
    "### 1. List the procedure names \n",
    "<p style = ' color: red' > ! Do not ever change the name of the procedures </p>"
   ]
  },
  {
   "cell_type": "code",
   "execution_count": 38,
   "metadata": {},
   "outputs": [
    {
     "name": "stdout",
     "output_type": "stream",
     "text": [
      "['Run_startup', 'Enable_Ana_Testpoint', 'DACPA_tourn_on_wo_calibration', 'Procedura_Maurizio', 'Boost_Test_Default', 'DAC-PA TDM_768_IN', 'DAC-PA TDM_768_IN_and_Path_generator', 'DAC-PA PDM_3MHz_IN', 'DAC-PA PDM_6MHz_IN', 'DAC-PA PDM_12MHz_IN', 'DAC-PA ANALOG_IN_DC_COUPLED', 'DAC-PA ANALOG_IN_AC_COUPLED', 'BOOST_FORCE_VBSO19V']\n"
     ]
    }
   ],
   "source": [
    "procuedure_names = data.columns.to_list()\n",
    "print(procuedure_names)"
   ]
  },
  {
   "cell_type": "code",
   "execution_count": 39,
   "metadata": {},
   "outputs": [
    {
     "name": "stdout",
     "output_type": "stream",
     "text": [
      "Force__VBIAS__5V\n",
      "Force__VBSO__3.6V\n",
      "Force__SW__3.6V\n",
      "\n",
      "0xFE_0x00 \"Select page 0\"\n",
      "0xB0_0x00 \"en 1 bst low\"\n",
      "0xB1_0x00 \"en 2 bst low\"\n",
      "0xB3[4:3]_0x00 \"en 3 bst low\"\n",
      "0x18[6]_0x01 \"Enable Mirr\"\n",
      "0xB1[6]_0x01 \"Bootstrap en\"\n",
      "0xB2[1]_0x00 \"ls_sel off\"\n",
      "0xB4[2:0]_0x00 \"hsa_hsb_byp off\"\n",
      "0xFE_0x01 \"Select page 1\"\n",
      "0x17[6]_0x01 \"Force Mirr\"\n",
      "0x16[6]_0x01 \"Force Bootstrap\"\n"
     ]
    },
    {
     "data": {
      "text/plain": [
       "0    None\n",
       "Name: Boost_Test_Default, dtype: object"
      ]
     },
     "execution_count": 39,
     "metadata": {},
     "output_type": "execute_result"
    }
   ],
   "source": [
    "# sample of the procedure \n",
    "data['Boost_Test_Default'].apply(print)"
   ]
  },
  {
   "cell_type": "code",
   "execution_count": 40,
   "metadata": {},
   "outputs": [
    {
     "data": {
      "text/plain": [
       "-400.0"
      ]
     },
     "execution_count": 40,
     "metadata": {},
     "output_type": "execute_result"
    }
   ],
   "source": [
    "import re \n",
    "float(*re.findall('[0-9\\.\\-]+', 'Force_Current__VBSO__-400mA'))"
   ]
  },
  {
   "cell_type": "markdown",
   "metadata": {},
   "source": [
    "<h3 style='color: #40E0D0'> Extract the Force signal</p>"
   ]
  },
  {
   "cell_type": "markdown",
   "metadata": {},
   "source": [
    "<p style='color:red'> check all type of force signals </p>"
   ]
  },
  {
   "cell_type": "code",
   "execution_count": 41,
   "metadata": {},
   "outputs": [
    {
     "name": "stdout",
     "output_type": "stream",
     "text": [
      "Force__VBAT__3.6V\n",
      "Force__SDWN__1.8V\n",
      "Force__VBIAS__5V\n",
      "Force__VBSO__3.6V\n",
      "Force__SW__3.6V\n",
      "Force__VBIAS__5V\n",
      "Force__VBSO__3.6V\n",
      "Force_Current__SW__400mA \"chiedere comando corrente\"\n",
      "Force__VBAT__5V\n",
      "Force__VDDIO__1.8V\n",
      "Force__VDD__1.8V\n",
      "Force__VBIAS__5V\n",
      "Force__VBSO__5V\n",
      "Force__SDWN__1.8V\n",
      "Force_Current__SW__-400mA \"sink current -400mA\"\n",
      "Force__VBIAS__5V\n",
      "Force__SW__3.6V\n",
      "Force_Current__VBSO__-400mA \"sink\"\n",
      "Force__VBIAS__12V\n",
      "Force__VBSO__11V\n",
      "Force__VBIAS__11V\n",
      "Force__VBIAS__5V\n",
      "Force__VBSO__3.6V\n",
      "Force_Current__SW__-100mA \"sink\"\n",
      "Force_Current__SW__100mA \"inject\"\n",
      "Force__VBIAS__5V\n",
      "Force__extsignal \"with a voltage lower than vbat (also 0 should be fine) so that the boost remains in bypass\"\n",
      "Force__extsignal \"with a voltage lower than vbat (also 0 should be fine) so that the boost remains in bypass\"\n",
      "Force__VBAT__5V\n",
      "Force__VDDIO__1.8V\n",
      "Force__VDD__1.8V\n",
      "Force__VBIAS__5V\n",
      "Force__VBSO__5V\n",
      "Force__SW__5V\n",
      "Force__Ramp \"da 4.5V con step di 50mV in discesa finchè non commuta 3-4 volte per capire la threshold\"\n",
      "Force__VPAP_OUT__ 0V \"PA positive output\"\n",
      "Force__VPAN_OUT__0V \"PA negative output\"\n",
      "Force__VPAP_OUT__3.6V \"PA positive output\"\n",
      "Force__VBIAS__5V\n",
      "Force__VBSO__3.6V\n",
      "Force__Current__SW__300mA \"inject\"\n",
      "Force__VBAT__3.6V\n",
      "Force__VDDIO__1.8V\n",
      "Force__VDD__1.8V\n",
      "Force__SDWN__1.8V\n",
      "Force__SDWN__OPEN\n",
      "Force__VBIAS__5V\n",
      "Force__VBSO__3.6V\n",
      "Force__SW__3.6V\n",
      "Force__VBIAS__19V\n",
      "Force__VBSO__19V\n"
     ]
    }
   ],
   "source": [
    "from typing import List\n",
    "import json\n",
    "import random\n",
    "import re \n",
    "force_instructions = {}\n",
    "for sheet in ['reference','Boost', 'Digital']:\n",
    "    sheet = 'raw_data/'+sheet+'_data.csv'\n",
    "    data = pd.read_csv(sheet)\n",
    "    for col in data.columns.to_list()[1:]:\n",
    "        instructions = data[col][1].split('\\n')\n",
    "        for i,instruction in enumerate(instructions):\n",
    "            if re.match('force',instruction.lower()) and '0x' not in instruction.lower():\n",
    "                force_instructions.update({random.randint(0,1000) : instruction})\n",
    "\n",
    "data = pd.read_csv('raw_data/Procedure_data.csv')\n",
    "for col in data.columns.to_list()[1:]:\n",
    "    for procedure in data[col]:\n",
    "        for instruction in procedure.split('\\n'):\n",
    "            \n",
    "            if 'Force' in instruction and '0x' not in instruction:\n",
    "                force_instructions.update({random.randint(1000,2000) : instruction})\n",
    "                \n",
    "for i in force_instructions.values():          \n",
    "    print(i)\n",
    "    \n",
    "with open('raw_data/force_instruction_types.json', 'w') as file:\n",
    "    json.dump({\"\":force_instructions}, file)\n",
    "    "
   ]
  },
  {
   "cell_type": "code",
   "execution_count": 42,
   "metadata": {},
   "outputs": [
    {
     "data": {
      "text/plain": [
       "{'Signal': 'SDWN', 'Value': 'OPEN', 'Unit': None}"
      ]
     },
     "execution_count": 42,
     "metadata": {},
     "output_type": "execute_result"
    }
   ],
   "source": [
    "import re \n",
    "from typing import List\n",
    "def extract_Force__Instruction(Instruction: str):\n",
    "    force_signal = {}\n",
    "    def delist(x:List):\n",
    "        if isinstance(x,List) and len(x) != 0 :\n",
    "            x=x[-1]\n",
    "        elif len(x) == 0:\n",
    "            x = 0\n",
    "        else:\n",
    "            x = x\n",
    "        return x \n",
    "    \n",
    "    def value_unit(value, unit):\n",
    "        if 'm' in unit:\n",
    "            value = value*10**-3\n",
    "            unit = unit.strip('m').capitalize()\n",
    "            \n",
    "        elif 'u' in unit:\n",
    "            value = value*10**-6\n",
    "            unit = unit.strip('u').capitalize()\n",
    "            \n",
    "        elif 'n' in unit:\n",
    "            value = value*10**-9\n",
    "            unit = unit.strip('n').capitalize()\n",
    "            \n",
    "        elif 'k' in unit:\n",
    "            value = value*10**3\n",
    "            unit = unit.strip('k').capitalize()\n",
    "            \n",
    "        else :\n",
    "            value = value\n",
    "            unit = unit.capitalize()\n",
    "\n",
    "        return value, unit\n",
    "    \n",
    "    # match the small or capital letter force key word\n",
    "    if re.match('[Force]|[force]', Instruction) and re.search('__', Instruction) :\n",
    "        signal = Instruction\n",
    "        # signal = re.findall(re.compile('([A-Za-z0-9\\.\\-]+)'), Instruction)[1:] # find the force signal and with the value \n",
    "        #remove the comments if there are any comments \n",
    "        if re.search(r\"\\\"(.*?)\\\"\",signal):\n",
    "            signal = re.sub(r\"\\\"(.*?)\\\"\",'',signal)\n",
    "\n",
    "        signal = signal.split('__')[1:] # find the force signal and with the value \n",
    "        #check the signal and value, array length \n",
    "        # if the instruction has signal and the value array length must the 2 \n",
    "        signal_length = len(signal)\n",
    "        if signal_length == 2:\n",
    "            ########################\n",
    "            # for force instruction length 2 \n",
    "            # @pattren 'Force_Current__SW__400mA'\n",
    "            ########################\n",
    "\n",
    "            signal_name = signal[0]\n",
    "                #check the signal unit and extract the number \n",
    "            unit = delist(re.findall('[A-Za-z]+', signal[1].lower()))\n",
    "            if  value := float(delist(re.findall('[0-9\\.\\-]+', signal[1]))) :\n",
    "                # check the volatage or current \n",
    "                value, unit = value_unit(value,unit)\n",
    "            # else check for the open or close \n",
    "                \n",
    "            elif value := delist(re.findall('OPEN', signal[1])):\n",
    "                unit = None \n",
    "            elif value := delist(re.findall('CLOSE', signal[1])):\n",
    "                    unit = None\n",
    "                    \n",
    "            force_signal = {\n",
    "            'Signal' : signal_name,\n",
    "            'Value'  : value ,\n",
    "            'Unit'   : unit\n",
    "            }\n",
    "        \n",
    "        elif signal_length == 3:\n",
    "            ########################\n",
    "            # for force instruction length 2 \n",
    "            # @pattren 'Force_Current__SW__400mA'\n",
    "            ########################\n",
    "            signal_name = signal[1]\n",
    "            #check the signal unit and extract the number \n",
    "            unit = delist(re.findall('[A-Za-z]+', signal[2].lower()))\n",
    "            if  value := float(delist(re.findall('[0-9\\.\\-]+', signal[2]))) :\n",
    "                # check the volatage or current \n",
    "                value, unit = value_unit(value,unit)\n",
    "\n",
    "            # else check for the open or close \n",
    "            elif value := delist(re.findall('OPEN', signal[1])):\n",
    "                unit = None \n",
    "            elif value := delist(re.findall('CLOSE', signal[1])):\n",
    "                unit = None \n",
    "\n",
    "            force_signal = {\n",
    "                'Signal' : signal_name,\n",
    "                'Value'  : value ,\n",
    "                'Unit'   : unit\n",
    "            }\n",
    "        \n",
    "        \n",
    "    return force_signal    \n",
    "# extract_Force__Instruction(Instruction = 'Force_Current__SW__400mA')\n",
    "# extract_Force__Instruction(Instruction = 'Force_Current__VBSO__-400mA')\n",
    "# extract_Force__Instruction(Instruction = 'Force_Current__SW__400mA \"chiedere comando corrente\"')\n",
    "extract_Force__Instruction(Instruction = 'Force__SDWN__OPEN')\n",
    "# extract_Force__Instruction(Instruction = 'Force__SDWN__1.8V')"
   ]
  },
  {
   "cell_type": "markdown",
   "metadata": {},
   "source": [
    "<h5 style=\"color : #ffbd33\" > Test all types of Force signal in the document </h5>"
   ]
  },
  {
   "cell_type": "code",
   "execution_count": 43,
   "metadata": {},
   "outputs": [
    {
     "name": "stdout",
     "output_type": "stream",
     "text": [
      "Force__extsignal \"with a voltage lower than vbat (also 0 should be fine) so that the boost remains in bypass\"\n",
      "Force__extsignal \"with a voltage lower than vbat (also 0 should be fine) so that the boost remains in bypass\"\n",
      "Force__Ramp \"da 4.5V con step di 50mV in discesa finchè non commuta 3-4 volte per capire la threshold\"\n"
     ]
    }
   ],
   "source": [
    "# for instruction in force_instructions.values():\n",
    "#     print(instruction)\n",
    "#     if force_instruction_parse := extract_Force__Instruction(instruction):\n",
    "#         print(force_instruction_parse)\n",
    "#     else:\n",
    "#         print('.........', instruction)\n",
    "        \n",
    "clean_force_instructions = {}\n",
    "Signals = []\n",
    "for i,instruction in enumerate(force_instructions.values()):\n",
    "    # print(instruction_set)\n",
    "    if register_instruction_parse := extract_Force__Instruction(instruction):\n",
    "        # print(register_instruction_parse)\n",
    "        clean_force_instructions.update({\n",
    "            i:{\n",
    "                'set':instruction,\n",
    "                'clean':register_instruction_parse\n",
    "            }\n",
    "        })\n",
    "        signal = register_instruction_parse.get('Signal')\n",
    "        if   signal not in Signals:\n",
    "            Signals.append(signal)\n",
    "    else:\n",
    "        print(instruction)\n",
    "        clean_force_instructions.update({\n",
    "            i:None\n",
    "        })\n",
    "with open('raw_data/json/clean_force_instructions.json', 'w') as file:\n",
    "    json.dump(clean_force_instructions, file)"
   ]
  },
  {
   "cell_type": "markdown",
   "metadata": {},
   "source": [
    "<h3 style='color: #2ecc71' > Extract Measure signal </h3>"
   ]
  },
  {
   "cell_type": "markdown",
   "metadata": {},
   "source": [
    "<h5 style='color: #ff5733'> Extract all the  measure signal pattrens</h5>"
   ]
  },
  {
   "cell_type": "code",
   "execution_count": 44,
   "metadata": {},
   "outputs": [
    {
     "name": "stdout",
     "output_type": "stream",
     "text": [
      "{917: 'Measure__Voltage__SDWN', 481: 'Measure__Voltage__SDWN', 565: 'Measure__Voltage__SDWN', 700: 'Measure__Voltage__SDWN', 676: 'Measure__Frequency__FSYN', 847: 'Measure__Current__SDWN \"tswitch mirr measure\"', 194: 'Measure__Voltage__SDWN', 335: 'Measure__Voltage__SDWN', 635: 'Measure__Voltage__SDWN', 590: 'Measure__Voltage__VBSO', 780: 'Measure__Voltage__FSYN \"it should be 0\"', 138: 'Measure__Voltage__FSYN \"it should be 1\"', 500: 'Measure__Voltage__FSYN', 459: 'Measure__Voltage__SDI \"FSYN should be 0 and SDI 1\"', 523: 'Measure__Voltage__FSYN', 113: 'Measure__Voltage__SDI \"FSYN should be 1 and SDI 0\"', 327: 'Measure__Voltage__FSYN', 299: 'Measure__Voltage_SDI \"da and a, FSYN should be 0 and SDI 0\"', 344: 'Measure__Voltage__FSYN \"out_comp, it should be 0\"', 145: 'Measure__Voltage__FSYN \"out_comp, it should be 1\"', 507: 'Measure__Voltage__FSYN \"da and a, it should be 0\"', 606: 'Measure__Voltage__FSYN \"OVP_BIAS output, it should be 0 since Bias 6V<9V\"', 809: 'Measure__Voltage__FSYN', 738: 'Measure__Voltage_SDI \"db and b, FSYN should be 0 and SDI 0\"', 69: 'Measure__Voltage__FSYN \"out_comp, it should be 0\"', 449: 'Measure__Voltage__FSYN \"out_comp, it should be 1\"', 264: 'Measure__Voltage__FSYN \"db and b, it should be 0\"', 382: 'Measure__Voltage__SDI \"FSYN should be 0 and SDI 1\"', 412: 'Measure__Voltage__SDWN \"it should be approximately 2.4V\"', 75: 'Measure__Voltage__SDWN \"should be clamped high (3V)\"', 146: 'Measure__Voltage__SDWN \"should be clamped low (1.5V)\"', 85: 'Measure__Voltage__SDWN \"should be clamped high (3V)\"', 116: 'Measure__Voltage__SDWN \"should be clamped low (1,5V)\"', 779: 'Measure__Voltage__SDWN \"should be 3V\"', 524: 'Measure__Voltage__SDWN \"should be 1,5V\"', 369: 'Measure__Voltage__SDWN \"should be 0,26V\"', 616: 'Measure__Voltage__SDWN \"Misura VBSO PAR, should be 0,263V more or less\" ', 815: 'Measure__Voltage__SDWN \"Misura VBIAS PAR, should be 0,18V more or less\"', 266: 'Measure__Voltage__FSYN \"as soon as trigger, need command\"', 34: 'Measure__Voltage__FSYN \"as soon as trigger, need command\"', 30: 'Measure__Voltage__FSYN \"as soon as trigger, need command\"', 13: 'Measure__Voltage__FSYN \"as soon as trigger, need command\"', 752: 'Measure__Voltage__SDWN \"it should be corresponding to the 9.9V threshold approximately (0.72V)\"', 214: 'Measure__Voltage__SDWN \"it should be corresponding to the 22.55V threshold approximately (1.64V)\"', 434: 'Measure__Voltage__SDWN \"should be 0V\"', 377: 'Measure__Voltage__SDWN \"should be 0.22V\"', 9: 'Measure__Voltage__SDWN \"should be 0.44V\"', 332: 'Measure__Voltage__SDWN \"should be 0.66V\"', 44: 'Measure__Voltage__SDWN \"should be 1.38V\"', 99: 'Measure__Voltage__SDWN \"it should be 0.24V, which is the +1 threshold of VREF_BIAS\"', 228: 'Measure__Voltage__SDWN \"should be 0.22V\"', 320: 'Measure__current__VDD', 666: 'Measure__Voltage__SDWN \"should be 0.56V,which is the +1 threshold\"', 233: 'Measure__Voltage__SDWN \"should be 0.9V, which is the +1 threshold\"', 870: 'Measure__Voltage__SDWN \"should be 0.88V\"', 931: 'Measure__flatness__AP', 576: 'Measure__Voltage__SDWN \"threshold measure vref_ovp, it should be corresponding to the 9V threshold\"', 806: 'Measure__Voltage__FSYN \"OVP_BSO output, it should be 0 since BSO 3.6V<9V\"', 880: 'Measure__Voltage__FSYN \"OVP_BSO output, it should be 1, since we force the VBSO the discharge should be on but never dischargin VBSO\"', 27: 'Measure__Voltage__SDWN \"threshold measure vref_bias, it should be corresponding to the 9,36V\"', 290: 'Measure__Voltage__FSYN \"OVP_BIAS output, it should be 1, since we force the VBIAS the discharge should be on but never dischargin VBIAS\"', 810: 'Measure__Voltage__FSYN \"it should be 0 since the ref is higher than the VBSOPAR so the system is not in tracking\"', 764: 'Measure__Voltage__SDWN \"should be 1V more or less\"', 855: 'Measure__Voltage__FSYN \"it should be 1\"', 620: 'Measure__Voltage__FSYN \"it should be 0\"', 491: 'Measure__Voltage__VBSO \"should be 9,075V\"', 407: 'Measure__Voltage__VBSO \"should be 14,025V\"', 455: 'Measure__Voltage__VBSO \"should be 20,075V\"', 901: 'Measure__Voltage__BIAS \"should be 15,4V\"', 633: 'Measure__Voltage__BIAS \"should be 24,2V\"', 706: 'Measure__Voltage__FSYN \"should be 0\"', 54: 'Measure__current__VDD', 422: 'Measure__Voltage__SDWN \"should be 0\"', 339: 'Measure__Voltage__FSYN \"should be 1\"', 517: 'Measure__Voltage__SDI \"should be 1\"', 762: 'Measure__Voltage__FSYN \"it should be 0 since the ref is higher than the PA OUTPUT\"', 669: 'Measure__Voltage__FSYN \"now it should be 1 since the PA output should be higher than the ref\"', 115: 'Measure__Voltage__FSYN \"it should be 0 \"', 35: 'Measure__Voltage__FSYN \"it should be 1 since the current flowing is higher than the selected threshold (200mA)\"', 615: 'Measure__EXT_IDLE_OFFSET__diff__OUTP__OUTM', 181: 'Measure__EXT_IDLE_OFFSET__diff__OUTP__OUTM', 889: 'Measure__EXT_ZERO_OFFSET__diff__OUTP__OUTM', 656: 'Measure__THD__AP', 824: 'Measure__flatness__AP', 224: 'Measure__PSRR__AP', 433: 'Measure__current__VDDIO', 475: 'Measure__current__VDD', 634: 'Measure__current__VBAT', 768: 'Measure__noise__AP', 622: 'Measure__current__VBAT', 454: 'Measure__current__VDD', 334: 'Measure__current__VBAT', 608: 'Measure__THD__AP', 923: 'Measure__current__VDD', 643: 'Measure__PSRR__AP', 39: 'Measure__current__VDDIO', 261: 'Measure__current__VDD', 494: 'Measure__noise__AP', 52: 'Measure__current__VDDIO', 741: 'Measure__current__VDD', 305: 'Measure__current__VBAT', 988: 'Measure__THD__AP', 100: 'Measure__PSRR__AP', 778: 'Measure__current__VDDIO', 506: 'Measure__current__VDD', 831: 'Measure__current__VBAT', 215: 'Measure__noise__AP', 415: 'Measure__current__VDDIO', 259: 'Measure__current__VDD', 708: 'Measure__current__VBAT', 132: 'Measure__THD__AP', 690: 'Measure__current__VDDIO', 556: 'Measure__current__VDD', 265: 'Measure__current__VBAT', 281: 'Measure__noise__AP', 799: 'Measure__current__VDDIO', 866: 'Measure__current__VDD', 773: 'Measure__current__VBAT', 913: 'Measure__THD__AP', 640: 'Measure__flatness__AP', 3: 'Measure__PSRR__AP', 177: 'Measure__current__VDDIO', 541: 'Measure__current__VDD', 674: 'Measure__current__VBAT', 938: 'Measure__noise__AP', 48: 'Measure__current__VDDIO', 502: 'Measure__current__VDD', 55: 'Measure__current__VBAT', 552: 'Measure__THD__AP', 120: 'Measure__flatness__AP', 191: 'Measure__PSRR__AP', 820: 'Measure__current__VDDIO', 765: 'Measure__current__VDD', 304: 'Measure__current__VBAT', 321: 'Measure__noise__AP', 756: 'Measure__current__VDDIO', 661: 'Measure__current__VBAT', 386: 'Measure__THD__AP', 379: 'Measure__flatness__AP', 161: 'Measure__PSRR__AP', 959: 'Measure__current__VDDIO', 868: 'Measure__current__VBAT', 174: 'Measure__noise__AP', 705: 'Measure__current__VDDIO', 944: 'Measure__current__VBAT', 952: 'Measure__Current__SDWN', 14: 'Measure__Current__SDWN', 846: 'Measure__Current__SDWN', 980: 'Measure__Voltage__SDWN', 79: 'Measure__Voltage__SDWN', 561: 'Measure__Voltage__SDWN', 629: 'Measure__Current__SDWN                                                                                                                                                          '}\n"
     ]
    }
   ],
   "source": [
    "from typing import List\n",
    "import json\n",
    "import random\n",
    "import re \n",
    "import pandas as pd \n",
    "measure_instructions = {}\n",
    "for sheet in ['Digital','Reference','Boost','DAC+PA','AZ_COMP']:\n",
    "    sheet = 'raw_data/'+sheet+'_data.csv'\n",
    "    data = pd.read_csv(sheet)\n",
    "    for col in data.columns.to_list()[1:]:\n",
    "        instructions = data[col][1].split('\\n')\n",
    "        for i,instruction in enumerate(instructions):\n",
    "            if re.match('meas',instruction.lower()) and '0x' not in instruction.lower():\n",
    "                measure_instructions.update({random.randint(0,1000) : instruction})\n",
    "print(measure_instructions)"
   ]
  },
  {
   "cell_type": "markdown",
   "metadata": {},
   "source": [
    "<h5 style=\"color : #ffbd33\" > Parse Measure signal </h5>"
   ]
  },
  {
   "cell_type": "code",
   "execution_count": 45,
   "metadata": {},
   "outputs": [
    {
     "data": {
      "text/plain": [
       "{'Signal': 'SDWN', 'Unit': 'Current'}"
      ]
     },
     "execution_count": 45,
     "metadata": {},
     "output_type": "execute_result"
    }
   ],
   "source": [
    "\n",
    "import re \n",
    "from typing import List\n",
    "def extract_Measure__Instruction(Instruction: str):\n",
    "    measure_signal = {}\n",
    "    signal = Instruction\n",
    "\n",
    "    if re.search(r\"\\\"(.*?)\\\"\",signal):\n",
    "        signal = re.sub(r\"\\\"(.*?)\\\"\",'',signal)\n",
    "        \n",
    "    if re.match('meas', signal.lower()):\n",
    "        signal = re.findall('[A-Za-z0-9\\.]+', signal)[1:] # find the measure signal and with the value \n",
    "        #check the signal and value, array length \n",
    "        # if the instruction has signal and the value array length must the 2 \n",
    "        if len(signal) >= 2:\n",
    "            signal_name = signal[1]\n",
    "            unit = signal[0]\n",
    "\n",
    "            measure_signal = {\n",
    "                'Signal' : signal_name,\n",
    "                'Unit'   : unit\n",
    "            }\n",
    "\n",
    "    return measure_signal    \n",
    "extract_Measure__Instruction(Instruction = 'Measure__Current__SDWN')"
   ]
  },
  {
   "cell_type": "markdown",
   "metadata": {},
   "source": [
    "<h5 style=\"color :#33c5ff\" > Testing the Measure signal </h5>"
   ]
  },
  {
   "cell_type": "code",
   "execution_count": 46,
   "metadata": {},
   "outputs": [],
   "source": [
    "\n",
    "# for instruction in measure_instructions.values():\n",
    "#     print(instruction)\n",
    "#     if measure_instruction_parse := extract_Measure__Instruction(instruction):\n",
    "#         print(measure_instruction_parse)\n",
    "#     else:\n",
    "#         print('.........', instruction)\n",
    "        \n",
    "\n",
    "clean_measure_instructions = {}\n",
    "for i,instruction in measure_instructions.items():\n",
    "    # print(instruction_set)\n",
    "    if register_instruction_parse := extract_Measure__Instruction(instruction):\n",
    "        # print(register_instruction_parse)\n",
    "        clean_measure_instructions.update({\n",
    "            i:{\n",
    "                'set':instruction,\n",
    "                'clean':register_instruction_parse\n",
    "            }\n",
    "        })\n",
    "        signal = register_instruction_parse.get('Signal')\n",
    "        if   signal not in Signals:\n",
    "            Signals.append(signal)\n",
    "    else:\n",
    "        print(instruction)\n",
    "        clean_measure_instructions.update({\n",
    "            i:None\n",
    "        })\n",
    "with open('raw_data/json/clean_measure_instructions.json', 'w') as file:\n",
    "    json.dump(clean_measure_instructions, file)\n",
    "with open('raw_data/json/signals.json', 'w') as file:\n",
    "    json.dump({\"\":Signals}, file)"
   ]
  },
  {
   "cell_type": "code",
   "execution_count": 47,
   "metadata": {},
   "outputs": [
    {
     "name": "stdout",
     "output_type": "stream",
     "text": [
      "\n"
     ]
    },
    {
     "data": {
      "text/plain": [
       "0.0001"
      ]
     },
     "execution_count": 47,
     "metadata": {},
     "output_type": "execute_result"
    }
   ],
   "source": [
    "import re \n",
    "from typing import List\n",
    "def extract_Delay__Instruction(Instruction: str):\n",
    "    delay = 0\n",
    "    # meath the measure signal\n",
    "    Instruction = Instruction.lower()\n",
    "    if re.match('wait', Instruction):\n",
    "        signal = re.findall('[A-Za-z0-9\\.]+', Instruction)[1:] # find the measure signal and with the value \n",
    "        #check the signal and value, array length \n",
    "        # if the instruction has signal and the value array length must the 2 \n",
    "        if len(signal) >= 2:\n",
    "            print()\n",
    "            delay = float( (lambda x :  float(*x) if isinstance(x,List) else float(*x))(re.findall('[0-9\\.]+', signal[1])))\n",
    "            # check for the milli seconds \n",
    "            if 'ms' in signal[1]:\n",
    "                delay  = delay* 10**-3\n",
    "            # check for the micro seconds \n",
    "            elif 'us' in signal[1]:\n",
    "                delay  = delay* 10**-6\n",
    "    return delay    \n",
    "extract_Delay__Instruction(Instruction = 'Wait__delay__0.1ms')"
   ]
  }
 ],
 "metadata": {
  "kernelspec": {
   "display_name": "env",
   "language": "python",
   "name": "python3"
  },
  "language_info": {
   "codemirror_mode": {
    "name": "ipython",
    "version": 3
   },
   "file_extension": ".py",
   "mimetype": "text/x-python",
   "name": "python",
   "nbconvert_exporter": "python",
   "pygments_lexer": "ipython3",
   "version": "3.11.5"
  }
 },
 "nbformat": 4,
 "nbformat_minor": 2
}
