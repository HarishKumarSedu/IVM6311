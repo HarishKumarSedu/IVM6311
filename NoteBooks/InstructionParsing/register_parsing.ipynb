{
 "cells": [
  {
   "cell_type": "code",
   "execution_count": 43,
   "metadata": {},
   "outputs": [],
   "source": [
    "import os \n",
    "from pathlib import Path\n",
    "abspath = Path('C:\\\\Users\\\\harkum\\\\Documents\\\\6311\\\\Software')\n",
    "os.chdir(abspath)"
   ]
  },
  {
   "cell_type": "markdown",
   "metadata": {},
   "source": [
    "<h2 style=' color: \t#0bff00;border-bottom: 2px dotted #ff0000;'> Register address parsing</h2>"
   ]
  },
  {
   "cell_type": "markdown",
   "metadata": {},
   "source": [
    "<h3 style='color:#ffac00'> Parse all the register addres 0x pattrens</h3>"
   ]
  },
  {
   "cell_type": "code",
   "execution_count": 1,
   "metadata": {},
   "outputs": [
    {
     "name": "stdout",
     "output_type": "stream",
     "text": [
      "{1: {'page': 'Digital', 'dft': 'BIST', 'ins': '0xFE_0x00 \"Page 0\"'}, 2: {'page': 'Digital', 'dft': 'BIST', 'ins': '0x11_0x00 \"Set TDM mode\"'}, 3: {'page': 'Digital', 'dft': 'BIST', 'ins': '0xFE_0x01 \"Page 1\"'}, 4: {'page': 'Digital', 'dft': 'BIST', 'ins': '0x06_0x03 \"Bist enable=1\"'}, 10: {'page': 'Digital', 'dft': 'BIST', 'ins': '0x06_0x00 \"Bist enable=0\"'}, 14: {'page': 'Digital', 'dft': 'PAD LOOPBACK', 'ins': '0x00_0x0 \"Set IO test mode\"'}, 15: {'page': 'Digital', 'dft': 'PAD LOOPBACK', 'ins': '0x00_0x0 \"Set IO enable=1\"'}, 17: {'page': 'Digital', 'dft': 'PAD LOOPBACK', 'ins': '0x00_0x00 \"Set IO enable=0\"'}, 21: {'page': 'Digital', 'dft': 'SCAN', 'ins': '0x05_0x01 \"Set scan mode\"'}, 26: {'page': 'Reference', 'dft': 'UVLO', 'ins': '0xFE_0x01 \"Select page 1\"'}, 27: {'page': 'Reference', 'dft': 'UVLO', 'ins': '0x2F_0xAA \"Unlock test page\"'}, 31: {'page': 'Reference', 'dft': 'UVLO', 'ins': '0x1A_0x00 \"UVLO\"'}, 35: {'page': 'Reference', 'dft': 'UVLO', 'ins': '0x2F_0xBB \"Lock test page\"'}, 38: {'page': 'Reference', 'dft': 'UVLO', 'ins': '0xFE_0x00 \"Return page 0\"'}, 42: {'page': 'Reference', 'dft': 'VBGR_ADJ_TRIM', 'ins': '0x1A_0x01 \"Bandgap\"'}, 50: {'page': 'Reference', 'dft': 'VBGR_ADJ_TRIM', 'ins': '0xFE_0x00 \"Return page 0\"'}, 53: {'page': 'Reference', 'dft': 'OUT_TEST_FRO_VVCO ', 'ins': '0x1A_0x02 \"FRO VVCO\" Measure__Voltage__SDWN                              0xFE_0x00 \"Return page 0\"'}, 56: {'page': 'Reference', 'dft': 'OUT_TEST_FRO_IMSB', 'ins': '0x1A_0x03 \"FRO IMSB\" Measure__Current__SDWN                              0xFE_0x00 \"Return page 0\"'}, 60: {'page': 'Reference', 'dft': 'TSDN', 'ins': '0x1A_0x04 \"TSDN\"'}, 68: {'page': 'Reference', 'dft': 'TSDN', 'ins': '0xFE_0x00 \"Return page 0\"'}, 71: {'page': 'Reference', 'dft': 'REF_LDO', 'ins': '0x1A_0x05 \"REF_LDO\"'}, 76: {'page': 'Reference', 'dft': 'REF_LDO', 'ins': '0xFE_0x00 \"Return page 0\"'}, 78: {'page': 'Reference', 'dft': 'FRO_CLOCK', 'ins': '0x03_0x04 \"Enable digital test FSYN\"'}, 79: {'page': 'Reference', 'dft': 'FRO_CLOCK', 'ins': '0x04_0x32 \"Enable digital test ana_ref_fro_clk_13m\"'}, 88: {'page': 'Reference', 'dft': 'FRO_CLOCK', 'ins': '0xFE_0x00 \"Return page 0\"'}, 95: {'page': 'Boost', 'dft': 'BST_MIRR', 'ins': '0xFE_0x00 \"Select page 0\"'}, 96: {'page': 'Boost', 'dft': 'BST_MIRR', 'ins': '0xB0_0x00 \"en 1 bst low\"'}, 97: {'page': 'Boost', 'dft': 'BST_MIRR', 'ins': '0xB1_0x00 \"en 2 bst low\"'}, 98: {'page': 'Boost', 'dft': 'BST_MIRR', 'ins': '0xB3[4:3]_0x00 \"en 3 bst low\"'}, 99: {'page': 'Boost', 'dft': 'BST_MIRR', 'ins': '0xFE_0x01 \"Select page 1\"'}, 100: {'page': 'Boost', 'dft': 'BST_MIRR', 'ins': '0x1A_0x00 \"TSW_Mirr test\"'}, 101: {'page': 'Boost', 'dft': 'BST_MIRR', 'ins': '0x18[6]_0x01 \"Enable Mirr\"'}, 102: {'page': 'Boost', 'dft': 'BST_MIRR', 'ins': '0x17[6]_0x01 \"Force Mirr\"'}, 106: {'page': 'Boost', 'dft': 'BST_MIRR', 'ins': '0x19[1]_0x01 \"bst_test_en 1\"'}, 112: {'page': 'Boost', 'dft': 'BST_MIRR', 'ins': '0x1A_0x00'}, 113: {'page': 'Boost', 'dft': 'BST_MIRR', 'ins': '0x19_0x00'}, 122: {'page': 'Boost', 'dft': 'BST_RON_LS', 'ins': '0xFE_0x00 \"Select page 0\"'}, 123: {'page': 'Boost', 'dft': 'BST_RON_LS', 'ins': '0xB0_0x00 \"en 1 bst low\"'}, 124: {'page': 'Boost', 'dft': 'BST_RON_LS', 'ins': '0xB1_0x00 \"en 2 bst low\"'}, 125: {'page': 'Boost', 'dft': 'BST_RON_LS', 'ins': '0xB3[4:3]_0x00 \"en 3 bst low\"'}, 126: {'page': 'Boost', 'dft': 'BST_RON_LS', 'ins': '0x18[6]_0x01 \"Enable Mirr\"'}, 127: {'page': 'Boost', 'dft': 'BST_RON_LS', 'ins': '0xB1[6]_0x01 \"Bootstrap en\"'}, 128: {'page': 'Boost', 'dft': 'BST_RON_LS', 'ins': '0xB2[1]_0x00 \"ls_sel off\"'}, 129: {'page': 'Boost', 'dft': 'BST_RON_LS', 'ins': '0xB4[2:0]_0x00 \"hsa_hsb_byp off\"'}, 130: {'page': 'Boost', 'dft': 'BST_RON_LS', 'ins': '0xFE_0x01 \"Select page 1\"'}, 131: {'page': 'Boost', 'dft': 'BST_RON_LS', 'ins': '0x17[6]_0x01 \"Force Mirr\"'}, 132: {'page': 'Boost', 'dft': 'BST_RON_LS', 'ins': '0x16[6]_0x01 \"Force Bootstrap\"'}, 136: {'page': 'Boost', 'dft': 'BST_RON_LS', 'ins': '0x1A_0x01 \"TSwitch SW\"'}, 137: {'page': 'Boost', 'dft': 'BST_RON_LS', 'ins': '0xFE_0x00 \"Select page 0\"'}, 138: {'page': 'Boost', 'dft': 'BST_RON_LS', 'ins': '0xB2[1]_0x01 \"ls_sel on\"'}, 139: {'page': 'Boost', 'dft': 'BST_RON_LS', 'ins': '0xB2[0]_0x01 \"Power Force en\"'}, 140: {'page': 'Boost', 'dft': 'BST_RON_LS', 'ins': '0xFE_0x01 \"Select page 1\"'}, 144: {'page': 'Boost', 'dft': 'BST_RON_LS', 'ins': '0x19[1]_0x01 \"bst_test en\"'}, 151: {'page': 'Boost', 'dft': 'BST_RON_LS', 'ins': '0x1A_0x02 \"TSwitch PGND\"'}, 155: {'page': 'Boost', 'dft': 'BST_RON_LS', 'ins': '0x1A_0x00'}, 156: {'page': 'Boost', 'dft': 'BST_RON_LS', 'ins': '0x19_0x00'}, 169: {'page': 'Boost', 'dft': 'BST_RON_HS', 'ins': '0x00_0x0F \"Power-up\"'}, 170: {'page': 'Boost', 'dft': 'BST_RON_HS', 'ins': '0xB0_0x00 \"en 1 bst low\"'}, 171: {'page': 'Boost', 'dft': 'BST_RON_HS', 'ins': '0xB1_0x00 \"en 2 bst low\"'}, 172: {'page': 'Boost', 'dft': 'BST_RON_HS', 'ins': '0xB3[4:3]_0x00 \"en 3 bst low\"'}, 174: {'page': 'Boost', 'dft': 'BST_RON_HS', 'ins': '0xFE_0x01 \"Select page 1\"'}, 175: {'page': 'Boost', 'dft': 'BST_RON_HS', 'ins': '0x2F_0xAA \"Unlock test page\"'}, 176: {'page': 'Boost', 'dft': 'BST_RON_HS', 'ins': '0x2F_0xBB \"Unlock test page\"'}, 178: {'page': 'Boost', 'dft': 'BST_RON_HS', 'ins': '0x18[6]_0x01 \"Enable Mirr\"'}, 179: {'page': 'Boost', 'dft': 'BST_RON_HS', 'ins': '0xFE_0x00 \"Select page 0\"'}, 180: {'page': 'Boost', 'dft': 'BST_RON_HS', 'ins': '0xB1[6]_0x01 \"Bootstrap en\"'}, 181: {'page': 'Boost', 'dft': 'BST_RON_HS', 'ins': '0xB2[1]_0x00 \"ls_sel off\"'}, 182: {'page': 'Boost', 'dft': 'BST_RON_HS', 'ins': '0xB4[2:0]_0x06 \"hsa_hsb on byp off\"'}, 183: {'page': 'Boost', 'dft': 'BST_RON_HS', 'ins': '0xFE_0x01 \"Select page 1\"'}, 184: {'page': 'Boost', 'dft': 'BST_RON_HS', 'ins': '0x1A_0x01 \"TSwitch SW\"'}, 185: {'page': 'Boost', 'dft': 'BST_RON_HS', 'ins': '0x17[6]_0x01 \"Force Mirr\"'}, 186: {'page': 'Boost', 'dft': 'BST_RON_HS', 'ins': '0x16[6]_0x01 \"Force Bootstrap\"'}, 190: {'page': 'Boost', 'dft': 'BST_RON_HS', 'ins': '0xFE_0x00 \"Select page 0\"'}, 191: {'page': 'Boost', 'dft': 'BST_RON_HS', 'ins': '0xB2[0]_0x01 \"Power Force en\"'}, 192: {'page': 'Boost', 'dft': 'BST_RON_HS', 'ins': '0xFE_0x01 \"Select page 1\"'}, 196: {'page': 'Boost', 'dft': 'BST_RON_HS', 'ins': '0x19[1]_0x01 \"bst_test en\"'}, 206: {'page': 'Boost', 'dft': 'BST_RON_HS', 'ins': '0x1A_0x00'}, 207: {'page': 'Boost', 'dft': 'BST_RON_HS', 'ins': '0x19_0x00'}, 212: {'page': 'Boost', 'dft': 'BST_RON_BYP', 'ins': '0xB0_0x00 \"en 1 bst low\"'}, 213: {'page': 'Boost', 'dft': 'BST_RON_BYP', 'ins': '0xB1_0x00 \"en 2 bst low\"'}, 214: {'page': 'Boost', 'dft': 'BST_RON_BYP', 'ins': '0xB3[4:3]_0x00 \"en 3 bst low\"'}, 215: {'page': 'Boost', 'dft': 'BST_RON_BYP', 'ins': '0xFE_0x01 \"Select page 1\"'}, 216: {'page': 'Boost', 'dft': 'BST_RON_BYP', 'ins': '0x18[6]_0x01 \"Enable Mirr\"'}, 217: {'page': 'Boost', 'dft': 'BST_RON_BYP', 'ins': '0xFE_0x00 \"Select page 0\"'}, 218: {'page': 'Boost', 'dft': 'BST_RON_BYP', 'ins': '0xB1[6]_0x01 \"Bootstrap en\"'}, 219: {'page': 'Boost', 'dft': 'BST_RON_BYP', 'ins': '0xB2[1]_0x00 \"ls_sel off\"'}, 220: {'page': 'Boost', 'dft': 'BST_RON_BYP', 'ins': '0xB4[2:0]_0x01 \"hsa_hsb off byp on\"'}, 221: {'page': 'Boost', 'dft': 'BST_RON_BYP', 'ins': '0xFE_0x01 \"Select page 1\"'}, 222: {'page': 'Boost', 'dft': 'BST_RON_BYP', 'ins': '0x17[6]_0x01 \"Force Mirr\"'}, 223: {'page': 'Boost', 'dft': 'BST_RON_BYP', 'ins': '0x16[6]_0x01 \"Force Bootstrap\"'}, 227: {'page': 'Boost', 'dft': 'BST_RON_BYP', 'ins': '0xFE_0x00 \"Select page 0\"'}, 228: {'page': 'Boost', 'dft': 'BST_RON_BYP', 'ins': '0xB2[0]_0x01 \"Power Force en\"'}, 229: {'page': 'Boost', 'dft': 'BST_RON_BYP', 'ins': '0xFE_0x01 \"Select page 1\"'}, 233: {'page': 'Boost', 'dft': 'BST_RON_BYP', 'ins': '0x19[1]_0x01 \"bst_test en\"'}, 243: {'page': 'Boost', 'dft': 'BST_RON_BYP', 'ins': '0x1A_0x00'}, 244: {'page': 'Boost', 'dft': 'BST_RON_BYP', 'ins': '0x19_0x00'}, 250: {'page': 'Boost', 'dft': 'BST_LS_DRIVE', 'ins': '0x03_0x04 \"FSYN TMUX\"'}, 251: {'page': 'Boost', 'dft': 'BST_LS_DRIVE', 'ins': '0x04_0x03 \"Test EN FSYN=bst_gls\"'}, 252: {'page': 'Boost', 'dft': 'BST_LS_DRIVE', 'ins': '0xFE_0x00 \"Select page 0\"'}, 253: {'page': 'Boost', 'dft': 'BST_LS_DRIVE', 'ins': '0xB2[0]_0x01 \"Power Force en\"'}, 254: {'page': 'Boost', 'dft': 'BST_LS_DRIVE', 'ins': '0xFE_0x01 \"Select page 1\"'}, 258: {'page': 'Boost', 'dft': 'BST_LS_DRIVE', 'ins': '0x19[1]_0x01 \"bst_test en\"'}, 263: {'page': 'Boost', 'dft': 'BST_LS_DRIVE', 'ins': '0xFE_0x00 \"Select page 0\"'}, 264: {'page': 'Boost', 'dft': 'BST_LS_DRIVE', 'ins': '0xB2[1]_0x01 \"ls_sel on\"'}, 270: {'page': 'Boost', 'dft': 'BST_LS_DRIVE', 'ins': '0x03_0x00 '}, 271: {'page': 'Boost', 'dft': 'BST_LS_DRIVE', 'ins': '0x04_0x00'}, 272: {'page': 'Boost', 'dft': 'BST_LS_DRIVE', 'ins': '0x19_0x00'}, 278: {'page': 'Boost', 'dft': 'BST_BYP', 'ins': '0xFE_0x00 \"Select page 0\"'}, 279: {'page': 'Boost', 'dft': 'BST_BYP', 'ins': '0xB0[0]_0x01 \"bst general en\"'}, 280: {'page': 'Boost', 'dft': 'BST_BYP', 'ins': '0xFE_0x01 \"Select page 1\"'}, 281: {'page': 'Boost', 'dft': 'BST_BYP', 'ins': '0x03_0x05 \"FSYN and SDI TMUX\"'}, 282: {'page': 'Boost', 'dft': 'BST_BYP', 'ins': '0x04_0x07 \"dig test EN FSYN=byp_go SDI=byp_off\"'}, 286: {'page': 'Boost', 'dft': 'BST_BYP', 'ins': '0x15[4]_0x01 \"Force bst general en\"'}, 290: {'page': 'Boost', 'dft': 'BST_BYP', 'ins': '0xFE_0x00 \"Select page 0\"'}, 291: {'page': 'Boost', 'dft': 'BST_BYP', 'ins': '0xB2[0]_0x01 \"Power Force en\"'}, 292: {'page': 'Boost', 'dft': 'BST_BYP', 'ins': '0xFE_0x01 \"Select page 1\"'}, 294: {'page': 'Boost', 'dft': 'BST_BYP', 'ins': '0x19[1]_0x01 \"bst_test en\"'}, 301: {'page': 'Boost', 'dft': 'BST_BYP', 'ins': '0xB0[7]_0x01 \"byp_en on\"'}, 308: {'page': 'Boost', 'dft': 'BST_BYP', 'ins': '0x03_0x00 '}, 309: {'page': 'Boost', 'dft': 'BST_BYP', 'ins': '0x04_0x00'}, 310: {'page': 'Boost', 'dft': 'BST_BYP', 'ins': '0x19_0x00'}, 318: {'page': 'Boost', 'dft': 'BST_LOGIC_COMP_BSO', 'ins': '0xFE_0x00 \"Select page 0\"'}, 319: {'page': 'Boost', 'dft': 'BST_LOGIC_COMP_BSO', 'ins': '0xCA_0x00 \"VREF basso così l\\'uscita del comparatore è 0\"'}, 320: {'page': 'Boost', 'dft': 'BST_LOGIC_COMP_BSO', 'ins': '0xB3[3]_0x01 \"clamp bso en\"'}, 321: {'page': 'Boost', 'dft': 'BST_LOGIC_COMP_BSO', 'ins': '0xB1[4]_0x01 \"err amp bso en\"'}, 322: {'page': 'Boost', 'dft': 'BST_LOGIC_COMP_BSO', 'ins': '0xB1[2]_0x01 \"comp bso en\"'}, 323: {'page': 'Boost', 'dft': 'BST_LOGIC_COMP_BSO', 'ins': '0xB0[0]_0x01 \"bst general en\"'}, 324: {'page': 'Boost', 'dft': 'BST_LOGIC_COMP_BSO', 'ins': '0xFE_0x01 \"Select page 1\"'}, 325: {'page': 'Boost', 'dft': 'BST_LOGIC_COMP_BSO', 'ins': '0x03_0x05 \"FSYN and SDI TMUX\"'}, 326: {'page': 'Boost', 'dft': 'BST_LOGIC_COMP_BSO', 'ins': '0x04_0x10 \"dig test EN FSYN=da SDI=a\"'}, 330: {'page': 'Boost', 'dft': 'BST_LOGIC_COMP_BSO', 'ins': '0x15[4]_0x01 \"Force bst general en\"'}, 331: {'page': 'Boost', 'dft': 'BST_LOGIC_COMP_BSO', 'ins': '0xFE_0x00 \"Select page 0\"'}, 332: {'page': 'Boost', 'dft': 'BST_LOGIC_COMP_BSO', 'ins': '0xB2[0]_0x01 \"Power Force en\"'}, 336: {'page': 'Boost', 'dft': 'BST_LOGIC_COMP_BSO', 'ins': '0xFE_0x01 \"Select page 1\"'}, 337: {'page': 'Boost', 'dft': 'BST_LOGIC_COMP_BSO', 'ins': '0x16[4]_0x01 \"force err amp bso\"'}, 338: {'page': 'Boost', 'dft': 'BST_LOGIC_COMP_BSO', 'ins': '0x16[2]_0x01 \"force comp bso\"'}, 339: {'page': 'Boost', 'dft': 'BST_LOGIC_COMP_BSO', 'ins': '0x17[4]_0x01 \"force clamp bso\"'}, 340: {'page': 'Boost', 'dft': 'BST_LOGIC_COMP_BSO', 'ins': '0x19[1]_0x01 \"bst_test en\"'}, 346: {'page': 'Boost', 'dft': 'BST_LOGIC_COMP_BSO', 'ins': '0x04_0x0B \"dig test EN FSYN=outcomp\"'}, 349: {'page': 'Boost', 'dft': 'BST_LOGIC_COMP_BSO', 'ins': '0xFE_0x00 \"Select page 0\"'}, 350: {'page': 'Boost', 'dft': 'BST_LOGIC_COMP_BSO', 'ins': '0xCA_0x11 \"VREF high so comparator output should be 1\"'}, 355: {'page': 'Boost', 'dft': 'BST_LOGIC_COMP_BSO', 'ins': '0xFE_0x01 \"Select page 1\"'}, 356: {'page': 'Boost', 'dft': 'BST_LOGIC_COMP_BSO', 'ins': '0x04_0x10 \"dig test EN FSYN=da SDI=a\"'}, 360: {'page': 'Boost', 'dft': 'BST_LOGIC_COMP_BSO', 'ins': '0x03_0x00 '}, 361: {'page': 'Boost', 'dft': 'BST_LOGIC_COMP_BSO', 'ins': '0x04_0x00'}, 362: {'page': 'Boost', 'dft': 'BST_LOGIC_COMP_BSO', 'ins': '0x19_0x00'}, 368: {'page': 'Boost', 'dft': 'BST_LOGIC_COMP_BIAS', 'ins': '0x11_0x00 \"VREF basso così l\\'uscita del comparatore è 0\"'}, 369: {'page': 'Boost', 'dft': 'BST_LOGIC_COMP_BIAS', 'ins': '0xFE_0x00 \"Select page 0\"'}, 370: {'page': 'Boost', 'dft': 'BST_LOGIC_COMP_BIAS', 'ins': '0xB3[4]_0x01 \"clamp bias en\"'}, 371: {'page': 'Boost', 'dft': 'BST_LOGIC_COMP_BIAS', 'ins': '0xB1[5]_0x01 \"err amp bias en\"'}, 372: {'page': 'Boost', 'dft': 'BST_LOGIC_COMP_BIAS', 'ins': '0xB1[3]_0x01 \"comp bias en\"'}, 373: {'page': 'Boost', 'dft': 'BST_LOGIC_COMP_BIAS', 'ins': '0xB0[0]_0x01 \"bst general en\"'}, 374: {'page': 'Boost', 'dft': 'BST_LOGIC_COMP_BIAS', 'ins': '0xFE_0x01 \"Select page 1\"'}, 375: {'page': 'Boost', 'dft': 'BST_LOGIC_COMP_BIAS', 'ins': '0x03_0x05 \"FSYN and SDI TMUX\"'}, 376: {'page': 'Boost', 'dft': 'BST_LOGIC_COMP_BIAS', 'ins': '0x04_0x11 \"dig test EN FSYN=db SDI=b\"'}, 380: {'page': 'Boost', 'dft': 'BST_LOGIC_COMP_BIAS', 'ins': '0x15[4]_0x01 \"Force bst general en\"'}, 381: {'page': 'Boost', 'dft': 'BST_LOGIC_COMP_BIAS', 'ins': '0xFE_0x00 \"Select page 0\"'}, 382: {'page': 'Boost', 'dft': 'BST_LOGIC_COMP_BIAS', 'ins': '0xB2[0]_0x01 \"Power Force en\"'}, 386: {'page': 'Boost', 'dft': 'BST_LOGIC_COMP_BIAS', 'ins': '0xFE_0x01 \"Select page 1\"'}, 387: {'page': 'Boost', 'dft': 'BST_LOGIC_COMP_BIAS', 'ins': '0x16[5]_0x01 \"force err amp bias\"'}, 388: {'page': 'Boost', 'dft': 'BST_LOGIC_COMP_BIAS', 'ins': '0x16[3]_0x01 \"force comp bias\"'}, 389: {'page': 'Boost', 'dft': 'BST_LOGIC_COMP_BIAS', 'ins': '0x17[3]_0x01 \"force clamp bias\"'}, 390: {'page': 'Boost', 'dft': 'BST_LOGIC_COMP_BIAS', 'ins': '0x19[1]_0x01 \"bst_test en\"'}, 396: {'page': 'Boost', 'dft': 'BST_LOGIC_COMP_BIAS', 'ins': '0x04_0x0B \"dig test EN FSYN=outcomp\"'}, 399: {'page': 'Boost', 'dft': 'BST_LOGIC_COMP_BIAS', 'ins': '0x11_0x0A \"VREF high so comparator output should be 1\"'}, 404: {'page': 'Boost', 'dft': 'BST_LOGIC_COMP_BIAS', 'ins': '0x04_0x11 \"dig test EN FSYN=db SDI=b\"'}, 408: {'page': 'Boost', 'dft': 'BST_LOGIC_COMP_BIAS', 'ins': '0x03_0x00 '}, 409: {'page': 'Boost', 'dft': 'BST_LOGIC_COMP_BIAS', 'ins': '0x04_0x00'}, 410: {'page': 'Boost', 'dft': 'BST_LOGIC_COMP_BIAS', 'ins': '0x19_0x00'}, 416: {'page': 'Boost', 'dft': 'BST_IL_FILT', 'ins': '0xFE_0x00 \"Select page 0\"'}, 417: {'page': 'Boost', 'dft': 'BST_IL_FILT', 'ins': '0xB0[0]_0x01 \"bst general en\"'}, 418: {'page': 'Boost', 'dft': 'BST_IL_FILT', 'ins': '0xFE_0x01 \"Select page 1\"'}, 419: {'page': 'Boost', 'dft': 'BST_IL_FILT', 'ins': '0x1A_0x04 \"TSW VF\"'}, 423: {'page': 'Boost', 'dft': 'BST_IL_FILT', 'ins': '0x15[4]_0x01 \"Force bst general en\"'}, 424: {'page': 'Boost', 'dft': 'BST_IL_FILT', 'ins': '0xFE_0x00 \"Select page 0\"'}, 425: {'page': 'Boost', 'dft': 'BST_IL_FILT', 'ins': '0xB2[0]_0x01 \"Power Force en\"'}, 429: {'page': 'Boost', 'dft': 'BST_IL_FILT', 'ins': '0x19[1]_0x01 \"bst_test en\"'}, 435: {'page': 'Boost', 'dft': 'BST_IL_FILT', 'ins': '0x1A_0x00'}, 436: {'page': 'Boost', 'dft': 'BST_IL_FILT', 'ins': '0x19_0x00'}, 442: {'page': 'Boost', 'dft': 'BST_ERRAMP_BSO', 'ins': '0xFE_0x00 \"Select page 0\"'}, 443: {'page': 'Boost', 'dft': 'BST_ERRAMP_BSO', 'ins': '0xCA_0x00 \"VREF lower than VBSO_PAR so the output should clamp high\"'}, 444: {'page': 'Boost', 'dft': 'BST_ERRAMP_BSO', 'ins': '0xB3[3]_0x01 \"clamp bso en\"'}, 445: {'page': 'Boost', 'dft': 'BST_ERRAMP_BSO', 'ins': '0xB1[4]_0x01 \"err amp bso en\"'}, 446: {'page': 'Boost', 'dft': 'BST_ERRAMP_BSO', 'ins': '0xB0[0]_0x01 \"bst general en\"'}, 447: {'page': 'Boost', 'dft': 'BST_ERRAMP_BSO', 'ins': '0xFE_0x01 \"Select page 1\"'}, 448: {'page': 'Boost', 'dft': 'BST_ERRAMP_BSO', 'ins': '0x1A_0x07 \"ana test TSW VREGBSO\"'}, 452: {'page': 'Boost', 'dft': 'BST_ERRAMP_BSO', 'ins': '0x15[4]_0x01 \"Force bst general en\"'}, 453: {'page': 'Boost', 'dft': 'BST_ERRAMP_BSO', 'ins': '0xFE_0x00 \"Select page 0\"'}, 454: {'page': 'Boost', 'dft': 'BST_ERRAMP_BSO', 'ins': '0xB2[0]_0x01 \"Power Force en\"'}, 458: {'page': 'Boost', 'dft': 'BST_ERRAMP_BSO', 'ins': '0xFE_0x01 \"Select page 1\"'}, 459: {'page': 'Boost', 'dft': 'BST_ERRAMP_BSO', 'ins': '0x16[4]_0x01 \"force err amp bso\"'}, 460: {'page': 'Boost', 'dft': 'BST_ERRAMP_BSO', 'ins': '0x17[4]_0x01 \"force clamp bso\"'}, 461: {'page': 'Boost', 'dft': 'BST_ERRAMP_BSO', 'ins': '0x19[1]_0x01 \"bst_test en\"'}, 466: {'page': 'Boost', 'dft': 'BST_ERRAMP_BSO', 'ins': '0xFE_0x00 \"Select page 0\"'}, 467: {'page': 'Boost', 'dft': 'BST_ERRAMP_BSO', 'ins': '0xCA_0x11 \"VREF higher than VBSO_PAR so the output should clamp low\"'}, 473: {'page': 'Boost', 'dft': 'BST_ERRAMP_BSO', 'ins': '0xFE_0x01 \"Select page 1\"'}, 475: {'page': 'Boost', 'dft': 'BST_ERRAMP_BSO', 'ins': '0x1A_0x00'}, 476: {'page': 'Boost', 'dft': 'BST_ERRAMP_BSO', 'ins': '0x19_0x00'}, 484: {'page': 'Boost', 'dft': 'BST_ERR_AMP_BIAS', 'ins': '0x11_0x00 \"VREF BIAS low so the output clamps high\"'}, 485: {'page': 'Boost', 'dft': 'BST_ERR_AMP_BIAS', 'ins': '0xFE_0x00 \"Select page 0\"'}, 486: {'page': 'Boost', 'dft': 'BST_ERR_AMP_BIAS', 'ins': '0xB3[4]_0x01 \"clamp bias en\"'}, 487: {'page': 'Boost', 'dft': 'BST_ERR_AMP_BIAS', 'ins': '0xB1[5]_0x01 \"err amp bias en\"'}, 488: {'page': 'Boost', 'dft': 'BST_ERR_AMP_BIAS', 'ins': '0xB0[0]_0x01 \"bst general en\"'}, 489: {'page': 'Boost', 'dft': 'BST_ERR_AMP_BIAS', 'ins': '0xFE_0x01 \"Select page 1\"'}, 490: {'page': 'Boost', 'dft': 'BST_ERR_AMP_BIAS', 'ins': '0x1A_0x08 \"ana test TSW VREGBIAS\"'}, 494: {'page': 'Boost', 'dft': 'BST_ERR_AMP_BIAS', 'ins': '0x15[4]_0x01 \"Force bst general en\"'}, 495: {'page': 'Boost', 'dft': 'BST_ERR_AMP_BIAS', 'ins': '0xFE_0x00 \"Select page 0\"'}, 496: {'page': 'Boost', 'dft': 'BST_ERR_AMP_BIAS', 'ins': '0xB2[0]_0x01 \"Power Force en\"'}, 500: {'page': 'Boost', 'dft': 'BST_ERR_AMP_BIAS', 'ins': '0xFE_0x01 \"Select page 1\"'}, 501: {'page': 'Boost', 'dft': 'BST_ERR_AMP_BIAS', 'ins': '0x16[5]_0x01 \"force err amp bias\"'}, 502: {'page': 'Boost', 'dft': 'BST_ERR_AMP_BIAS', 'ins': '0x17[3]_0x01 \"force clamp bias\"'}, 503: {'page': 'Boost', 'dft': 'BST_ERR_AMP_BIAS', 'ins': '0x19[1]_0x01 \"bst_test en\"'}, 508: {'page': 'Boost', 'dft': 'BST_ERR_AMP_BIAS', 'ins': '0x11_0x07 \"VREF higher than VBIAS_PAR so output shoulkd be clamped low\"'}, 514: {'page': 'Boost', 'dft': 'BST_ERR_AMP_BIAS', 'ins': '0x1A_0x00'}, 515: {'page': 'Boost', 'dft': 'BST_ERR_AMP_BIAS', 'ins': '0x19_0x00'}, 523: {'page': 'Boost', 'dft': 'BST_CLAMP_VBAT_REF', 'ins': '0xFE_0x00 \"Select page 0\"'}, 524: {'page': 'Boost', 'dft': 'BST_CLAMP_VBAT_REF', 'ins': '0xB0[0]_0x01 \"bst general en\"'}, 525: {'page': 'Boost', 'dft': 'BST_CLAMP_VBAT_REF', 'ins': '0xFE_0x01 \"Select page 1\"'}, 526: {'page': 'Boost', 'dft': 'BST_CLAMP_VBAT_REF', 'ins': '0x1A_0x09 \"ana test TSW CLAMP REF H\"'}, 530: {'page': 'Boost', 'dft': 'BST_CLAMP_VBAT_REF', 'ins': '0x15[4]_0x01 \"Force bst general en\"'}, 531: {'page': 'Boost', 'dft': 'BST_CLAMP_VBAT_REF', 'ins': '0xFE_0x00 \"Select page 0\"'}, 532: {'page': 'Boost', 'dft': 'BST_CLAMP_VBAT_REF', 'ins': '0xB2[0]_0x01 \"Power Force en\"'}, 536: {'page': 'Boost', 'dft': 'BST_CLAMP_VBAT_REF', 'ins': '0xFE_0x01 \"Select page 1\"'}, 537: {'page': 'Boost', 'dft': 'BST_CLAMP_VBAT_REF', 'ins': '0x19[1]_0x01 \"bst_test en\"'}, 542: {'page': 'Boost', 'dft': 'BST_CLAMP_VBAT_REF', 'ins': '0x1A_0x0A \"ana test TSW CLAMP REF L\"'}, 544: {'page': 'Boost', 'dft': 'BST_CLAMP_VBAT_REF', 'ins': '0x1A_0x0B \"ana test TSW VREF_VBAT\"'}, 547: {'page': 'Boost', 'dft': 'BST_CLAMP_VBAT_REF', 'ins': '0x1A_0x00'}, 548: {'page': 'Boost', 'dft': 'BST_CLAMP_VBAT_REF', 'ins': '0x19_0x00'}, 556: {'page': 'Boost', 'dft': 'BST_BSO_BIAS_PAR', 'ins': '0xFE_0x00 \"Select page 0\"'}, 557: {'page': 'Boost', 'dft': 'BST_BSO_BIAS_PAR', 'ins': '0xB0[0]_0x01 \"bst general en\"'}, 558: {'page': 'Boost', 'dft': 'BST_BSO_BIAS_PAR', 'ins': '0xFE_0x01 \"Select page 1\"'}, 559: {'page': 'Boost', 'dft': 'BST_BSO_BIAS_PAR', 'ins': '0x1A_0x05 \"ana test TSW VBSO PAR\"'}, 563: {'page': 'Boost', 'dft': 'BST_BSO_BIAS_PAR', 'ins': '0x15[4]_0x01 \"Force bst general en\"'}, 564: {'page': 'Boost', 'dft': 'BST_BSO_BIAS_PAR', 'ins': '0xFE_0x00 \"Select page 0\"'}, 565: {'page': 'Boost', 'dft': 'BST_BSO_BIAS_PAR', 'ins': '0xB2[0]_0x01 \"Power Force en\"'}, 569: {'page': 'Boost', 'dft': 'BST_BSO_BIAS_PAR', 'ins': '0xFE_0x01 \"Select page 1\"'}, 570: {'page': 'Boost', 'dft': 'BST_BSO_BIAS_PAR', 'ins': '0x19[1]_0x01 \"bst_test en\"'}, 575: {'page': 'Boost', 'dft': 'BST_BSO_BIAS_PAR', 'ins': '0x1A_0x06 \"ana test TSW VBIAS PAR\"'}, 578: {'page': 'Boost', 'dft': 'BST_BSO_BIAS_PAR', 'ins': '0x1A_0x00'}, 579: {'page': 'Boost', 'dft': 'BST_BSO_BIAS_PAR', 'ins': '0x19_0x00'}, 587: {'page': 'Boost', 'dft': 'BST_MFL', 'ins': '0xFE_0x00 \"Select page 0\"'}, 588: {'page': 'Boost', 'dft': 'BST_MFL', 'ins': '0xB0[4]_0x01 \"mfl_en\"'}, 589: {'page': 'Boost', 'dft': 'BST_MFL', 'ins': '0xB2[7:6]_0x00 \"mfl 00 -> 20.5kHz\"'}, 590: {'page': 'Boost', 'dft': 'BST_MFL', 'ins': '0xFE_0x01 \"Select page 1\"'}, 591: {'page': 'Boost', 'dft': 'BST_MFL', 'ins': '0x03_0x04 \"FSYN TMUX\"'}, 592: {'page': 'Boost', 'dft': 'BST_MFL', 'ins': '0x04_0x1F \"dig test EN FSYN=mfl\"'}, 596: {'page': 'Boost', 'dft': 'BST_MFL', 'ins': '0xFE_0x00 \"Select page 0\"'}, 597: {'page': 'Boost', 'dft': 'BST_MFL', 'ins': '0xB2[0]_0x01 \"Power Force en\"'}, 598: {'page': 'Boost', 'dft': 'BST_MFL', 'ins': '0xFE_0x01 \"Select page 1\"'}, 599: {'page': 'Boost', 'dft': 'BST_MFL', 'ins': '0x15[5]_0x01 \"Force mfl\"'}, 600: {'page': 'Boost', 'dft': 'BST_MFL', 'ins': '0x19[1]_0x01 \"bst_test en\"'}, 604: {'page': 'Boost', 'dft': 'BST_MFL', 'ins': '0xFE_0x00 \"Select page 0\"'}, 605: {'page': 'Boost', 'dft': 'BST_MFL', 'ins': '0xB0[4]_0x00 \"mfl_en\"'}, 609: {'page': 'Boost', 'dft': 'BST_MFL', 'ins': '0xB2[7:6]_0x01 \"mfl 01 -> 24.4kHz\"'}, 610: {'page': 'Boost', 'dft': 'BST_MFL', 'ins': '0xB0[4]_0x01 \"mfl_en\"'}, 614: {'page': 'Boost', 'dft': 'BST_MFL', 'ins': '0xB0[4]_0x00 \"mfl_en\"'}, 618: {'page': 'Boost', 'dft': 'BST_MFL', 'ins': '0xB2[7:6]_0x02 \"mfl 02 -> 28.2kHz\"'}, 619: {'page': 'Boost', 'dft': 'BST_MFL', 'ins': '0xB0[4]_0x01 \"mfl_en\"'}, 623: {'page': 'Boost', 'dft': 'BST_MFL', 'ins': '0xB0[4]_0x00 \"mfl_en\"'}, 627: {'page': 'Boost', 'dft': 'BST_MFL', 'ins': '0xB2[7:6]_0x03 \"mfl 02 -> 33.6kHz\"'}, 628: {'page': 'Boost', 'dft': 'BST_MFL', 'ins': '0xB0[4]_0x01 \"mfl_en\"'}, 632: {'page': 'Boost', 'dft': 'BST_MFL', 'ins': '0xFE_0x01 \"Select page 1\"'}, 633: {'page': 'Boost', 'dft': 'BST_MFL', 'ins': '0x03_0x00 '}, 634: {'page': 'Boost', 'dft': 'BST_MFL', 'ins': '0x04_0x00'}, 635: {'page': 'Boost', 'dft': 'BST_MFL', 'ins': '0x19_0x00'}, 641: {'page': 'Boost', 'dft': 'BST_DAC_BSO', 'ins': '0xFE_0x00 \"Select page 0\"'}, 642: {'page': 'Boost', 'dft': 'BST_DAC_BSO', 'ins': '0xB2[5:4]_0x00 \"00 code for OVP ref, approximately 9V\"'}, 643: {'page': 'Boost', 'dft': 'BST_DAC_BSO', 'ins': '0xCA_0x00 \"correspond to a VREF BSO of 0V\"'}, 644: {'page': 'Boost', 'dft': 'BST_DAC_BSO', 'ins': '0xFE_0x01 \"Select page 1\"'}, 645: {'page': 'Boost', 'dft': 'BST_DAC_BSO', 'ins': '0x1A_0x0C \"TSW to VREF_OVP_BSO\"'}, 649: {'page': 'Boost', 'dft': 'BST_DAC_BSO', 'ins': '0xFE_0x00 \"Select page 0\"'}, 650: {'page': 'Boost', 'dft': 'BST_DAC_BSO', 'ins': '0xB2[0]_0x01 \"Power Force en\"'}, 651: {'page': 'Boost', 'dft': 'BST_DAC_BSO', 'ins': '0xFE_0x01 \"Select page 1\"'}, 652: {'page': 'Boost', 'dft': 'BST_DAC_BSO', 'ins': '0x19[1]_0x01 \"bst_test en\"'}, 658: {'page': 'Boost', 'dft': 'BST_DAC_BSO', 'ins': '0xFE_0x00 \"Select page 0\"'}, 659: {'page': 'Boost', 'dft': 'BST_DAC_BSO', 'ins': '0xB2[5:4]_0x01 \"01 code for OVP ref, approximately 22.55V\"'}, 665: {'page': 'Boost', 'dft': 'BST_DAC_BSO', 'ins': '0xFE_0x01 \"Select page 1\"'}, 666: {'page': 'Boost', 'dft': 'BST_DAC_BSO', 'ins': '0x1A_0x0E \"TSW to VREF_BSO\"'}, 670: {'page': 'Boost', 'dft': 'BST_DAC_BSO', 'ins': '0xFE_0x00 \"Select page 0\"'}, 671: {'page': 'Boost', 'dft': 'BST_DAC_BSO', 'ins': '0xCA_0x0B \"correspond to a Virtual VREF BSO of 0.22V and a VREF_BSO of 3.025V\"'}, 677: {'page': 'Boost', 'dft': 'BST_DAC_BSO', 'ins': '0xCA_0x16 \"correspond to a Virtual VREF BSO of 0.44V and a VREF_BSO of 6.05V\"'}, 683: {'page': 'Boost', 'dft': 'BST_DAC_BSO', 'ins': '0xCA_0x21 \"correspond to a Virtual VREF BSO of 0.66V and a VREF_BSO of 9.075V\"'}, 689: {'page': 'Boost', 'dft': 'BST_DAC_BSO', 'ins': '0xCA_0x45 \"correspond to a Virtual VREF BSO of 1.38V and a VREF_BSO of 18.975V\"'}, 695: {'page': 'Boost', 'dft': 'BST_DAC_BSO', 'ins': '0xFE_0x01 \"Select page 1\"'}, 696: {'page': 'Boost', 'dft': 'BST_DAC_BSO', 'ins': '0x1A_0x00'}, 697: {'page': 'Boost', 'dft': 'BST_DAC_BSO', 'ins': '0x19_0x00'}, 703: {'page': 'Boost', 'dft': 'BST_DAC_BIAS', 'ins': '0xFE_0x00 \"Select page 0\"'}, 704: {'page': 'Boost', 'dft': 'BST_DAC_BIAS', 'ins': '0xB2[3:2]_0x01 \"01 code for OVP BIAS ref, this corresponds to +1 to threshold\"'}, 705: {'page': 'Boost', 'dft': 'BST_DAC_BIAS', 'ins': '0xFE_0x01 \"Select page 1\"'}, 706: {'page': 'Boost', 'dft': 'BST_DAC_BIAS', 'ins': '0x11_0x00 \"correspond to a VREF BIAS of 0.22V, that corresponds to a VBIAS of 6.05V\"'}, 707: {'page': 'Boost', 'dft': 'BST_DAC_BIAS', 'ins': '0x1A_0x0D \"TSW to VREF_OVP_BIAS\"'}, 711: {'page': 'Boost', 'dft': 'BST_DAC_BIAS', 'ins': '0xFE_0x00 \"Select page 0\"'}, 712: {'page': 'Boost', 'dft': 'BST_DAC_BIAS', 'ins': '0xB2[0]_0x01 \"Power Force en\"'}, 713: {'page': 'Boost', 'dft': 'BST_DAC_BIAS', 'ins': '0xFE_0x01 \"Select page 1\"'}, 714: {'page': 'Boost', 'dft': 'BST_DAC_BIAS', 'ins': '0x19[1]_0x01 \"bst_test en\"'}, 720: {'page': 'Boost', 'dft': 'BST_DAC_BIAS', 'ins': '0x1A_0x0F \"TSW to VREF_BIAS\"'}, 725: {'page': 'Boost', 'dft': 'BST_DAC_BIAS', 'ins': '0x11_0x10 \"correspond to a Virtual VREF BIAS of 0.54V that corresponds to a VBIAS of 14.85V\"'}, 731: {'page': 'Boost', 'dft': 'BST_DAC_BIAS', 'ins': '0x1A_0x0D \"TSW to VREF_OVP_BIAS \"'}, 735: {'page': 'Boost', 'dft': 'BST_DAC_BIAS', 'ins': '0x11_0x21 \"correspond to a Virtual VREF BIAS of 0.88V that corresponds to a VBIAS of 24.2V\"'}, 741: {'page': 'Boost', 'dft': 'BST_DAC_BIAS', 'ins': '0x1A_0x0F \"TSW to VREF_BIAS\"'}, 745: {'page': 'Boost', 'dft': 'BST_DAC_BIAS', 'ins': '0x1A_0x00'}, 746: {'page': 'Boost', 'dft': 'BST_DAC_BIAS', 'ins': '0x19_0x01'}, 752: {'page': 'Boost', 'dft': 'BST_OCP_TRIM', 'ins': '0xFE_0x00 \"Select page 0\"'}, 753: {'page': 'Boost', 'dft': 'BST_OCP_TRIM', 'ins': '0xB0[1]_0x01 \"ocp en'}, 754: {'page': 'Boost', 'dft': 'BST_OCP_TRIM', 'ins': '0xB2[1]_0x01 \"ls_sel on\"'}, 755: {'page': 'Boost', 'dft': 'BST_OCP_TRIM', 'ins': '0xC0[2:0]_0x01 \"OCP threshold set to 200mA\"'}, 756: {'page': 'Boost', 'dft': 'BST_OCP_TRIM', 'ins': '0xFE_0x01 \"Select page 1\"'}, 757: {'page': 'Boost', 'dft': 'BST_OCP_TRIM', 'ins': '0x1A_0x10 \"TSW to OCP Sense\"'}, 761: {'page': 'Boost', 'dft': 'BST_OCP_TRIM', 'ins': '0xFE_0x00 \"Select page 0\"'}, 762: {'page': 'Boost', 'dft': 'BST_OCP_TRIM', 'ins': '0xB2[0]_0x01 \"Power Force en\"'}, 763: {'page': 'Boost', 'dft': 'BST_OCP_TRIM', 'ins': '0xFE_0x01 \"Select page 1\"'}, 767: {'page': 'Boost', 'dft': 'BST_OCP_TRIM', 'ins': '0x15[2]_0x01 \"Force ocp\"'}, 768: {'page': 'Boost', 'dft': 'BST_OCP_TRIM', 'ins': '0x19[1]_0x01 \"bst_test en\"'}, 778: {'page': 'Boost', 'dft': 'BST_OCP_TRIM', 'ins': '0x1A_0x00'}, 779: {'page': 'Boost', 'dft': 'BST_OCP_TRIM', 'ins': '0x19_0x00'}, 787: {'page': 'Boost', 'dft': 'BST_OVP_BSO', 'ins': '0xFE_0x00 \"Select page 0\"'}, 788: {'page': 'Boost', 'dft': 'BST_OVP_BSO', 'ins': '0xB1[0]_0x01 \"OVP_BSO_en\"'}, 789: {'page': 'Boost', 'dft': 'BST_OVP_BSO', 'ins': '0xB2[5:4]_0x00 \"ovp ref bso sel set to 9V\"'}, 790: {'page': 'Boost', 'dft': 'BST_OVP_BSO', 'ins': '0xCA_0x00 \"correspond to a VREF BSO of 0V\"'}, 791: {'page': 'Boost', 'dft': 'BST_OVP_BSO', 'ins': '0xB0[0]_0x01 \"bst general en\"'}, 792: {'page': 'Boost', 'dft': 'BST_OVP_BSO', 'ins': '0xFE_0x01 \"Select page 1\"'}, 793: {'page': 'Boost', 'dft': 'BST_OVP_BSO', 'ins': '0x1A_0x0C \"TSW to VREF_OVP_BSO\"'}, 794: {'page': 'Boost', 'dft': 'BST_OVP_BSO', 'ins': '0x03_0x04 \"FSYN en\"'}, 795: {'page': 'Boost', 'dft': 'BST_OVP_BSO', 'ins': '0x04_0x1B \"FSYN=ovp_bso\"'}, 799: {'page': 'Boost', 'dft': 'BST_OVP_BSO', 'ins': '0xFE_0x00 \"Select page 0\"'}, 800: {'page': 'Boost', 'dft': 'BST_OVP_BSO', 'ins': '0xB2[0]_0x01 \"Power Force en\"'}, 801: {'page': 'Boost', 'dft': 'BST_OVP_BSO', 'ins': '0xFE_0x01 \"Select page 1\"'}, 802: {'page': 'Boost', 'dft': 'BST_OVP_BSO', 'ins': '0x15[4]_0x01 \"Force bst general en\"'}, 806: {'page': 'Boost', 'dft': 'BST_OVP_BSO', 'ins': '0x16[1]_0x01  \"Force ovp bso\"'}, 807: {'page': 'Boost', 'dft': 'BST_OVP_BSO', 'ins': '0x19[1]_0x01 \"bst_test en\"'}, 821: {'page': 'Boost', 'dft': 'BST_OVP_BSO', 'ins': '0x1A_0x00'}, 822: {'page': 'Boost', 'dft': 'BST_OVP_BSO', 'ins': '0x19_0x00'}, 823: {'page': 'Boost', 'dft': 'BST_OVP_BSO', 'ins': '0x03_0x00'}, 824: {'page': 'Boost', 'dft': 'BST_OVP_BSO', 'ins': '0x04_0x00'}, 830: {'page': 'Boost', 'dft': 'BST_BIAS_OVP', 'ins': '0xFE_0x00 \"Select page 0\"'}, 831: {'page': 'Boost', 'dft': 'BST_BIAS_OVP', 'ins': '0xB1[1]_0x01 \"OVP_BIAS_en\"'}, 832: {'page': 'Boost', 'dft': 'BST_BIAS_OVP', 'ins': '0xB2[3:2]_0x00 \"ovp ref bias sel set to threshold +0\"'}, 833: {'page': 'Boost', 'dft': 'BST_BIAS_OVP', 'ins': '0xB0[0]_0x01 \"bst general en\"'}, 834: {'page': 'Boost', 'dft': 'BST_BIAS_OVP', 'ins': '0xFE_0x01 \"Select page 1\"'}, 835: {'page': 'Boost', 'dft': 'BST_BIAS_OVP', 'ins': '0x11_0x06 \"correspond to a VREF BIAS of 9.36V\"'}, 836: {'page': 'Boost', 'dft': 'BST_BIAS_OVP', 'ins': '0x1A_0x0D \"TSW to VREF_OVP_BIAS\"'}, 837: {'page': 'Boost', 'dft': 'BST_BIAS_OVP', 'ins': '0x03_0x04 \"FSYN en\"'}, 838: {'page': 'Boost', 'dft': 'BST_BIAS_OVP', 'ins': '0x04_0x1C \"FSYN=ovp_bias\"'}, 842: {'page': 'Boost', 'dft': 'BST_BIAS_OVP', 'ins': '0xFE_0x00 \"Select page 0\"'}, 843: {'page': 'Boost', 'dft': 'BST_BIAS_OVP', 'ins': '0xB2[0]_0x01 \"Power Force en\"'}, 844: {'page': 'Boost', 'dft': 'BST_BIAS_OVP', 'ins': '0xFE_0x01 \"Select page 1\"'}, 845: {'page': 'Boost', 'dft': 'BST_BIAS_OVP', 'ins': '0x15[4]_0x01 \"Force bst general en\"'}, 849: {'page': 'Boost', 'dft': 'BST_BIAS_OVP', 'ins': '0x16[1]_0x01  \"Force ovp bias\"'}, 850: {'page': 'Boost', 'dft': 'BST_BIAS_OVP', 'ins': '0x19[1]_0x01 \"bst_test en\"'}, 863: {'page': 'Boost', 'dft': 'BST_BIAS_OVP', 'ins': '0x1A_0x00'}, 864: {'page': 'Boost', 'dft': 'BST_BIAS_OVP', 'ins': '0x19_0x00'}, 865: {'page': 'Boost', 'dft': 'BST_BIAS_OVP', 'ins': '0x03_0x00'}, 866: {'page': 'Boost', 'dft': 'BST_BIAS_OVP', 'ins': '0x04_0x00'}, 872: {'page': 'Boost', 'dft': 'BST_ENV_TRACK', 'ins': '0xFE_0x00 \"Select page 0\"'}, 873: {'page': 'Boost', 'dft': 'BST_ENV_TRACK', 'ins': '0xB0[3]_0x01 \"env_track en\"'}, 874: {'page': 'Boost', 'dft': 'BST_ENV_TRACK', 'ins': '0xCA_0x00 \"vref_bso to 0V that corresponds to 0V on BSO\"'}, 875: {'page': 'Boost', 'dft': 'BST_ENV_TRACK', 'ins': '0xB0[0]_0x01 \"bst general en\"'}, 876: {'page': 'Boost', 'dft': 'BST_ENV_TRACK', 'ins': '0xFE_0x01 \"Select page 1\"'}, 877: {'page': 'Boost', 'dft': 'BST_ENV_TRACK', 'ins': '0x03_0x04 \"FSYN en\"'}, 878: {'page': 'Boost', 'dft': 'BST_ENV_TRACK', 'ins': '0x04_0x0A \"FSYN=bst_env_track\"'}, 882: {'page': 'Boost', 'dft': 'BST_ENV_TRACK', 'ins': '0xFE_0x00 \"Select page 0\"'}, 883: {'page': 'Boost', 'dft': 'BST_ENV_TRACK', 'ins': '0xB2[0]_0x01 \"Power Force en\"'}, 884: {'page': 'Boost', 'dft': 'BST_ENV_TRACK', 'ins': '0xFE_0x01 \"Select page 1\"'}, 885: {'page': 'Boost', 'dft': 'BST_ENV_TRACK', 'ins': '0x15[4]_0x01 \"Force bst general en\"'}, 889: {'page': 'Boost', 'dft': 'BST_ENV_TRACK', 'ins': '0x15[0]_0x01 \"force env_track\"'}, 890: {'page': 'Boost', 'dft': 'BST_ENV_TRACK', 'ins': '0x19[1]_0x01 \"bst_test en\"'}, 896: {'page': 'Boost', 'dft': 'BST_ENV_TRACK', 'ins': '0xFE_0x00 \"Select page 0\"'}, 897: {'page': 'Boost', 'dft': 'BST_ENV_TRACK', 'ins': '0xCA_0x12 \"vref_bso to 0.36V that corresponds to 4.95V on BSO\"'}, 903: {'page': 'Boost', 'dft': 'BST_ENV_TRACK', 'ins': '0xFE_0x01 \"Select page 1\"'}, 905: {'page': 'Boost', 'dft': 'BST_ENV_TRACK', 'ins': '0x19_0x00'}, 906: {'page': 'Boost', 'dft': 'BST_ENV_TRACK', 'ins': '0x03_0x00'}, 907: {'page': 'Boost', 'dft': 'BST_ENV_TRACK', 'ins': '0x04_0x00'}, 912: {'page': 'Boost', 'dft': 'BST_ZC', 'ins': '0xFE_0x00 \"Select page 0\"'}, 913: {'page': 'Boost', 'dft': 'BST_ZC', 'ins': '0xB0_0x00 \"en 1 bst low\"'}, 914: {'page': 'Boost', 'dft': 'BST_ZC', 'ins': '0xB1_0x00 \"en 2 bst low\"'}, 915: {'page': 'Boost', 'dft': 'BST_ZC', 'ins': '0xB3[4:3]_0x00 \"en 3 bst low\"'}, 916: {'page': 'Boost', 'dft': 'BST_ZC', 'ins': '0x18[6]_0x01 \"Enable Mirr\"'}, 917: {'page': 'Boost', 'dft': 'BST_ZC', 'ins': '0xB1[6]_0x01 \"Bootstrap en\"'}, 918: {'page': 'Boost', 'dft': 'BST_ZC', 'ins': '0xB2[1]_0x00 \"ls_sel off\"'}, 919: {'page': 'Boost', 'dft': 'BST_ZC', 'ins': '0xB4[2:0]_0x00 \"hsa_hsb_byp off\"'}, 920: {'page': 'Boost', 'dft': 'BST_ZC', 'ins': '0xFE_0x01 \"Select page 1\"'}, 921: {'page': 'Boost', 'dft': 'BST_ZC', 'ins': '0x17[6]_0x01 \"Force Mirr\"'}, 922: {'page': 'Boost', 'dft': 'BST_ZC', 'ins': '0x16[6]_0x01 \"Force Bootstrap\"'}, 926: {'page': 'Boost', 'dft': 'BST_ZC', 'ins': '0xFE_0x00 \"Select page 0\"'}, 927: {'page': 'Boost', 'dft': 'BST_ZC', 'ins': '0xB0[6]_0x01 \"zc en\"'}, 928: {'page': 'Boost', 'dft': 'BST_ZC', 'ins': '0xB0[0]_0x01 \"bst general en\"'}, 929: {'page': 'Boost', 'dft': 'BST_ZC', 'ins': '0xFE_0x01 \"Select page 1\"'}, 930: {'page': 'Boost', 'dft': 'BST_ZC', 'ins': '0x03_0x04 \"FSYN en\"'}, 931: {'page': 'Boost', 'dft': 'BST_ZC', 'ins': '0x04_0x16 \"FSYN=bst_zc1 \"'}, 935: {'page': 'Boost', 'dft': 'BST_ZC', 'ins': '0xFE_0x00 \"Select page 0\"'}, 936: {'page': 'Boost', 'dft': 'BST_ZC', 'ins': '0xB2[0]_0x01 \"Power Force en\"'}, 937: {'page': 'Boost', 'dft': 'BST_ZC', 'ins': '0xFE_0x01 \"Select page 1\"'}, 938: {'page': 'Boost', 'dft': 'BST_ZC', 'ins': '0x15[4]_0x01 \"Force bst general en\"'}, 943: {'page': 'Boost', 'dft': 'BST_ZC', 'ins': '0x16[7]_0x01 \"force zc\"'}, 944: {'page': 'Boost', 'dft': 'BST_ZC', 'ins': '0x19[1]_0x01 \"bst_test en\"'}, 955: {'page': 'Boost', 'dft': 'BST_ZC', 'ins': '0x19_0x00'}, 956: {'page': 'Boost', 'dft': 'BST_ZC', 'ins': '0x03_0x00'}, 957: {'page': 'Boost', 'dft': 'BST_ZC', 'ins': '0x04_0x01'}, 963: {'page': 'Boost', 'dft': 'BST_NORMAL_OPERATION_BSO (DA RIVEDERE)', 'ins': '0xFE_0x00 \"Select page 0\"'}, 964: {'page': 'Boost', 'dft': 'BST_NORMAL_OPERATION_BSO (DA RIVEDERE)', 'ins': '0x19[0]_0x01 \"spk_en 1, boost should be in bypass after this command\"'}, 970: {'page': 'Boost', 'dft': 'BST_NORMAL_OPERATION_BSO (DA RIVEDERE)', 'ins': '0xCA_0x21 \"ref BSO set to 660mV -> 9,075V BSO\"'}, 975: {'page': 'Boost', 'dft': 'BST_NORMAL_OPERATION_BSO (DA RIVEDERE)', 'ins': '0xCA_0x33 \"ref BSO set to 1.02V -> 14,025V BSO\"'}, 980: {'page': 'Boost', 'dft': 'BST_NORMAL_OPERATION_BSO (DA RIVEDERE)', 'ins': '0xCA_0x49 \"ref BSO set to 1.46V -> 20,075V BSO\"'}, 989: {'page': 'Boost', 'dft': 'BST_NORMAL_OPERATION_BIAS (DA RIVEDERE)', 'ins': '0xFE_0x00 \"Select page 0\"'}, 990: {'page': 'Boost', 'dft': 'BST_NORMAL_OPERATION_BIAS (DA RIVEDERE)', 'ins': '0x19[0]_0x01 \"spk_en 1, boost should be in bypass after this command\"'}, 996: {'page': 'Boost', 'dft': 'BST_NORMAL_OPERATION_BIAS (DA RIVEDERE)', 'ins': '0xFE_0x01 \"Select page 1\"'}, 997: {'page': 'Boost', 'dft': 'BST_NORMAL_OPERATION_BIAS (DA RIVEDERE)', 'ins': '0x11_0x06\"ref BIAS set to 340mV -> 9,35V BIAS\"'}, 1002: {'page': 'Boost', 'dft': 'BST_NORMAL_OPERATION_BIAS (DA RIVEDERE)', 'ins': '0x11_0x11 \"ref BIAS set to 560mV -> 15,4V BIAS\"'}, 1007: {'page': 'Boost', 'dft': 'BST_NORMAL_OPERATION_BIAS (DA RIVEDERE)', 'ins': '0x11_0x21 \"ref BIAS set to 880mV -> 24,2V BIAS\"'}, 1019: {'page': 'Boost', 'dft': 'BST_BOOTSTRAP', 'ins': '0x00_0x0F \"Power-up\"'}, 1020: {'page': 'Boost', 'dft': 'BST_BOOTSTRAP', 'ins': '0xB0_0x00 \"en 1 bst low\"'}, 1021: {'page': 'Boost', 'dft': 'BST_BOOTSTRAP', 'ins': '0xB1_0x00 \"en 2 bst low\"'}, 1022: {'page': 'Boost', 'dft': 'BST_BOOTSTRAP', 'ins': '0xB3[4:3]_0x00 \"en 3 bst low\"'}, 1024: {'page': 'Boost', 'dft': 'BST_BOOTSTRAP', 'ins': '0xFE_0x01 \"Select page 1\"'}, 1025: {'page': 'Boost', 'dft': 'BST_BOOTSTRAP', 'ins': '0x2F_0xAA \"Unlock test page\"'}, 1026: {'page': 'Boost', 'dft': 'BST_BOOTSTRAP', 'ins': '0x2F_0xBB \"Unlock test page\"'}, 1028: {'page': 'Boost', 'dft': 'BST_BOOTSTRAP', 'ins': '0x18[6]_0x01 \"Enable Mirr\"'}, 1029: {'page': 'Boost', 'dft': 'BST_BOOTSTRAP', 'ins': '0xFE_0x00 \"Select page 0\"'}, 1030: {'page': 'Boost', 'dft': 'BST_BOOTSTRAP', 'ins': '0xB1[6]_0x01 \"Bootstrap en\"'}, 1031: {'page': 'Boost', 'dft': 'BST_BOOTSTRAP', 'ins': '0xB2[1]_0x00 \"ls_sel off\"'}, 1032: {'page': 'Boost', 'dft': 'BST_BOOTSTRAP', 'ins': '0xB4[2:0]_0x04 \"hsb on hsa_byp off\"'}, 1033: {'page': 'Boost', 'dft': 'BST_BOOTSTRAP', 'ins': '0xB0[0]_0x01 \"bst general en\"'}, 1034: {'page': 'Boost', 'dft': 'BST_BOOTSTRAP', 'ins': '0xFE_0x01 \"Select page 1\"'}, 1035: {'page': 'Boost', 'dft': 'BST_BOOTSTRAP', 'ins': '0x1A_0x03 \"ana test TSW drive\"'}, 1036: {'page': 'Boost', 'dft': 'BST_BOOTSTRAP', 'ins': '0x03_0x05 \"FSYN and SDI TMUX\"'}, 1037: {'page': 'Boost', 'dft': 'BST_BOOTSTRAP', 'ins': '0x04_0x14 \"dig test EN FSYN=bst_bootstrap_comp_out SDI=low_on\"'}, 1038: {'page': 'Boost', 'dft': 'BST_BOOTSTRAP', 'ins': '0x17[6]_0x01 \"Force Mirr\"'}, 1039: {'page': 'Boost', 'dft': 'BST_BOOTSTRAP', 'ins': '0x16[6]_0x01 \"Force Bootstrap\"'}, 1040: {'page': 'Boost', 'dft': 'BST_BOOTSTRAP', 'ins': '0xFE_0x00 \"Select page 0\"'}, 1044: {'page': 'Boost', 'dft': 'BST_BOOTSTRAP', 'ins': '0xB2[0]_0x01 \"Power Force en\"'}, 1045: {'page': 'Boost', 'dft': 'BST_BOOTSTRAP', 'ins': '0xFE_0x01 \"Select page 1\"'}, 1046: {'page': 'Boost', 'dft': 'BST_BOOTSTRAP', 'ins': '0x15[4]_0x01 \"Force bst general en\"'}, 1050: {'page': 'Boost', 'dft': 'BST_BOOTSTRAP', 'ins': '0x19[1]_0x01 \"bst_test en\"'}, 1066: {'page': 'Boost', 'dft': 'BST_BOOTSTRAP', 'ins': '0x03_0x00 '}, 1067: {'page': 'Boost', 'dft': 'BST_BOOTSTRAP', 'ins': '0x04_0x00'}, 1069: {'page': 'Boost', 'dft': 'BST_BOOTSTRAP', 'ins': '0x1A_0x00'}, 1070: {'page': 'Boost', 'dft': 'BST_BOOTSTRAP', 'ins': '0x19_0x00'}, 1078: {'page': 'Boost', 'dft': 'BST_ENV_ERR', 'ins': '0xFE_0x00 \"Select page 0\"'}, 1079: {'page': 'Boost', 'dft': 'BST_ENV_ERR', 'ins': '0xB1[7]_0x01 \"env_err en\"'}, 1080: {'page': 'Boost', 'dft': 'BST_ENV_ERR', 'ins': '0xB0[0]_0x01 \"bst general en\"'}, 1081: {'page': 'Boost', 'dft': 'BST_ENV_ERR', 'ins': '0xFE_0x01 \"Select page 1\"'}, 1082: {'page': 'Boost', 'dft': 'BST_ENV_ERR', 'ins': '0x03_0x04 \"FSYN en\"'}, 1083: {'page': 'Boost', 'dft': 'BST_ENV_ERR', 'ins': '0x04_0x09 \"FSYN=bst_env_err\"'}, 1087: {'page': 'Boost', 'dft': 'BST_ENV_ERR', 'ins': '0xFE_0x00 \"Select page 0\"'}, 1088: {'page': 'Boost', 'dft': 'BST_ENV_ERR', 'ins': '0xB2[0]_0x01 \"Power Force en\"'}, 1089: {'page': 'Boost', 'dft': 'BST_ENV_ERR', 'ins': '0xFE_0x01 \"Select page 1\"'}, 1090: {'page': 'Boost', 'dft': 'BST_ENV_ERR', 'ins': '0x15[4]_0x01 \"Force bst general en\"'}, 1094: {'page': 'Boost', 'dft': 'BST_ENV_ERR', 'ins': '0x15[1]_0x01 \"force env_err\"'}, 1095: {'page': 'Boost', 'dft': 'BST_ENV_ERR', 'ins': '0x19[1]_0x01 \"bst_test en\"'}, 1107: {'page': 'Boost', 'dft': 'BST_ENV_ERR', 'ins': '0xFE_0x01 \"Select page 1\"'}, 1109: {'page': 'Boost', 'dft': 'BST_ENV_ERR', 'ins': '0x19_0x00'}, 1110: {'page': 'Boost', 'dft': 'BST_ENV_ERR', 'ins': '0x03_0x00'}, 1111: {'page': 'Boost', 'dft': 'BST_ENV_ERR', 'ins': '0x04_0x00'}, 1116: {'page': 'Boost', 'dft': 'BST_OCP', 'ins': '0xFE_0x00 \"Select page 0\"'}, 1117: {'page': 'Boost', 'dft': 'BST_OCP', 'ins': '0xB0_0x00 \"en 1 bst low\"'}, 1118: {'page': 'Boost', 'dft': 'BST_OCP', 'ins': '0xB1_0x00 \"en 2 bst low\"'}, 1119: {'page': 'Boost', 'dft': 'BST_OCP', 'ins': '0xB3[4:3]_0x00 \"en 3 bst low\"'}, 1120: {'page': 'Boost', 'dft': 'BST_OCP', 'ins': '0x18[6]_0x01 \"Enable Mirr\"'}, 1121: {'page': 'Boost', 'dft': 'BST_OCP', 'ins': '0xB1[6]_0x01 \"Bootstrap en\"'}, 1122: {'page': 'Boost', 'dft': 'BST_OCP', 'ins': '0xB2[1]_0x01 \"ls_sel on\"'}, 1123: {'page': 'Boost', 'dft': 'BST_OCP', 'ins': '0xB4[2:0]_0x00 \"hsa_hsb_byp off\"'}, 1124: {'page': 'Boost', 'dft': 'BST_OCP', 'ins': '0xFE_0x01 \"Select page 1\"'}, 1125: {'page': 'Boost', 'dft': 'BST_OCP', 'ins': '0x17[6]_0x01 \"Force Mirr\"'}, 1126: {'page': 'Boost', 'dft': 'BST_OCP', 'ins': '0x16[6]_0x01 \"Force Bootstrap\"'}, 1130: {'page': 'Boost', 'dft': 'BST_OCP', 'ins': '0xFE_0x00 \"Select page 0\"'}, 1131: {'page': 'Boost', 'dft': 'BST_OCP', 'ins': '0xB0[1]_0x01 \"ocp en\"'}, 1132: {'page': 'Boost', 'dft': 'BST_OCP', 'ins': '0xB0[0]_0x01 \"bst general en\"'}, 1133: {'page': 'Boost', 'dft': 'BST_OCP', 'ins': '0xC0[2:0]_0x01 \"ocp threshold set to 200 mA\"'}, 1134: {'page': 'Boost', 'dft': 'BST_OCP', 'ins': '0xFE_0x01 \"Select page 1\"'}, 1135: {'page': 'Boost', 'dft': 'BST_OCP', 'ins': '0x03_0x04 \"FSYN en\"'}, 1136: {'page': 'Boost', 'dft': 'BST_OCP', 'ins': '0x04_0x09 \"FSYN=bst_env_err\"'}, 1140: {'page': 'Boost', 'dft': 'BST_OCP', 'ins': '0xFE_0x00 \"Select page 0\"'}, 1141: {'page': 'Boost', 'dft': 'BST_OCP', 'ins': '0xB2[0]_0x01 \"Power Force en\"'}, 1142: {'page': 'Boost', 'dft': 'BST_OCP', 'ins': '0xFE_0x01 \"Select page 1\"'}, 1143: {'page': 'Boost', 'dft': 'BST_OCP', 'ins': '0x15[4]_0x01 \"Force bst general en\"'}, 1147: {'page': 'Boost', 'dft': 'BST_OCP', 'ins': '0x15[2]_0x01 \"force ocp\"'}, 1148: {'page': 'Boost', 'dft': 'BST_OCP', 'ins': '0x19[1]_0x01 \"bst_test en\"'}, 1162: {'page': 'Boost', 'dft': 'BST_OCP', 'ins': '0x19_0x00'}, 1163: {'page': 'Boost', 'dft': 'BST_OCP', 'ins': '0x03_0x00'}, 1164: {'page': 'Boost', 'dft': 'BST_OCP', 'ins': '0x04_0x01'}, 1166: {'page': 'DAC+PA', 'dft': 'DAC-PA OFFSET CALIBRATION ANALOG_IN\\nTO BE REPEATED FOR ALL 5 ANALOG GAINS (12-15-18-21-24dB)', 'ins': '0xFE_0x00 \"in base page\"'}, 1167: {'page': 'DAC+PA', 'dft': 'DAC-PA OFFSET CALIBRATION ANALOG_IN\\nTO BE REPEATED FOR ALL 5 ANALOG GAINS (12-15-18-21-24dB)', 'ins': '0x83[2:0]_3b000 \"Analog Gain 12dB setting\"'}, 1168: {'page': 'DAC+PA', 'dft': 'DAC-PA OFFSET CALIBRATION ANALOG_IN\\nTO BE REPEATED FOR ALL 5 ANALOG GAINS (12-15-18-21-24dB)', 'ins': '0x11[1:0]_2b11 \"Input mode: analog\"'}, 1169: {'page': 'DAC+PA', 'dft': 'DAC-PA OFFSET CALIBRATION ANALOG_IN\\nTO BE REPEATED FOR ALL 5 ANALOG GAINS (12-15-18-21-24dB)', 'ins': '0xE0[1:0]_2b00 \"Calibration time 600us, change in case of issues\"'}, 1170: {'page': 'DAC+PA', 'dft': 'DAC-PA OFFSET CALIBRATION ANALOG_IN\\nTO BE REPEATED FOR ALL 5 ANALOG GAINS (12-15-18-21-24dB)', 'ins': '0xE0[3:2]_2b00 \"AZ mode time 300us, change in case of issues\"'}, 1171: {'page': 'DAC+PA', 'dft': 'DAC-PA OFFSET CALIBRATION ANALOG_IN\\nTO BE REPEATED FOR ALL 5 ANALOG GAINS (12-15-18-21-24dB)', 'ins': '0xE2[0]_1b1 \"Internal calibration start\"'}, 1174: {'page': 'DAC+PA', 'dft': 'DAC-PA OFFSET CALIBRATION ANALOG_IN\\nTO BE REPEATED FOR ALL 5 ANALOG GAINS (12-15-18-21-24dB)', 'ins': '0xFE_0x01 \"in test page\"'}, 1176: {'page': 'DAC+PA', 'dft': 'DAC-PA OFFSET CALIBRATION ANALOG_IN\\nTO BE REPEATED FOR ALL 5 ANALOG GAINS (12-15-18-21-24dB)', 'ins': '0xFE_0x00 \"in base page\"'}, 1177: {'page': 'DAC+PA', 'dft': 'DAC-PA OFFSET CALIBRATION ANALOG_IN\\nTO BE REPEATED FOR ALL 5 ANALOG GAINS (12-15-18-21-24dB)', 'ins': '0xE2_0x00 \"Reset internal calibration bit\"'}, 1178: {'page': 'DAC+PA', 'dft': 'DAC-PA OFFSET CALIBRATION ANALOG_IN\\nTO BE REPEATED FOR ALL 5 ANALOG GAINS (12-15-18-21-24dB)', 'ins': '0xE2[0]_0x02 \"External calibration start\"'}, 1181: {'page': 'DAC+PA', 'dft': 'DAC-PA OFFSET CALIBRATION ANALOG_IN\\nTO BE REPEATED FOR ALL 5 ANALOG GAINS (12-15-18-21-24dB)', 'ins': '0xFE_0x01 \"in test page\"'}, 1183: {'page': 'DAC+PA', 'dft': 'DAC-PA OFFSET CALIBRATION ANALOG_IN\\nTO BE REPEATED FOR ALL 5 ANALOG GAINS (12-15-18-21-24dB)', 'ins': '0xFE_0x00 \"in base page\"'}, 1192: {'page': 'DAC+PA', 'dft': 'DAC-PA OFFSET CALIBRATION DIGITAL_IN (both PDM, TDM)\\nThis procedure has the aim to measure the offset when the part will be in idle mode\\n', 'ins': '0xFE_0x00 \"in base page\"'}, 1193: {'page': 'DAC+PA', 'dft': 'DAC-PA OFFSET CALIBRATION DIGITAL_IN (both PDM, TDM)\\nThis procedure has the aim to measure the offset when the part will be in idle mode\\n', 'ins': '0x11[1:0]_2b00 \"Input mode: TDM\"'}, 1194: {'page': 'DAC+PA', 'dft': 'DAC-PA OFFSET CALIBRATION DIGITAL_IN (both PDM, TDM)\\nThis procedure has the aim to measure the offset when the part will be in idle mode\\n', 'ins': '0x32_0x41 \"setting FSYN rate=384kHz and OSR=20\"'}, 1195: {'page': 'DAC+PA', 'dft': 'DAC-PA OFFSET CALIBRATION DIGITAL_IN (both PDM, TDM)\\nThis procedure has the aim to measure the offset when the part will be in idle mode\\n', 'ins': '0xE0[1:0]_2b00 \"Calibration time 600us, change in case of issues\"'}, 1196: {'page': 'DAC+PA', 'dft': 'DAC-PA OFFSET CALIBRATION DIGITAL_IN (both PDM, TDM)\\nThis procedure has the aim to measure the offset when the part will be in idle mode\\n', 'ins': '0xE0[3:2]_2b00 \"AZ mode time 300us, change in case of issues\"'}, 1197: {'page': 'DAC+PA', 'dft': 'DAC-PA OFFSET CALIBRATION DIGITAL_IN (both PDM, TDM)\\nThis procedure has the aim to measure the offset when the part will be in idle mode\\n', 'ins': '0xE2[0]_1b1 \"Internal calibration start\"'}, 1200: {'page': 'DAC+PA', 'dft': 'DAC-PA OFFSET CALIBRATION DIGITAL_IN (both PDM, TDM)\\nThis procedure has the aim to measure the offset when the part will be in idle mode\\n', 'ins': '0xFE_0x01 \"in test page\"'}, 1202: {'page': 'DAC+PA', 'dft': 'DAC-PA OFFSET CALIBRATION DIGITAL_IN (both PDM, TDM)\\nThis procedure has the aim to measure the offset when the part will be in idle mode\\n', 'ins': '0xFE_0x00 \"in base page\"'}, 1203: {'page': 'DAC+PA', 'dft': 'DAC-PA OFFSET CALIBRATION DIGITAL_IN (both PDM, TDM)\\nThis procedure has the aim to measure the offset when the part will be in idle mode\\n', 'ins': '0xE2_0x00 \"Reset internal calibration bit\"'}, 1204: {'page': 'DAC+PA', 'dft': 'DAC-PA OFFSET CALIBRATION DIGITAL_IN (both PDM, TDM)\\nThis procedure has the aim to measure the offset when the part will be in idle mode\\n', 'ins': '0xE2[0]_0x02 \"External calibration start\"'}, 1207: {'page': 'DAC+PA', 'dft': 'DAC-PA OFFSET CALIBRATION DIGITAL_IN (both PDM, TDM)\\nThis procedure has the aim to measure the offset when the part will be in idle mode\\n', 'ins': '0xFE_0x01 \"in test page\"'}, 1209: {'page': 'DAC+PA', 'dft': 'DAC-PA OFFSET CALIBRATION DIGITAL_IN (both PDM, TDM)\\nThis procedure has the aim to measure the offset when the part will be in idle mode\\n', 'ins': '0xFE_0x00 \"in base page\"'}, 1210: {'page': 'DAC+PA', 'dft': 'DAC-PA OFFSET CALIBRATION DIGITAL_IN (both PDM, TDM)\\nThis procedure has the aim to measure the offset when the part will be in idle mode\\n', 'ins': '0x50[0]_1b0 \"noise gate disabling\"'}, 1218: {'page': 'DAC+PA', 'dft': 'DAC-PA OFFSET CALIBRATION DIGITAL_IN (both PDM, TDM)\\nThis procedure has the aim to measure the offset when the part will be in idle mode\\n', 'ins': '0xFE_0x01 \"in test page\"'}, 1257: {'page': 'DAC+PA', 'dft': 'THD-noise evaluation in configuration TDM 768 internal signal', 'ins': '0xFE_0x01 \"in test page\"'}, 1258: {'page': 'DAC+PA', 'dft': 'THD-noise evaluation in configuration TDM 768 internal signal', 'ins': '0x1E_0xF8 \"set enable and gain = -61dB (Gains from-1dB to -61dB step -6) anf freq=1kHz (available freq: 1-2-4-8-16kHz)'}, 1259: {'page': 'DAC+PA', 'dft': 'THD-noise evaluation in configuration TDM 768 internal signal', 'ins': '0xFE_0x00 \"in base page\"'}, 1332: {'page': 'DAC+PA', 'dft': 'Ref. current Measurement', 'ins': '0xFE_0x01 \"In test page\"'}, 1333: {'page': 'DAC+PA', 'dft': 'Ref. current Measurement', 'ins': '0x19[2]_1b1 \"Enable dacpa analog test\"'}, 1334: {'page': 'DAC+PA', 'dft': 'Ref. current Measurement', 'ins': '0x1A[3:0]_4b0000 \"I0P5U_TEST\"'}, 1339: {'page': 'DAC+PA', 'dft': 'Ref. current Measurement', 'ins': '0xFE_0x00 \"Return page 0\"'}, 1341: {'page': 'DAC+PA', 'dft': 'DAC element PMOS current Measurement', 'ins': '0xFE_0x01 \"In test page\"'}, 1342: {'page': 'DAC+PA', 'dft': 'DAC element PMOS current Measurement', 'ins': '0x19[2]_1b1 \"Enable dacpa analog test\"'}, 1343: {'page': 'DAC+PA', 'dft': 'DAC element PMOS current Measurement', 'ins': '0x1A[3:0]_4b0001 \"IMIRRP_TEST\"'}, 1348: {'page': 'DAC+PA', 'dft': 'DAC element PMOS current Measurement', 'ins': '0xFE_0x00 \"Return page 0\"'}, 1350: {'page': 'DAC+PA', 'dft': 'DAC element NMOS current Measurement', 'ins': '0xFE_0x01 \"In test page\"'}, 1351: {'page': 'DAC+PA', 'dft': 'DAC element NMOS current Measurement', 'ins': '0x19[2]_1b1 \"Enable dacpa analog test\"'}, 1352: {'page': 'DAC+PA', 'dft': 'DAC element NMOS current Measurement', 'ins': '0x1A[3:0]_4b0010 \"IMIRRN_TEST\"'}, 1357: {'page': 'DAC+PA', 'dft': 'DAC element NMOS current Measurement', 'ins': '0xFE_0x00 \"Return page 0\"'}, 1359: {'page': 'DAC+PA', 'dft': 'Common Mode Block VGS Measurement', 'ins': '0xFE_0x01 \"In test page\"'}, 1360: {'page': 'DAC+PA', 'dft': 'Common Mode Block VGS Measurement', 'ins': '0x19[2]_1b1 \"Enable dacpa analog test\"'}, 1361: {'page': 'DAC+PA', 'dft': 'Common Mode Block VGS Measurement', 'ins': '0x1A[3:0]_4b0011 \"COMM_BLOCK_OUT\"'}, 1366: {'page': 'DAC+PA', 'dft': 'Common Mode Block VGS Measurement', 'ins': '0xFE_0x00 \"Return page 0\"'}, 1368: {'page': 'DAC+PA', 'dft': 'Common Mode Block (AC-coupled) voltage Measurement', 'ins': '0xFE_0x01 \"In test page\"'}, 1369: {'page': 'DAC+PA', 'dft': 'Common Mode Block (AC-coupled) voltage Measurement', 'ins': '0x19[2]_1b1 \"Enable dacpa analog test\"'}, 1370: {'page': 'DAC+PA', 'dft': 'Common Mode Block (AC-coupled) voltage Measurement', 'ins': '0x1A[3:0]_4b0011 \"COMM_BLOCK_OUT\"'}, 1378: {'page': 'DAC+PA', 'dft': 'Common Mode Block (AC-coupled) voltage Measurement', 'ins': '0xFE_0x00 \"Return page 0\"'}, 1384: {'page': 'AZ_COMP', 'dft': '3rd STG Current ', 'ins': '0x1A_0x00 \"AZCOMP I1U_STG3\"       0x17_0x01 \" force_dig_azcomp_en\"    0xFE_0x00 \"Return page 0\" '}, 1387: {'page': 'AZ_COMP', 'dft': '2nd STG Current ', 'ins': '0x1A_0x01 \"AZCOMP I1U_STG3\"                      0x17_0x01 \" force_dig_azcomp_en\"        0xFE_0x00 \"Return page 0\"                  Measure__Current__SDWN  '}, 1389: {'page': 'AZ_COMP', 'dft': '1st STG Current ', 'ins': '0x1A_0x02 \"AZCOMP I1U_STG3\"                 0x17_0x01 \" force_dig_azcomp_en\"    0xFE_0x00 \"Return page 0\"                         Measure__Current__SDWN  '}, 1391: {'page': 'AZ_COMP', 'dft': 'Ground AZCOMP', 'ins': '0x1A_0x03 \"Ground\"                                        0x17_0x01 \" force_dig_azcomp_en\"                                     0xFE_0x00 \"Return page 0\"   Measure__Voltage__SDWN  '}, 1393: {'page': 'AZ_COMP', 'dft': '(NO ATE)', 'ins': '0x1A_0x11 \"OUTN_EXT_PRT\"              0x17_0x01 \" force_dig_azcomp_en\"                                                  0xFE_0x00 \"Return page 0\"   Measure__Voltage__SDWN '}, 1396: {'page': 'AZ_COMP', 'dft': 'Unnamed: 7', 'ins': '0x1A_0x12 \"\"OUTP_EXT_PRT\"\"                             0x17_0x01 \" force_dig_azcomp_en\"                                     0xFE_0x00 \"Return page 0\"   Measure__Voltage__SDWN '}, 1399: {'page': 'AZ_COMP', 'dft': 'Unnamed: 8', 'ins': '0x1A_0x13 \"\"OUTN_INT_PRT\"\"                      0x17_0x01 \" force_dig_azcomp_en\"                                                0xFE_0x00 \"Return page 0\"   Measure__Voltage__SDWN '}, 1402: {'page': 'AZ_COMP', 'dft': 'Unnamed: 9', 'ins': '0x1A_0x14 \"\"OUTP_INT_PRT\"\"                                               0xFE_0x00 \"Return page 0\"   Measure__Voltage__SDWN '}, 1404: {'page': 'AZ_COMP', 'dft': 'Unnamed: 10', 'ins': '0x1A_0x15 \"VCM\"                                       0x17_0x01 \" force_dig_azcomp_en\"                                             0xFE_0x00 \"Return page 0\"   Measure__Voltage__SDWN '}}\n"
     ]
    }
   ],
   "source": [
    "from typing import List\n",
    "import json\n",
    "import random\n",
    "import re \n",
    "import pandas as pd \n",
    "register_instructions = {}\n",
    "i=0\n",
    "for sh in ['Digital','Reference','Boost','DAC+PA','AZ_COMP']:\n",
    "    sheet = 'raw_data/'+sh+'_data.csv'\n",
    "    data = pd.read_csv(sheet)\n",
    "    for col in data.columns.to_list()[1:]:\n",
    "        instructions = data[col][1].split('\\n')\n",
    "        for instruction in instructions:\n",
    "            if re.match('0x', instruction.lower()):\n",
    "                register_instructions.update({i : {\n",
    "                    'page':sh,\n",
    "                    'dft':col,\n",
    "                    'ins':instruction\n",
    "                }})\n",
    "            i+=1\n",
    "print(register_instructions)\n",
    "with open('raw_data/registers_parsing_raw_dump.json', 'w') as file:\n",
    "    json.dump(register_instructions, file)"
   ]
  },
  {
   "cell_type": "markdown",
   "metadata": {},
   "source": [
    "<h3 style = 'color:#00f6ff'> Extract the register address</h3>"
   ]
  },
  {
   "cell_type": "code",
   "execution_count": 2,
   "metadata": {},
   "outputs": [
    {
     "name": "stdout",
     "output_type": "stream",
     "text": [
      "('0x00', '1:2', '0x0')\n"
     ]
    }
   ],
   "source": [
    "pattern1=re.compile(r\"\\b(0[xX]+[0-9a-fA-F]+)+\\[(.*?)\\]+[_]+(0[xX]+[0-9a-fA-F]+)\\b\")\n",
    "if re.findall(pattern1, '0x00[1:2]_0x0')[0]:\n",
    "    print(re.findall(pattern1, '0x00[1:2]_0x0')[0])"
   ]
  },
  {
   "cell_type": "code",
   "execution_count": 3,
   "metadata": {},
   "outputs": [
    {
     "data": {
      "text/plain": [
       "{'RegAddr': '0x0', 'MSB': '0x2', 'LSB': '0x1', 'Data': None}"
      ]
     },
     "execution_count": 3,
     "metadata": {},
     "output_type": "execute_result"
    }
   ],
   "source": [
    "def extract_RegisterAddress__Instruction(instrunction: str):\n",
    "    pattern1 = re.compile(r\"\\b(0[xX]+[0-9a-fA-F]+)+\\[(.*?)\\]+[_]+(0[xX]+[0-9a-fA-F]+)\\b\") # sample data 0x00[1:2]_0x0\n",
    "    pattern2 = re.compile(r\"\\b(0[xX]+[0-9a-fA-F]+)+[_]+(0[xX]+[0-9a-fA-F]+)\\b\") # sample data 0x00_0x0\n",
    "    pattern3 = re.compile(r\"\\b(0[xX]+[0-9a-fA-F]+)+\\[(.*?)\\]\") # sample data 0x00[1:2]\n",
    "    # parse the data for the bit information and the register information \n",
    "    \n",
    "    def register_format(instrunction):\n",
    "        instruction_length = len(instrunction)\n",
    "        register = {}\n",
    "        # there is no bit field it is the default size\n",
    "        if instruction_length == 2:\n",
    "            if \":\" in instrunction[1]:\n",
    "                bits = instrunction[1].split(':')\n",
    "                register={\n",
    "                \"RegAddr\" : hex(int(instrunction[0],16)),\n",
    "                \"MSB\" :hex(int(bits[1],16)),\n",
    "                \"LSB\" : hex(int(bits[0],16)),\n",
    "                \"Data\" : None,\n",
    "                }\n",
    "            else:\n",
    "                register={\n",
    "                    \"RegAddr\" : hex(int(instrunction[0],16)),\n",
    "                    \"MSB\" : 7,\n",
    "                    \"LSB\" : 0,\n",
    "                    \"Data\" : hex(int(instrunction[1],16)),\n",
    "                }\n",
    "        # check for the bit field \n",
    "        elif instruction_length == 3:\n",
    "            #check for the single bit or bit field \n",
    "            if \":\" in instrunction[1]:\n",
    "                bits = instrunction[1].split(':')\n",
    "                register={\n",
    "                \"RegAddr\" : hex(int(instrunction[0],16)),\n",
    "                \"MSB\" :hex(int(bits[1],16)),\n",
    "                \"LSB\" : hex(int(bits[0],16)),\n",
    "                \"Data\" : hex(int(instrunction[2],16)),\n",
    "                }\n",
    "\n",
    "            else:\n",
    "                register={\n",
    "                \"RegAddr\" : hex(int(instrunction[0],16)),\n",
    "                \"MSB\" :hex(int(instrunction[1],16)),\n",
    "                \"LSB\" : hex(int(instrunction[1],16)),\n",
    "                \"Data\" : hex(int(instrunction[2],16)),\n",
    "                }\n",
    "        return register\n",
    "    # Remove the comments from the register\n",
    "    if re.search(r\"\\\"(.*?)\\\"\",instrunction):\n",
    "        instrunction = re.sub(r\"\\\"(.*?)\\\"\",'',instrunction)\n",
    "    \n",
    "    \n",
    "    if  re.match(pattern1, instrunction):\n",
    "        # register = register_format(value)\n",
    "        register = register_format(re.findall(pattern1, instrunction)[0])\n",
    "        # parse only register information and the register value \n",
    "    elif re.match(pattern2, instrunction): \n",
    "        register = register_format(re.findall(pattern2, instrunction)[0])\n",
    "\n",
    "       \n",
    "    elif re.match(pattern3, instrunction): \n",
    "        register = register_format(re.findall(pattern3, instrunction)[0])\n",
    "    else: \n",
    "        register = {}\n",
    "\n",
    "    return register\n",
    "extract_RegisterAddress__Instruction('0x00[1:2]')"
   ]
  },
  {
   "cell_type": "markdown",
   "metadata": {},
   "source": [
    "<h3 style='color: #fff100'> Test the Register address extraction </h3>"
   ]
  },
  {
   "cell_type": "code",
   "execution_count": 4,
   "metadata": {},
   "outputs": [],
   "source": [
    "clean_registers = {}\n",
    "for i,instruction_set in register_instructions.items():\n",
    "    # print(instruction_set)\n",
    "    instruction = instruction_set.get('ins')\n",
    "    if register_instruction_parse := extract_RegisterAddress__Instruction(instruction):\n",
    "        # print(register_instruction_parse)\n",
    "        clean_registers.update({\n",
    "            i:{\n",
    "                'set':instruction_set,\n",
    "                'clean':register_instruction_parse\n",
    "            }\n",
    "        })\n",
    "    else:\n",
    "        print(instruction)\n",
    "        clean_registers.update({\n",
    "            i:None\n",
    "        })\n",
    "with open('raw_data/clean_registers.json', 'w') as file:\n",
    "    json.dump(clean_registers, file)"
   ]
  },
  {
   "cell_type": "markdown",
   "metadata": {},
   "source": [
    "<h2 style='color:  \t#ffaa00; border-bottom: 2px dotted #ff00aa'> 2. Parse TrimSweep </h2>"
   ]
  },
  {
   "cell_type": "markdown",
   "metadata": {},
   "source": [
    "Parse Trimsweep register address <b>syntax :</b> ``` TrimSweep - register address [MSB:LSB] ``` ; <i>example :~</i> <b style=\"color:#aaff00\">TrimSweep - 0xEF[4:0]</b> "
   ]
  },
  {
   "cell_type": "markdown",
   "metadata": {},
   "source": [
    "<h3 style='color:#ff00aa'> Collect all the TrimSweep Instructions</h3>"
   ]
  },
  {
   "cell_type": "code",
   "execution_count": 8,
   "metadata": {},
   "outputs": [
    {
     "name": "stdout",
     "output_type": "stream",
     "text": [
      "{0: {'page': 'Reference', 'dft': 'VBGR_ADJ_TRIM', 'ins': 'TrimSweep - 0xB0[7:4] \"Select code which sets ATEST voltage as close as possible to target\"'}, 1: {'page': 'Reference', 'dft': 'TSDN', 'ins': 'TrimSweep - 0xB3[7:5] \"Select code which sets ATEST voltage as close as possible to target\"'}, 2: {'page': 'Reference', 'dft': 'FRO_CLOCK', 'ins': 'TrimSweep - 0xEF[4:0] \"Select code which sets ATEST frequency as close as possible to target\"'}, 3: {'page': 'Boost', 'dft': 'BST_OCP_TRIM', 'ins': 'TrimSweep - 0xB2[5]_0xB1[3:0] \"trim in 2 different registers, what is the correct command\"'}}\n"
     ]
    }
   ],
   "source": [
    "from typing import List\n",
    "import json\n",
    "import random\n",
    "import re \n",
    "import pandas as pd \n",
    "trimsweep_instructions = {}\n",
    "i=0\n",
    "for sh in ['Digital','Reference','Boost','DAC+PA','AZ_COMP']:\n",
    "    sheet = 'raw_data/'+sh+'_data.csv'\n",
    "    data = pd.read_csv(sheet)\n",
    "    for col in data.columns.to_list()[1:]:\n",
    "        instructions = data[col][1].split('\\n')\n",
    "        for instruction in instructions:\n",
    "            if re.match('trimsweep', instruction.lower()):\n",
    "                trimsweep_instructions.update({i : {\n",
    "                    'page':sh,\n",
    "                    'dft':col,\n",
    "                    'ins':instruction\n",
    "                }})\n",
    "                i+=1\n",
    "print(trimsweep_instructions)\n",
    "with open('raw_data/trimsweep_instructions_parsing_raw_dump.json', 'w') as file:\n",
    "    json.dump(trimsweep_instructions, file)"
   ]
  },
  {
   "cell_type": "markdown",
   "metadata": {},
   "source": [
    "<h3 style='color:#00aaff'> Extract the TrimSweep Register address</h3>"
   ]
  },
  {
   "cell_type": "code",
   "execution_count": 36,
   "metadata": {},
   "outputs": [
    {
     "data": {
      "text/plain": [
       "('0xB2', '5', '0xB1', '3:0')"
      ]
     },
     "execution_count": 36,
     "metadata": {},
     "output_type": "execute_result"
    }
   ],
   "source": [
    "pattern = re.compile(r\"\\b(0[xX]+[0-9a-fA-F]+)+\\[(.*?)\\]+(0[xX]+[0-9a-fA-F]+)+\\[(.*?)\\]\")\n",
    "re.findall(pattern, '0xB2[5]0xB1[3:0]')[0]"
   ]
  },
  {
   "cell_type": "code",
   "execution_count": 14,
   "metadata": {},
   "outputs": [
    {
     "data": {
      "text/plain": [
       "{'RegAddr': '0xb0', 'MSB': '0x4', 'LSB': '0x7', 'Data': None}"
      ]
     },
     "execution_count": 14,
     "metadata": {},
     "output_type": "execute_result"
    }
   ],
   "source": [
    "def extract_TrimSweep__Instruction(instruction: str):\n",
    "    def register_format(instrunction):\n",
    "        instruction_length = len(instrunction)\n",
    "        register = {}\n",
    "        # there is no bit field it is the default size\n",
    "        if instruction_length == 2:\n",
    "            if \":\" in instrunction[1]:\n",
    "                bits = instrunction[1].split(':')\n",
    "                register={\n",
    "                \"RegAddr\" : hex(int(instrunction[0],16)),\n",
    "                \"MSB\" :hex(int(bits[1],16)),\n",
    "                \"LSB\" : hex(int(bits[0],16)),\n",
    "                \"Data\" : None,\n",
    "                }\n",
    "            else:\n",
    "                register={\n",
    "                    \"RegAddr\" : hex(int(instrunction[0],16)),\n",
    "                    \"MSB\" : 7,\n",
    "                    \"LSB\" : 0,\n",
    "                    \"Data\" : hex(int(instrunction[1],16)),\n",
    "                }\n",
    "        # check for the bit field \n",
    "        elif instruction_length == 3:\n",
    "            #check for the single bit or bit field \n",
    "            if \":\" in instrunction[1]:\n",
    "                bits = instrunction[1].split(':')\n",
    "                register={\n",
    "                \"RegAddr\" : hex(int(instrunction[0],16)),\n",
    "                \"MSB\" :hex(int(bits[1],16)),\n",
    "                \"LSB\" : hex(int(bits[0],16)),\n",
    "                \"Data\" : hex(int(instrunction[2],16)),\n",
    "                }\n",
    "\n",
    "            else:\n",
    "                register={\n",
    "                \"RegAddr\" : hex(int(instrunction[0],16)),\n",
    "                \"MSB\" :hex(int(instrunction[1],16)),\n",
    "                \"LSB\" : hex(int(instrunction[1],16)),\n",
    "                \"Data\" : hex(int(instrunction[2],16)),\n",
    "                }\n",
    "        return register\n",
    "    \n",
    "    pattern = re.compile(r\"\\b(0[xX]+[0-9a-fA-F]+)+\\[(.*?)\\]\")\n",
    "    instruction = re.findall(pattern, instruction)[0]\n",
    "    return register_format(instrunction=instruction)\n",
    "extract_TrimSweep__Instruction('TrimSweep - 0xB0[7:4] \"Select code which sets ATEST voltage as close as possible to target\"')"
   ]
  },
  {
   "cell_type": "markdown",
   "metadata": {},
   "source": [
    "<h3 style='color: \t#aa00ff'> Test TrimSweep Register Address Extraction </h3>"
   ]
  },
  {
   "cell_type": "markdown",
   "metadata": {},
   "source": [
    " <b style='color:#aaff00'> Failed :</b> <b style='color: red'>    \"set\": {\n",
    "      \"page\": \"Boost\",\n",
    "      \"dft\": \"BST_OCP_TRIM\",\n",
    "      \"ins\": \"TrimSweep - 0xB2[5]_0xB1[3:0] \\\"trim in 2 different registers, what is the correct command\\\"\"\n",
    "    }, </b>"
   ]
  },
  {
   "cell_type": "code",
   "execution_count": 17,
   "metadata": {},
   "outputs": [],
   "source": [
    "clean_trimsweep = {}\n",
    "for i,instruction_set in trimsweep_instructions.items():\n",
    "    # print(instruction_set)\n",
    "    instruction = instruction_set.get('ins')\n",
    "    if register_instruction_parse := extract_TrimSweep__Instruction(instruction):\n",
    "        # print(register_instruction_parse)\n",
    "        clean_trimsweep.update({\n",
    "            i:{\n",
    "                'set':instruction_set,\n",
    "                'clean':register_instruction_parse\n",
    "            }\n",
    "        })\n",
    "    else:\n",
    "        print(instruction)\n",
    "        clean_trimsweep.update({\n",
    "            i:None\n",
    "        })\n",
    "with open('raw_data/clean_trimsweep.json', 'w') as file:\n",
    "    json.dump(clean_trimsweep, file)"
   ]
  },
  {
   "cell_type": "markdown",
   "metadata": {},
   "source": [
    "<h2 style='color:  \t#ffaa00; border-bottom: 2px dotted #ff00aa'> 3. Parse Trim Register Address </h2>"
   ]
  },
  {
   "cell_type": "markdown",
   "metadata": {},
   "source": [
    "Parse Trimsweep register address <b>syntax :</b> ``` Trim -register address[MSB:LSB] ``` ; <i>example :~</i> <b style=\"color:#aaff00\">Trim - 0xB3[7:5] </b> "
   ]
  },
  {
   "cell_type": "markdown",
   "metadata": {},
   "source": [
    "<h3 style='color:#ff00aa'> Collect all the Trim Instructions</h3>"
   ]
  },
  {
   "cell_type": "code",
   "execution_count": 37,
   "metadata": {},
   "outputs": [
    {
     "name": "stdout",
     "output_type": "stream",
     "text": [
      "{0: {'page': 'Reference', 'dft': 'VBGR_ADJ_TRIM', 'ins': 'Trim - 0xB0[7:4] '}, 1: {'page': 'Reference', 'dft': 'TSDN', 'ins': 'Trim - 0xB3[7:5] '}, 2: {'page': 'Reference', 'dft': 'FRO_CLOCK', 'ins': 'Trim - 0xEF[4:0] '}, 3: {'page': 'Boost', 'dft': 'BST_OCP_TRIM', 'ins': 'Trim - 0xB2[5]0xB1[3:0]'}}\n"
     ]
    }
   ],
   "source": [
    "from typing import List\n",
    "import json\n",
    "import random\n",
    "import re \n",
    "import pandas as pd \n",
    "trim_instructions = {}\n",
    "i=0\n",
    "for sh in ['Digital','Reference','Boost','DAC+PA','AZ_COMP']:\n",
    "    sheet = 'raw_data/'+sh+'_data.csv'\n",
    "    data = pd.read_csv(sheet)\n",
    "    for col in data.columns.to_list()[1:]:\n",
    "        instructions = data[col][1].split('\\n')\n",
    "        for instruction in instructions:\n",
    "            if re.match('trim -', instruction.lower()):\n",
    "                trim_instructions.update({i : {\n",
    "                    'page':sh,\n",
    "                    'dft':col,\n",
    "                    'ins':instruction\n",
    "                }})\n",
    "                i+=1\n",
    "print(trim_instructions)\n",
    "with open('raw_data/trim_instructions_parsing_raw_dump.json', 'w') as file:\n",
    "    json.dump(trim_instructions, file)"
   ]
  },
  {
   "cell_type": "code",
   "execution_count": 41,
   "metadata": {},
   "outputs": [
    {
     "data": {
      "text/plain": [
       "{'RegAddr': '0xb0', 'MSB': '0x4', 'LSB': '0x7', 'Data': None}"
      ]
     },
     "execution_count": 41,
     "metadata": {},
     "output_type": "execute_result"
    }
   ],
   "source": [
    "def extract_Trim__Instruction(instruction: str):\n",
    "    return extract_TrimSweep__Instruction(instruction)\n",
    "extract_Trim__Instruction('Trim - 0xB0[7:4] ')"
   ]
  },
  {
   "cell_type": "code",
   "execution_count": 42,
   "metadata": {},
   "outputs": [],
   "source": [
    "clean_trim = {}\n",
    "for i,instruction_set in trim_instructions.items():\n",
    "    # print(instruction_set)\n",
    "    instruction = instruction_set.get('ins')\n",
    "    if register_instruction_parse := extract_Trim__Instruction(instruction):\n",
    "        # print(register_instruction_parse)\n",
    "        clean_trim.update({\n",
    "            i:{\n",
    "                'set':instruction_set,\n",
    "                'clean':register_instruction_parse\n",
    "            }\n",
    "        })\n",
    "    else:\n",
    "        print(instruction)\n",
    "        clean_trim.update({\n",
    "            i:None\n",
    "        })\n",
    "with open('raw_data/clean_trim.json', 'w') as file:\n",
    "    json.dump(clean_trim, file)"
   ]
  }
 ],
 "metadata": {
  "kernelspec": {
   "display_name": "env",
   "language": "python",
   "name": "python3"
  },
  "language_info": {
   "codemirror_mode": {
    "name": "ipython",
    "version": 3
   },
   "file_extension": ".py",
   "mimetype": "text/x-python",
   "name": "python",
   "nbconvert_exporter": "python",
   "pygments_lexer": "ipython3",
   "version": "3.11.5"
  }
 },
 "nbformat": 4,
 "nbformat_minor": 2
}
