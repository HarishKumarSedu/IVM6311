{
 "cells": [
  {
   "cell_type": "code",
   "execution_count": 1,
   "metadata": {},
   "outputs": [],
   "source": [
    "import os \n",
    "from pathlib import Path\n",
    "abspath = Path('C:\\\\Users\\\\harkum\\\\Documents\\\\6311\\\\Software')\n",
    "os.chdir(abspath)"
   ]
  },
  {
   "cell_type": "markdown",
   "metadata": {},
   "source": [
    "<h2 style=' color: \t#0bff00;border-bottom: 2px dotted #ff0000;'> Copy Register data and Paste </h2>"
   ]
  },
  {
   "cell_type": "markdown",
   "metadata": {},
   "source": [
    "```Copy__register address__register address``` <i> example :~ Copy__0xCB[7:4]__0xCC[3:0] </i>"
   ]
  },
  {
   "cell_type": "markdown",
   "metadata": {},
   "source": [
    "<h3 style='color:#ffac00'> Parse all Copy Register data and Paste it to another Register </h3>"
   ]
  },
  {
   "cell_type": "code",
   "execution_count": 5,
   "metadata": {},
   "outputs": [
    {
     "name": "stdout",
     "output_type": "stream",
     "text": [
      "{0: {'page': 'DAC+PA', 'dft': 'DAC-PA OFFSET CALIBRATION DIGITAL_IN (both PDM, TDM)\\nThis procedure has the aim to measure the offset when the part will be in idle mode\\n', 'ins': 'Copy__0xCB[7:4]__0xCC[3:0] \"int/ext zero copied in int/ext idle\"'}, 1: {'page': 'DAC+PA', 'dft': 'DAC-PA OFFSET CALIBRATION DIGITAL_IN (both PDM, TDM)\\nThis procedure has the aim to measure the offset when the part will be in idle mode\\n', 'ins': 'Copy__0xCA[7:4]__0xCB[3:0] \"int/ext zero copied in int/ext idle\"'}, 2: {'page': 'DAC+PA', 'dft': 'DAC-PA OFFSET CALIBRATION DIGITAL_IN (both PDM, TDM)\\nThis procedure has the aim to measure the offset when the part will be in idle mode\\n', 'ins': 'Copy__0xCA[3:0]__0xCC[7:4] \"int/ext zero copied in int/ext idle\"'}}\n"
     ]
    }
   ],
   "source": [
    "from typing import List\n",
    "import json\n",
    "import random\n",
    "import re \n",
    "import pandas as pd \n",
    "copy_instructions = {}\n",
    "i=0\n",
    "for sh in ['Digital','Reference','Boost','DAC+PA','AZ_COMP']:\n",
    "    sheet = 'raw_data/'+sh+'_data.csv'\n",
    "    data = pd.read_csv(sheet)\n",
    "    for col in data.columns.to_list()[1:]:\n",
    "        instructions = data[col][1].split('\\n')\n",
    "        for instruction in instructions:\n",
    "            if re.match('copy', instruction.lower()):\n",
    "                copy_instructions.update({i : {\n",
    "                    'page':sh,\n",
    "                    'dft':col,\n",
    "                    'ins':instruction\n",
    "                }})\n",
    "                i+=1\n",
    "print(copy_instructions)\n",
    "with open('raw_data/json/copy_parsing_raw_dump.json', 'w') as file:\n",
    "    json.dump(copy_instructions, file)"
   ]
  },
  {
   "cell_type": "markdown",
   "metadata": {},
   "source": [
    "<h3 style = 'color:#00f6ff'> Extract the Register Address from copy Command</h3>"
   ]
  },
  {
   "cell_type": "code",
   "execution_count": 52,
   "metadata": {},
   "outputs": [
    {
     "data": {
      "text/plain": [
       "['0xCB[7:4]', '0xCC[3:0]']"
      ]
     },
     "execution_count": 52,
     "metadata": {},
     "output_type": "execute_result"
    }
   ],
   "source": [
    "# This is the Approch \n",
    "pattern1=re.compile(r\"\\b(0[xX]+[0-9a-fA-F]+)+\\[(.*?)\\]\")\n",
    "re.findall(pattern1, '0xCB[7:4]')\n",
    "'Copy__0xCB[7:4]__0xCC[3:0]'.split('__')[1:]"
   ]
  },
  {
   "cell_type": "code",
   "execution_count": 58,
   "metadata": {},
   "outputs": [
    {
     "data": {
      "text/plain": [
       "{'copyReg': {'RegAddr': '0xcb', 'MSB': '0x4', 'LSB': '0x7', 'Data': None},\n",
       " 'pasteReg': {'RegAddr': '0xcc', 'MSB': '0x0', 'LSB': '0x3', 'Data': None}}"
      ]
     },
     "execution_count": 58,
     "metadata": {},
     "output_type": "execute_result"
    }
   ],
   "source": [
    "def extract_RegisterAddress__Instruction(instruction: str)->dict:\n",
    "    pattern1=re.compile(r\"\\b(0[xX]+[0-9a-fA-F]+)+\\[(.*?)\\]\")\n",
    "    register ={}\n",
    "    def register_format(instrunction):\n",
    "        instruction_length = len(instrunction)\n",
    "        register = {}\n",
    "        # there is no bit field it is the default size\n",
    "        if instruction_length == 2:\n",
    "            if \":\" in instrunction[1]:\n",
    "                bits = instrunction[1].split(':')\n",
    "                register={\n",
    "                \"RegAddr\" : hex(int(instrunction[0],16)),\n",
    "                \"MSB\" :hex(int(bits[1],16)),\n",
    "                \"LSB\" : hex(int(bits[0],16)),\n",
    "                \"Data\" : None,\n",
    "                }\n",
    "            else:\n",
    "                register={\n",
    "                    \"RegAddr\" : hex(int(instrunction[0],16)),\n",
    "                    \"MSB\" : 7,\n",
    "                    \"LSB\" : 0,\n",
    "                    \"Data\" : hex(int(instrunction[1],16)),\n",
    "                }\n",
    "        # check for the bit field \n",
    "        elif instruction_length == 3:\n",
    "            #check for the single bit or bit field \n",
    "            if \":\" in instrunction[1]:\n",
    "                bits = instrunction[1].split(':')\n",
    "                register={\n",
    "                \"RegAddr\" : hex(int(instrunction[0],16)),\n",
    "                \"MSB\" :hex(int(bits[1],16)),\n",
    "                \"LSB\" : hex(int(bits[0],16)),\n",
    "                \"Data\" : hex(int(instrunction[2],16)),\n",
    "                }\n",
    "\n",
    "            else:\n",
    "                register={\n",
    "                \"RegAddr\" : hex(int(instrunction[0],16)),\n",
    "                \"MSB\" :hex(int(instrunction[1],16)),\n",
    "                \"LSB\" : hex(int(instrunction[1],16)),\n",
    "                \"Data\" : hex(int(instrunction[2],16)),\n",
    "                }\n",
    "        return register\n",
    "    \n",
    "    if 'copy__' in instruction.lower():\n",
    "        if len(regs := [re.findall(pattern1, i)[0] for i in instruction.split('__')[1:] if re.match(pattern1, i)]) == 2:\n",
    "            if copyReg := register_format(regs[0]):\n",
    "                if pasteReg := register_format(regs[1]):\n",
    "                    register={\n",
    "                        \"copyReg\":copyReg,\n",
    "                        \"pasteReg\":pasteReg,\n",
    "                    }\n",
    "        else:\n",
    "            register =register\n",
    "    else:\n",
    "        register = register\n",
    "    \n",
    "    return register\n",
    "extract_RegisterAddress__Instruction('Copy__0xCB[7:4]__0xCC[3:0]')"
   ]
  },
  {
   "cell_type": "markdown",
   "metadata": {},
   "source": [
    "<h3 style='color: #fff100'> Test Copy Instruction </h3>"
   ]
  },
  {
   "cell_type": "code",
   "execution_count": 59,
   "metadata": {},
   "outputs": [],
   "source": [
    "clean_copy_instructions = {}\n",
    "for i,instruction_set in copy_instructions.items():\n",
    "    # print(instruction_set)\n",
    "    instruction = instruction_set.get('ins')\n",
    "    if register_instruction_parse := extract_RegisterAddress__Instruction(instruction):\n",
    "        # print(register_instruction_parse)\n",
    "        clean_copy_instructions.update({\n",
    "            i:{\n",
    "                'set':instruction_set,\n",
    "                'clean':register_instruction_parse\n",
    "            }\n",
    "        })\n",
    "    else:\n",
    "        print(instruction)\n",
    "        clean_copy_instructions.update({\n",
    "            i:None\n",
    "        })\n",
    "with open('raw_data/json/clean_copy_instructions.json', 'w') as file:\n",
    "    json.dump(clean_copy_instructions, file)"
   ]
  }
 ],
 "metadata": {
  "kernelspec": {
   "display_name": "env",
   "language": "python",
   "name": "python3"
  },
  "language_info": {
   "codemirror_mode": {
    "name": "ipython",
    "version": 3
   },
   "file_extension": ".py",
   "mimetype": "text/x-python",
   "name": "python",
   "nbconvert_exporter": "python",
   "pygments_lexer": "ipython3",
   "version": "3.11.5"
  }
 },
 "nbformat": 4,
 "nbformat_minor": 2
}
