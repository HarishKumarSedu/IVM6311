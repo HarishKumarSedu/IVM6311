{
 "cells": [
  {
   "cell_type": "code",
   "execution_count": 2,
   "metadata": {},
   "outputs": [],
   "source": [
    "import os \n",
    "from pathlib import Path\n",
    "abspath = Path('C:\\\\Users\\\\harkum\\\\Documents\\\\6311\\\\Software')\n",
    "os.chdir(abspath)"
   ]
  },
  {
   "cell_type": "markdown",
   "metadata": {},
   "source": [
    "<h2 style=' color: \t#0bff00;border-bottom: 2px dotted #ff0000;'> Read Register Parsing</h2>"
   ]
  },
  {
   "cell_type": "markdown",
   "metadata": {},
   "source": [
    "<h3 style='color:#ffac00'> Parse all Read Register </h3>"
   ]
  },
  {
   "cell_type": "code",
   "execution_count": 7,
   "metadata": {},
   "outputs": [
    {
     "name": "stdout",
     "output_type": "stream",
     "text": [
      "{0: {'page': 'Digital', 'dft': 'BIST', 'ins': 'READ_REG 0x06[5:4], expected value=0x3'}, 1: {'page': 'DAC+PA', 'dft': 'DAC-PA OFFSET CALIBRATION ANALOG_IN\\nTO BE REPEATED FOR ALL 5 ANALOG GAINS (12-15-18-21-24dB)', 'ins': 'Read__E5 \"bit[4] =1 indicates end of calibration\"'}, 2: {'page': 'DAC+PA', 'dft': 'DAC-PA OFFSET CALIBRATION ANALOG_IN\\nTO BE REPEATED FOR ALL 5 ANALOG GAINS (12-15-18-21-24dB)', 'ins': 'Read__D0-D2 \"OTP cal registers D0-D2 in page 1 are written, not possible to measure analog value\"'}, 3: {'page': 'DAC+PA', 'dft': 'DAC-PA OFFSET CALIBRATION ANALOG_IN\\nTO BE REPEATED FOR ALL 5 ANALOG GAINS (12-15-18-21-24dB)', 'ins': 'Read__E5 \"bit[4] =1 indicates end of calibration\"'}, 4: {'page': 'DAC+PA', 'dft': 'DAC-PA OFFSET CALIBRATION ANALOG_IN\\nTO BE REPEATED FOR ALL 5 ANALOG GAINS (12-15-18-21-24dB)', 'ins': 'Read__D3-D5 \"OTP cal registers D3-D5 in page 1 are written (difference btw ext-int values), it is possible to measure analog value\"'}, 5: {'page': 'DAC+PA', 'dft': 'DAC-PA OFFSET CALIBRATION ANALOG_IN\\nTO BE REPEATED FOR ALL 5 ANALOG GAINS (12-15-18-21-24dB)', 'ins': 'Read__17 \"check result 0x0A to be in playback mode\"'}, 6: {'page': 'DAC+PA', 'dft': 'DAC-PA OFFSET CALIBRATION DIGITAL_IN (both PDM, TDM)\\nThis procedure has the aim to measure the offset when the part will be in idle mode\\n', 'ins': 'Read__E5 \"bit[4] =1 indicates end of calibration\"'}, 7: {'page': 'DAC+PA', 'dft': 'DAC-PA OFFSET CALIBRATION DIGITAL_IN (both PDM, TDM)\\nThis procedure has the aim to measure the offset when the part will be in idle mode\\n', 'ins': 'Read__CA-CC \"OTP cal registers CA-CC in page 1 are written, not possible to measure analog value\"'}, 8: {'page': 'DAC+PA', 'dft': 'DAC-PA OFFSET CALIBRATION DIGITAL_IN (both PDM, TDM)\\nThis procedure has the aim to measure the offset when the part will be in idle mode\\n', 'ins': 'Read__E5 \"bit[4] =1 indicates end of calibration\"'}, 9: {'page': 'DAC+PA', 'dft': 'DAC-PA OFFSET CALIBRATION DIGITAL_IN (both PDM, TDM)\\nThis procedure has the aim to measure the offset when the part will be in idle mode\\n', 'ins': 'Read__CD-CF \"OTP cal registers CD-CF in page 1 are written, (difference btw ext-int values), it is possible to measure analog value\"'}, 10: {'page': 'DAC+PA', 'dft': 'DAC-PA OFFSET CALIBRATION DIGITAL_IN (both PDM, TDM)\\nThis procedure has the aim to measure the offset when the part will be in idle mode\\n', 'ins': 'Read__17 \"check result 0x0A to be in playback mode\"'}}\n"
     ]
    }
   ],
   "source": [
    "from typing import List\n",
    "import json\n",
    "import random\n",
    "import re \n",
    "import pandas as pd \n",
    "read_instructions = {}\n",
    "i=0\n",
    "for sh in ['Digital','Reference','Boost','DAC+PA','AZ_COMP']:\n",
    "    sheet = 'raw_data/'+sh+'_data.csv'\n",
    "    data = pd.read_csv(sheet)\n",
    "    for col in data.columns.to_list()[1:]:\n",
    "        instructions = data[col][1].split('\\n')\n",
    "        for instruction in instructions:\n",
    "            if re.match('read', instruction.lower()):\n",
    "                read_instructions.update({i : {\n",
    "                    'page':sh,\n",
    "                    'dft':col,\n",
    "                    'ins':instruction\n",
    "                }})\n",
    "                i+=1\n",
    "print(read_instructions)\n",
    "with open('raw_data/read_reg_parsing_raw_dump.json', 'w') as file:\n",
    "    json.dump(read_instructions, file)"
   ]
  }
 ],
 "metadata": {
  "kernelspec": {
   "display_name": "env",
   "language": "python",
   "name": "python3"
  },
  "language_info": {
   "codemirror_mode": {
    "name": "ipython",
    "version": 3
   },
   "file_extension": ".py",
   "mimetype": "text/x-python",
   "name": "python",
   "nbconvert_exporter": "python",
   "pygments_lexer": "ipython3",
   "version": "3.11.5"
  }
 },
 "nbformat": 4,
 "nbformat_minor": 2
}
