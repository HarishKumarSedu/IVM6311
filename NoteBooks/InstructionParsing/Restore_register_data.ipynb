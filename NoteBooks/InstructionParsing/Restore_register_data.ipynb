{
 "cells": [
  {
   "cell_type": "code",
   "execution_count": 5,
   "metadata": {},
   "outputs": [],
   "source": [
    "import os \n",
    "from pathlib import Path\n",
    "abspath = Path('C:\\\\Users\\\\harkum\\\\Documents\\\\6311\\\\Software')\n",
    "os.chdir(abspath)"
   ]
  },
  {
   "cell_type": "markdown",
   "metadata": {},
   "source": [
    "<h2 style=' color: \t#0bff00;border-bottom: 2px dotted #ff0000;'> Restore Register data to the Variable </h2>"
   ]
  },
  {
   "cell_type": "markdown",
   "metadata": {},
   "source": [
    "```Restore__register address__variable name``` <i> example :~ Restore__varCB__0xCB \"int offset idle\" </i>"
   ]
  },
  {
   "cell_type": "markdown",
   "metadata": {},
   "source": [
    "<h3 style='color:#ffac00'> Parse all Restore Register data from variable </h3>"
   ]
  },
  {
   "cell_type": "code",
   "execution_count": 6,
   "metadata": {},
   "outputs": [
    {
     "name": "stdout",
     "output_type": "stream",
     "text": [
      "{0: {'page': 'DAC+PA', 'dft': 'DAC-PA OFFSET CALIBRATION DIGITAL_IN (both PDM, TDM)\\nThis procedure has the aim to measure the offset when the part will be in idle mode\\n', 'ins': 'Restore__varCB__0xCB \"int offset idle\"'}, 1: {'page': 'DAC+PA', 'dft': 'DAC-PA OFFSET CALIBRATION DIGITAL_IN (both PDM, TDM)\\nThis procedure has the aim to measure the offset when the part will be in idle mode\\n', 'ins': 'Restore__varCC__0x+D5CC \"int offset idle\"'}, 2: {'page': 'DAC+PA', 'dft': 'DAC-PA OFFSET CALIBRATION DIGITAL_IN (both PDM, TDM)\\nThis procedure has the aim to measure the offset when the part will be in idle mode\\n', 'ins': 'Restore__varCE__0xCE \"diff. ext-int in idle\"'}, 3: {'page': 'DAC+PA', 'dft': 'DAC-PA OFFSET CALIBRATION DIGITAL_IN (both PDM, TDM)\\nThis procedure has the aim to measure the offset when the part will be in idle mode\\n', 'ins': 'Restore__varCF__0xCF \"diff. ext-int in idle\"'}}\n"
     ]
    }
   ],
   "source": [
    "from typing import List\n",
    "import json\n",
    "import random\n",
    "import re \n",
    "import pandas as pd \n",
    "restore_instructions = {}\n",
    "i=0\n",
    "for sh in ['Digital','Reference','Boost','DAC+PA','AZ_COMP']:\n",
    "    sheet = 'raw_data/'+sh+'_data.csv'\n",
    "    data = pd.read_csv(sheet)\n",
    "    for col in data.columns.to_list()[1:]:\n",
    "        instructions = data[col][1].split('\\n')\n",
    "        for instruction in instructions:\n",
    "            if re.match('restore__', instruction.lower()):\n",
    "                restore_instructions.update({i : {\n",
    "                    'page':sh,\n",
    "                    'dft':col,\n",
    "                    'ins':instruction\n",
    "                }})\n",
    "                i+=1\n",
    "print(restore_instructions)\n",
    "with open('raw_data/json/restore_parsing_raw_dump.json', 'w') as file:\n",
    "    json.dump(restore_instructions, file)"
   ]
  },
  {
   "cell_type": "markdown",
   "metadata": {},
   "source": [
    "<h3 style = 'color:#00f6ff'> Extract the Register Address from Restore Command</h3>"
   ]
  },
  {
   "cell_type": "code",
   "execution_count": 7,
   "metadata": {},
   "outputs": [
    {
     "data": {
      "text/plain": [
       "['0xCB', 'varCB']"
      ]
     },
     "execution_count": 7,
     "metadata": {},
     "output_type": "execute_result"
    }
   ],
   "source": [
    "# This is the Approch \n",
    "pattern1=re.compile(r\"\\b(0[xX]+[0-9a-fA-F]+)+\\[(.*?)\\]\")\n",
    "re.findall(pattern1, '0xCB[7:4]')\n",
    "'Restore__0xCB__varCB'.split('__')[1:]"
   ]
  },
  {
   "cell_type": "code",
   "execution_count": 17,
   "metadata": {},
   "outputs": [
    {
     "data": {
      "text/plain": [
       "{'restoreReg': {'RegAddr': '0x0', 'MSB': '0x7', 'LSB': '0x1', 'Data': None},\n",
       " 'var': 'varCB'}"
      ]
     },
     "execution_count": 17,
     "metadata": {},
     "output_type": "execute_result"
    }
   ],
   "source": [
    "from typing import List\n",
    "\n",
    "def extract_RestoreRegister__Instruction(instruction: str)->dict:\n",
    "    # Remove the comments from the register\n",
    "    if re.search(r\"\\\"(.*?)\\\"\",instruction):\n",
    "        instruction = re.sub(r\"\\\"(.*?)\\\"\",'',instruction)\n",
    "        \n",
    "    pattern1=re.compile(r\"\\b(0[xX]+[0-9a-fA-F]+)+\\[(.*?)\\]\")\n",
    "    register ={}\n",
    "    def register_format(reg:List):\n",
    "        instruction_length = len(reg)\n",
    "        register = {}\n",
    "        # there is no bit field it is the default size\n",
    "        if instruction_length == 2:\n",
    "            if \":\" in reg[1]:\n",
    "                bits = reg[1].split(':')\n",
    "                register={\n",
    "                \"RegAddr\" : hex(int(reg[0],16)),\n",
    "                \"MSB\" :hex(int(bits[1],16)),\n",
    "                \"LSB\" : hex(int(bits[0],16)),\n",
    "                \"Data\" : None,\n",
    "                }\n",
    "            else:\n",
    "                register={\n",
    "                    \"RegAddr\" : hex(int(reg[0],16)),\n",
    "                    \"MSB\" : 7,\n",
    "                    \"LSB\" : 0,\n",
    "                    \"Data\" : hex(int(reg[1],16)),\n",
    "                }\n",
    "        # check for the bit field \n",
    "        elif instruction_length == 3:\n",
    "            #check for the single bit or bit field \n",
    "            if \":\" in reg[1]:\n",
    "                bits = reg[1].split(':')\n",
    "                register={\n",
    "                \"RegAddr\" : hex(int(reg[0],16)),\n",
    "                \"MSB\" :hex(int(bits[1],16)),\n",
    "                \"LSB\" : hex(int(bits[0],16)),\n",
    "                \"Data\" : hex(int(reg[2],16)),\n",
    "                }\n",
    "        else :\n",
    "            #check for the single bit or bit field \n",
    "            register={\n",
    "            \"RegAddr\" : hex(int(reg[0],16)),\n",
    "            \"MSB\" :'0x7',\n",
    "            \"LSB\" : '0x1',\n",
    "            \"Data\" : None,\n",
    "            }\n",
    "        return register\n",
    "    \n",
    "    if 'restore__' in instruction.lower():\n",
    "        if len(regs := [ re.findall(pattern1, i)[0] if re.match(pattern1, i) else i for i in instruction.split('__')[1:]  ] ) == 2:\n",
    "            if restoreReg := register_format(regs[1]):\n",
    "                register={\n",
    "                        \"restoreReg\":restoreReg,\n",
    "                        \"var\":regs[0],\n",
    "                    }\n",
    "        else:\n",
    "            register =register\n",
    "    else:\n",
    "        register = register\n",
    "    \n",
    "    return register\n",
    "extract_RestoreRegister__Instruction('Restore__varCB__0xCB \"int offset idle\"')"
   ]
  },
  {
   "cell_type": "markdown",
   "metadata": {},
   "source": [
    "<h3 style='color: #fff100'> Test restore Instruction </h3>"
   ]
  },
  {
   "cell_type": "code",
   "execution_count": 18,
   "metadata": {},
   "outputs": [],
   "source": [
    "clean_restore_instructions = {}\n",
    "for i,instruction_set in restore_instructions.items():\n",
    "    # print(instruction_set)\n",
    "    instruction = instruction_set.get('ins')\n",
    "    if register_instruction_parse := extract_RestoreRegister__Instruction(instruction):\n",
    "        # print(register_instruction_parse)\n",
    "        clean_restore_instructions.update({\n",
    "            i:{\n",
    "                'set':instruction_set,\n",
    "                'clean':register_instruction_parse\n",
    "            }\n",
    "        })\n",
    "    else:\n",
    "        print(instruction)\n",
    "        clean_restore_instructions.update({\n",
    "            i:None\n",
    "        })\n",
    "with open('raw_data/json/clean_restore_instructions.json', 'w') as file:\n",
    "    json.dump(clean_restore_instructions, file)"
   ]
  }
 ],
 "metadata": {
  "kernelspec": {
   "display_name": "env",
   "language": "python",
   "name": "python3"
  },
  "language_info": {
   "codemirror_mode": {
    "name": "ipython",
    "version": 3
   },
   "file_extension": ".py",
   "mimetype": "text/x-python",
   "name": "python",
   "nbconvert_exporter": "python",
   "pygments_lexer": "ipython3",
   "version": "3.11.5"
  }
 },
 "nbformat": 4,
 "nbformat_minor": 2
}
