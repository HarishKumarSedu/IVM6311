{
 "cells": [
  {
   "cell_type": "markdown",
   "metadata": {},
   "source": [
    "<h1 style=\"color:#4CCD99; border-bottom: 2px dotted #FF204E;  \"'> Parsing the DFT limits </h1>"
   ]
  },
  {
   "cell_type": "code",
   "execution_count": 16,
   "metadata": {},
   "outputs": [],
   "source": [
    "# change the root directory\n",
    "import os \n",
    "from pathlib import Path\n",
    "abspath = Path('C:\\\\Users\\\\harkum\\\\Documents\\\\6311\\\\Software')\n",
    "os.chdir(abspath)"
   ]
  },
  {
   "cell_type": "code",
   "execution_count": 15,
   "metadata": {},
   "outputs": [
    {
     "name": "stdout",
     "output_type": "stream",
     "text": [
      "{'Digital': {'BIST': {'min': '1.793', 'typ': '1.799', 'max': '1.804', 'unit': 'V'}, 'PAD LOOPBACK': {'min': '1.793', 'typ': '1.799', 'max': '1.804', 'unit': 'V'}, 'SCAN': {'min': '1.793', 'typ': '1.799', 'max': '1.804', 'unit': 'V'}}, 'Reference': {'UVLO': {'min': nan, 'typ': 'VBAT', 'max': nan, 'unit': 'V'}, 'VBGR_ADJ_TRIM': {'min': '1.793', 'typ': '1.799', 'max': '1.804', 'unit': 'V'}, 'OUT_TEST_FRO_VVCO ': {'min': nan, 'typ': '820m', 'max': nan, 'unit': 'V'}, 'OUT_TEST_FRO_IMSB': {'min': nan, 'typ': '520n', 'max': nan, 'unit': 'A'}, 'TSDN': {'min': nan, 'typ': '0.542', 'max': nan, 'unit': 'V'}, 'REF_LDO': {'min': '1.796', 'typ': '1.799', 'max': '1.802', 'unit': 'V'}, 'FRO_CLOCK': {'min': '12.5', 'typ': '13', 'max': '13.5', 'unit': 'MHz'}}}\n"
     ]
    }
   ],
   "source": [
    "\n",
    "import json\n",
    "import re \n",
    "import pandas as pd \n",
    "i=0\n",
    "limits = {}\n",
    "for sh in ['Digital','Reference']:\n",
    "    limit = {}\n",
    "    sheet = 'raw_data/'+sh+'_data.csv'\n",
    "    data = pd.read_csv(sheet)\n",
    "    for index,col in enumerate(data.columns.to_list()[1:]):\n",
    "        minimum = data[col][2]\n",
    "        typical = data[col][4]\n",
    "        maximum = data[col][5]\n",
    "        unit = data[col][7]\n",
    "        limit.update({\n",
    "                col:{\n",
    "                \"min\":minimum,\n",
    "                \"typ\":typical,\n",
    "                \"max\":maximum,\n",
    "                \"unit\":unit,\n",
    "            }\n",
    "            }\n",
    "        )\n",
    "    limits.update({\n",
    "        sh:limit\n",
    "    })\n",
    "print(limits)"
   ]
  },
  {
   "cell_type": "markdown",
   "metadata": {},
   "source": [
    "<h3 style='color:#94FFD8'> Limits units/ limits Scaling (cleaning)</h3>"
   ]
  },
  {
   "cell_type": "code",
   "execution_count": 45,
   "metadata": {},
   "outputs": [
    {
     "name": "stdout",
     "output_type": "stream",
     "text": [
      ".....................Digital......................\n",
      "BIST                :\n",
      " min:1.793\n",
      " typ:1.799\n",
      " max:1.804\n",
      " unit:V\n",
      "\n",
      "PAD LOOPBACK        :\n",
      " min:1.793\n",
      " typ:1.799\n",
      " max:1.804\n",
      " unit:V\n",
      "\n",
      "SCAN                :\n",
      " min:1.793\n",
      " typ:1.799\n",
      " max:1.804\n",
      " unit:V\n",
      "\n",
      "....................Reference.....................\n",
      "UVLO                :\n",
      " min:nan\n",
      " typ:VBAT\n",
      " max:nan\n",
      " unit:V\n",
      "\n",
      "VBGR_ADJ_TRIM       :\n",
      " min:1.793\n",
      " typ:1.799\n",
      " max:1.804\n",
      " unit:V\n",
      "\n",
      "OUT_TEST_FRO_VVCO   :\n",
      " min:nan\n",
      " typ:820m\n",
      " max:nan\n",
      " unit:V\n",
      "\n",
      "OUT_TEST_FRO_IMSB   :\n",
      " min:nan\n",
      " typ:520n\n",
      " max:nan\n",
      " unit:A\n",
      "\n",
      "TSDN                :\n",
      " min:nan\n",
      " typ:0.542\n",
      " max:nan\n",
      " unit:V\n",
      "\n",
      "REF_LDO             :\n",
      " min:1.796\n",
      " typ:1.799\n",
      " max:1.802\n",
      " unit:V\n",
      "\n",
      "FRO_CLOCK           :\n",
      " min:12.5\n",
      " typ:13\n",
      " max:13.5\n",
      " unit:MHz\n",
      "\n"
     ]
    }
   ],
   "source": [
    "# loop the units in the test matrix \n",
    "for page, test in limits.items():\n",
    "    print(f'{page:.^50}')\n",
    "    for testname, lims in test.items():\n",
    "        print(f'{testname:<20}:' )\n",
    "        print(f\" min:{lims.get('min')}\\n typ:{lims.get('typ')}\\n max:{lims.get('max')}\\n unit:{lims.get('unit')}\\n\\r\")"
   ]
  }
 ],
 "metadata": {
  "kernelspec": {
   "display_name": "env",
   "language": "python",
   "name": "python3"
  },
  "language_info": {
   "codemirror_mode": {
    "name": "ipython",
    "version": 3
   },
   "file_extension": ".py",
   "mimetype": "text/x-python",
   "name": "python",
   "nbconvert_exporter": "python",
   "pygments_lexer": "ipython3",
   "version": "3.11.5"
  }
 },
 "nbformat": 4,
 "nbformat_minor": 2
}
